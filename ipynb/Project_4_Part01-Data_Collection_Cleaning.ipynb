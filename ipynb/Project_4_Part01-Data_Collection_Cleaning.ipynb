{
 "cells": [
  {
   "cell_type": "markdown",
   "metadata": {},
   "source": [
    "# Semantic Search"
   ]
  },
  {
   "cell_type": "markdown",
   "metadata": {},
   "source": [
    "## The Task\n",
    "The task has three parts -- data collection, data exploration / algorithm development, then finally predictive modeling.\n",
    "\n",
    "![](http://interactive.blockdiag.com/image?compression=deflate&encoding=base64&src=eJxdjrsOwjAMRXe-wlsmRhaQkDoiMSDxBW5slahtHDmGCiH-nfQxtKy-59zruhPfUsAGPjsA56XvMdIRSIbYCZKD_RncENqQuGBQ3S7TidCwxsynjZUZ1T8m4HqvJlXZnhrBJMHBbWlTDHEeSFravYUXQy_E3TKrwbioMKb5z16UmRxfXZurVY_GjegbhqJIjaXm-wNmzE4W)"
   ]
  },
  {
   "cell_type": "markdown",
   "metadata": {},
   "source": [
    "### Part I - Data Collection"
   ]
  },
  {
   "cell_type": "markdown",
   "metadata": {},
   "source": [
    "Query the wikipedia API and **collect all of the articles** under the following wikipedia categories:\n",
    "* [Machine Learning](https://en.wikipedia.org/wiki/Category:Machine_learning)\n",
    "* [Business Software](https://en.wikipedia.org/wiki/Category:Business_software)\n",
    "\n",
    "The code should be modular enough that any valid category from Wikipedia can be queried by the code.\n",
    "\n",
    "The results of the query should be written to PostgreSQL tables, `page` and `category`. \n",
    "Build some sort of reference between the pages and categories. \n",
    "(Keep in mind that a page can have many categories and a category can have many pages so a straight foreign key arrangement will not work.)"
   ]
  },
  {
   "cell_type": "code",
   "execution_count": null,
   "metadata": {
    "collapsed": true
   },
   "outputs": [],
   "source": [
    "!pip install wikipedia"
   ]
  },
  {
   "cell_type": "code",
   "execution_count": 176,
   "metadata": {
    "collapsed": true
   },
   "outputs": [],
   "source": [
    "import wikipedia\n",
    "import requests\n",
    "from bs4 import BeautifulSoup\n",
    "import pandas as pd\n",
    "import numpy as np\n",
    "import re\n",
    "import string\n",
    "import pickle"
   ]
  },
  {
   "cell_type": "code",
   "execution_count": 3,
   "metadata": {
    "collapsed": true
   },
   "outputs": [],
   "source": [
    "# write a function to jsonify the category names for a category page\n",
    "\n",
    "def jsonify_wiki_category (category_name): \n",
    "    '''\n",
    "    Insert category name as a string, note that this is case sensitive\n",
    "    Make sure to import requests \n",
    "    Make sure to import pandas \n",
    "    '''\n",
    "    base_url = 'https://en.wikipedia.org/w/api.php'\n",
    "    action = '?action=query'\n",
    "    parameters = '&list=categorymembers' + '&cmtitle='\n",
    "    params = '&cmlimit=max'\n",
    "    form = '&format=json'\n",
    "    \n",
    "    category_name_url = base_url + action + parameters + category_name + params + form\n",
    "    category_name_response = requests.get(category_name_url)\n",
    "    category_name_json = category_name_response.json()\n",
    "    return category_name_json\n",
    "    "
   ]
  },
  {
   "cell_type": "code",
   "execution_count": 4,
   "metadata": {
    "collapsed": true
   },
   "outputs": [],
   "source": [
    "def dfize_category_names (category_name):\n",
    "    '''\n",
    "    takes a category name formatted as 'Category:_____'\n",
    "    '''\n",
    "    category_name_json = jsonify_wiki_category(category_name)\n",
    "    category_name_df = pd.DataFrame(category_name_json['query']['categorymembers'])\n",
    "    category_name_df['category'] = [category_name for pageid in category_name_df['pageid'] if pageid!=0]\n",
    "    \n",
    "    return category_name_df"
   ]
  },
  {
   "cell_type": "code",
   "execution_count": 5,
   "metadata": {
    "collapsed": true
   },
   "outputs": [],
   "source": [
    "def dfize_cat_articles_only (category_name):\n",
    "    category_name_df = dfize_category_names(category_name)\n",
    "    articles_list = []\n",
    "    \n",
    "    category_mask = category_name_df['title'].str.contains('Category:')\n",
    "    articles_df = category_name_df[~category_mask]\n",
    "    articles_list.append(articles_df)\n",
    "    article_titles_list = articles_df['title'].tolist()\n",
    "    \n",
    "    return articles_df"
   ]
  },
  {
   "cell_type": "code",
   "execution_count": 6,
   "metadata": {
    "collapsed": true
   },
   "outputs": [],
   "source": [
    "ml_df = dfize_cat_articles_only('Category:Machine_learning')"
   ]
  },
  {
   "cell_type": "code",
   "execution_count": 7,
   "metadata": {},
   "outputs": [
    {
     "data": {
      "text/plain": [
       "(198, 4)"
      ]
     },
     "execution_count": 7,
     "metadata": {},
     "output_type": "execute_result"
    }
   ],
   "source": [
    "ml_df.shape"
   ]
  },
  {
   "cell_type": "code",
   "execution_count": 8,
   "metadata": {
    "collapsed": true
   },
   "outputs": [],
   "source": [
    "bs_df = dfize_cat_articles_only('Category:Business_software')"
   ]
  },
  {
   "cell_type": "code",
   "execution_count": 9,
   "metadata": {},
   "outputs": [
    {
     "data": {
      "text/plain": [
       "(298, 4)"
      ]
     },
     "execution_count": 9,
     "metadata": {},
     "output_type": "execute_result"
    }
   ],
   "source": [
    "bs_df.shape"
   ]
  },
  {
   "cell_type": "code",
   "execution_count": 10,
   "metadata": {
    "collapsed": true
   },
   "outputs": [],
   "source": [
    "def list_subcategories (category_name):\n",
    "    category_name_df = dfize_category_names(category_name)\n",
    "    subcat_list = []\n",
    "    \n",
    "    category_mask = category_name_df['title'].str.contains('Category:')\n",
    "    subcat_df = category_name_df[category_mask]\n",
    "    subcat_list.append(subcat_df)\n",
    "    #category_name_df = pd.concat(subcat_list)\n",
    "    subcat_list = subcat_df['title'].tolist()\n",
    "    \n",
    "    return subcat_list"
   ]
  },
  {
   "cell_type": "code",
   "execution_count": 11,
   "metadata": {
    "collapsed": true
   },
   "outputs": [],
   "source": [
    "def dfize_subcategory_article (category_name):\n",
    "    subcat_list = list_subcategories(category_name)\n",
    "    subcat_temp = []\n",
    "    \n",
    "    for subcat in subcat_list:\n",
    "        df = dfize_category_names(subcat)\n",
    "        category_mask = df['title'].str.contains('Category:')\n",
    "        \n",
    "        df_articles_only = df[~category_mask]\n",
    "        \n",
    "        subcat_temp.append(df_articles_only)\n",
    "        df = pd.concat(subcat_temp)    \n",
    "\n",
    "    return df\n",
    "    "
   ]
  },
  {
   "cell_type": "code",
   "execution_count": 12,
   "metadata": {
    "collapsed": true
   },
   "outputs": [],
   "source": [
    "ml_subcat_df = dfize_subcategory_article('Category:Machine_learning')"
   ]
  },
  {
   "cell_type": "code",
   "execution_count": 13,
   "metadata": {},
   "outputs": [
    {
     "data": {
      "text/plain": [
       "(826, 4)"
      ]
     },
     "execution_count": 13,
     "metadata": {},
     "output_type": "execute_result"
    }
   ],
   "source": [
    "ml_subcat_df.shape"
   ]
  },
  {
   "cell_type": "code",
   "execution_count": 19,
   "metadata": {
    "collapsed": true
   },
   "outputs": [],
   "source": [
    "bs_subcat_df = dfize_subcategory_article('Category:Business software')"
   ]
  },
  {
   "cell_type": "code",
   "execution_count": 20,
   "metadata": {},
   "outputs": [
    {
     "data": {
      "text/plain": [
       "(1465, 4)"
      ]
     },
     "execution_count": 20,
     "metadata": {},
     "output_type": "execute_result"
    }
   ],
   "source": [
    "bs_subcat_df.shape"
   ]
  },
  {
   "cell_type": "code",
   "execution_count": 21,
   "metadata": {
    "collapsed": true
   },
   "outputs": [],
   "source": [
    "# write a function that jsonifies the articles\n",
    "\n",
    "def jsonify_wiki_article (article_name): \n",
    "    '''\n",
    "    Insert category name as a string, note that this is case sensitive\n",
    "    Make sure to import requests first before using this functiona\n",
    "    '''\n",
    "    base_url = 'https://en.wikipedia.org/w/api.php'\n",
    "    action = '?action=parse'\n",
    "    prop = '&page='\n",
    "    form = '&format=json'\n",
    "    \n",
    "    article_name_url = base_url + action + prop + article_name + form\n",
    "    article_name_response = requests.get(article_name_url)\n",
    "    article_name_json = article_name_response.json()\n",
    "    return article_name_json\n",
    "    "
   ]
  },
  {
   "cell_type": "code",
   "execution_count": 156,
   "metadata": {
    "collapsed": true
   },
   "outputs": [],
   "source": [
    "# get the article in html format\n",
    "\n",
    "def htmlify_wiki_article (article_name):\n",
    "    article_name_json = jsonify_wiki_article(article_name)\n",
    "    article_name_html = article_name_json['parse']['text']['*'] if not article_name_json.get('error') else ''\n",
    "    return article_name_html"
   ]
  },
  {
   "cell_type": "code",
   "execution_count": 64,
   "metadata": {
    "collapsed": true
   },
   "outputs": [],
   "source": [
    "# run beautiful soup on the html format to do a 1st pass at cleaning the html to just text\n",
    "\n",
    "def beautify_html_article (article_name):\n",
    "    article_name_html = htmlify_wiki_article(article_name)\n",
    "    soup = BeautifulSoup(article_name_html, 'html.parser')\n",
    "    article_text = soup.get_text().replace('\\n', '')\n",
    "    return article_text"
   ]
  },
  {
   "cell_type": "code",
   "execution_count": 24,
   "metadata": {
    "collapsed": true
   },
   "outputs": [],
   "source": [
    "ml_article_content = []\n",
    "\n",
    "for article in ml_df['title'].tolist():\n",
    "    page = beautify_html_article(article)\n",
    "    ml_article_content.append(page)"
   ]
  },
  {
   "cell_type": "code",
   "execution_count": 25,
   "metadata": {
    "collapsed": true
   },
   "outputs": [],
   "source": [
    "ml_df['text'] = ml_article_content"
   ]
  },
  {
   "cell_type": "code",
   "execution_count": 143,
   "metadata": {},
   "outputs": [
    {
     "data": {
      "text/html": [
       "<div>\n",
       "<table border=\"1\" class=\"dataframe\">\n",
       "  <thead>\n",
       "    <tr style=\"text-align: right;\">\n",
       "      <th></th>\n",
       "      <th>ns</th>\n",
       "      <th>pageid</th>\n",
       "      <th>title</th>\n",
       "      <th>category</th>\n",
       "      <th>text</th>\n",
       "    </tr>\n",
       "  </thead>\n",
       "  <tbody>\n",
       "    <tr>\n",
       "      <th>0</th>\n",
       "      <td>0</td>\n",
       "      <td>43385931</td>\n",
       "      <td>Data exploration</td>\n",
       "      <td>Category:Machine_learning</td>\n",
       "      <td>this article has multiple issues please help i...</td>\n",
       "    </tr>\n",
       "    <tr>\n",
       "      <th>1</th>\n",
       "      <td>0</td>\n",
       "      <td>49082762</td>\n",
       "      <td>List of datasets for machine learning research</td>\n",
       "      <td>Category:Machine_learning</td>\n",
       "      <td>machine learning anddata miningproblemsclassif...</td>\n",
       "    </tr>\n",
       "    <tr>\n",
       "      <th>2</th>\n",
       "      <td>0</td>\n",
       "      <td>233488</td>\n",
       "      <td>Machine learning</td>\n",
       "      <td>Category:Machine_learning</td>\n",
       "      <td>for the journal see machine learning journal m...</td>\n",
       "    </tr>\n",
       "    <tr>\n",
       "      <th>3</th>\n",
       "      <td>0</td>\n",
       "      <td>53587467</td>\n",
       "      <td>Outline of machine learning</td>\n",
       "      <td>Category:Machine_learning</td>\n",
       "      <td>the following outline is provided as an overvi...</td>\n",
       "    </tr>\n",
       "    <tr>\n",
       "      <th>4</th>\n",
       "      <td>0</td>\n",
       "      <td>53198248</td>\n",
       "      <td>Singular statistical model</td>\n",
       "      <td>Category:Machine_learning</td>\n",
       "      <td>this article needs more links to other article...</td>\n",
       "    </tr>\n",
       "  </tbody>\n",
       "</table>\n",
       "</div>"
      ],
      "text/plain": [
       "   ns    pageid                                           title  \\\n",
       "0   0  43385931                                Data exploration   \n",
       "1   0  49082762  List of datasets for machine learning research   \n",
       "2   0    233488                                Machine learning   \n",
       "3   0  53587467                     Outline of machine learning   \n",
       "4   0  53198248                      Singular statistical model   \n",
       "\n",
       "                    category  \\\n",
       "0  Category:Machine_learning   \n",
       "1  Category:Machine_learning   \n",
       "2  Category:Machine_learning   \n",
       "3  Category:Machine_learning   \n",
       "4  Category:Machine_learning   \n",
       "\n",
       "                                                text  \n",
       "0  this article has multiple issues please help i...  \n",
       "1  machine learning anddata miningproblemsclassif...  \n",
       "2  for the journal see machine learning journal m...  \n",
       "3  the following outline is provided as an overvi...  \n",
       "4  this article needs more links to other article...  "
      ]
     },
     "execution_count": 143,
     "metadata": {},
     "output_type": "execute_result"
    }
   ],
   "source": [
    "ml_df.head()"
   ]
  },
  {
   "cell_type": "code",
   "execution_count": 185,
   "metadata": {
    "collapsed": true
   },
   "outputs": [],
   "source": [
    "ml_parent_df = ml_df.rename(columns={'category':'parentcategory'})"
   ]
  },
  {
   "cell_type": "code",
   "execution_count": 186,
   "metadata": {},
   "outputs": [
    {
     "data": {
      "text/html": [
       "<div>\n",
       "<table border=\"1\" class=\"dataframe\">\n",
       "  <thead>\n",
       "    <tr style=\"text-align: right;\">\n",
       "      <th></th>\n",
       "      <th>ns</th>\n",
       "      <th>pageid</th>\n",
       "      <th>title</th>\n",
       "      <th>parentcategory</th>\n",
       "      <th>text</th>\n",
       "    </tr>\n",
       "  </thead>\n",
       "  <tbody>\n",
       "    <tr>\n",
       "      <th>0</th>\n",
       "      <td>0</td>\n",
       "      <td>43385931</td>\n",
       "      <td>Data exploration</td>\n",
       "      <td>Category:Machine_learning</td>\n",
       "      <td>this article has multiple issues please help i...</td>\n",
       "    </tr>\n",
       "    <tr>\n",
       "      <th>1</th>\n",
       "      <td>0</td>\n",
       "      <td>49082762</td>\n",
       "      <td>List of datasets for machine learning research</td>\n",
       "      <td>Category:Machine_learning</td>\n",
       "      <td>machine learning anddata miningproblemsclassif...</td>\n",
       "    </tr>\n",
       "    <tr>\n",
       "      <th>2</th>\n",
       "      <td>0</td>\n",
       "      <td>233488</td>\n",
       "      <td>Machine learning</td>\n",
       "      <td>Category:Machine_learning</td>\n",
       "      <td>for the journal see machine learning journal m...</td>\n",
       "    </tr>\n",
       "    <tr>\n",
       "      <th>3</th>\n",
       "      <td>0</td>\n",
       "      <td>53587467</td>\n",
       "      <td>Outline of machine learning</td>\n",
       "      <td>Category:Machine_learning</td>\n",
       "      <td>the following outline is provided as an overvi...</td>\n",
       "    </tr>\n",
       "    <tr>\n",
       "      <th>4</th>\n",
       "      <td>0</td>\n",
       "      <td>53198248</td>\n",
       "      <td>Singular statistical model</td>\n",
       "      <td>Category:Machine_learning</td>\n",
       "      <td>this article needs more links to other article...</td>\n",
       "    </tr>\n",
       "  </tbody>\n",
       "</table>\n",
       "</div>"
      ],
      "text/plain": [
       "   ns    pageid                                           title  \\\n",
       "0   0  43385931                                Data exploration   \n",
       "1   0  49082762  List of datasets for machine learning research   \n",
       "2   0    233488                                Machine learning   \n",
       "3   0  53587467                     Outline of machine learning   \n",
       "4   0  53198248                      Singular statistical model   \n",
       "\n",
       "              parentcategory  \\\n",
       "0  Category:Machine_learning   \n",
       "1  Category:Machine_learning   \n",
       "2  Category:Machine_learning   \n",
       "3  Category:Machine_learning   \n",
       "4  Category:Machine_learning   \n",
       "\n",
       "                                                text  \n",
       "0  this article has multiple issues please help i...  \n",
       "1  machine learning anddata miningproblemsclassif...  \n",
       "2  for the journal see machine learning journal m...  \n",
       "3  the following outline is provided as an overvi...  \n",
       "4  this article needs more links to other article...  "
      ]
     },
     "execution_count": 186,
     "metadata": {},
     "output_type": "execute_result"
    }
   ],
   "source": [
    "ml_parent_df.head()"
   ]
  },
  {
   "cell_type": "code",
   "execution_count": null,
   "metadata": {
    "collapsed": true
   },
   "outputs": [],
   "source": []
  },
  {
   "cell_type": "code",
   "execution_count": 26,
   "metadata": {
    "collapsed": true
   },
   "outputs": [],
   "source": [
    "bs_article_content = []\n",
    "\n",
    "for article in bs_df['title'].tolist():\n",
    "    page = beautify_html_article(article)\n",
    "    bs_article_content.append(page)"
   ]
  },
  {
   "cell_type": "code",
   "execution_count": 27,
   "metadata": {
    "collapsed": true
   },
   "outputs": [],
   "source": [
    "bs_df['text'] = bs_article_content"
   ]
  },
  {
   "cell_type": "code",
   "execution_count": 198,
   "metadata": {},
   "outputs": [],
   "source": [
    "bs_parent_df = bs_df.rename(columns={'category':'parentcategory'})"
   ]
  },
  {
   "cell_type": "code",
   "execution_count": 199,
   "metadata": {},
   "outputs": [
    {
     "data": {
      "text/html": [
       "<div>\n",
       "<table border=\"1\" class=\"dataframe\">\n",
       "  <thead>\n",
       "    <tr style=\"text-align: right;\">\n",
       "      <th></th>\n",
       "      <th>ns</th>\n",
       "      <th>pageid</th>\n",
       "      <th>title</th>\n",
       "      <th>parentcategory</th>\n",
       "      <th>text</th>\n",
       "    </tr>\n",
       "  </thead>\n",
       "  <tbody>\n",
       "    <tr>\n",
       "      <th>0</th>\n",
       "      <td>0</td>\n",
       "      <td>1037763</td>\n",
       "      <td>Business software</td>\n",
       "      <td>Category:Business_software</td>\n",
       "      <td>it has been suggested that this article be mer...</td>\n",
       "    </tr>\n",
       "    <tr>\n",
       "      <th>1</th>\n",
       "      <td>0</td>\n",
       "      <td>41270069</td>\n",
       "      <td>AccuSystems</td>\n",
       "      <td>Category:Business_software</td>\n",
       "      <td>this article has multiple issues please help i...</td>\n",
       "    </tr>\n",
       "    <tr>\n",
       "      <th>2</th>\n",
       "      <td>0</td>\n",
       "      <td>5211212</td>\n",
       "      <td>Active policy management</td>\n",
       "      <td>Category:Business_software</td>\n",
       "      <td>active policy management is business oriented ...</td>\n",
       "    </tr>\n",
       "    <tr>\n",
       "      <th>3</th>\n",
       "      <td>0</td>\n",
       "      <td>28502793</td>\n",
       "      <td>Alexandria (library software)</td>\n",
       "      <td>Category:Business_software</td>\n",
       "      <td>for other uses see alexandria alexandria is br...</td>\n",
       "    </tr>\n",
       "    <tr>\n",
       "      <th>4</th>\n",
       "      <td>0</td>\n",
       "      <td>44133735</td>\n",
       "      <td>Alteryx</td>\n",
       "      <td>Category:Business_software</td>\n",
       "      <td>alteryxtypepublictraded asnyse ayxindustrycomp...</td>\n",
       "    </tr>\n",
       "  </tbody>\n",
       "</table>\n",
       "</div>"
      ],
      "text/plain": [
       "   ns    pageid                          title              parentcategory  \\\n",
       "0   0   1037763              Business software  Category:Business_software   \n",
       "1   0  41270069                    AccuSystems  Category:Business_software   \n",
       "2   0   5211212       Active policy management  Category:Business_software   \n",
       "3   0  28502793  Alexandria (library software)  Category:Business_software   \n",
       "4   0  44133735                        Alteryx  Category:Business_software   \n",
       "\n",
       "                                                text  \n",
       "0  it has been suggested that this article be mer...  \n",
       "1  this article has multiple issues please help i...  \n",
       "2  active policy management is business oriented ...  \n",
       "3  for other uses see alexandria alexandria is br...  \n",
       "4  alteryxtypepublictraded asnyse ayxindustrycomp...  "
      ]
     },
     "execution_count": 199,
     "metadata": {},
     "output_type": "execute_result"
    }
   ],
   "source": [
    "bs_parent_df.head()"
   ]
  },
  {
   "cell_type": "code",
   "execution_count": null,
   "metadata": {
    "collapsed": true
   },
   "outputs": [],
   "source": []
  },
  {
   "cell_type": "code",
   "execution_count": 66,
   "metadata": {
    "collapsed": true,
    "scrolled": false
   },
   "outputs": [],
   "source": [
    "ml_subcat_article_content = []\n",
    "\n",
    "for article in ml_subcat_df['title'].tolist()[:400]:\n",
    "    page = beautify_html_article(article)\n",
    "    ml_subcat_article_content.append(page)"
   ]
  },
  {
   "cell_type": "code",
   "execution_count": 67,
   "metadata": {
    "collapsed": true
   },
   "outputs": [],
   "source": [
    "for article in ml_subcat_df['title'].tolist()[400:600]:\n",
    "    page = beautify_html_article(article)\n",
    "    ml_subcat_article_content.append(page)"
   ]
  },
  {
   "cell_type": "code",
   "execution_count": 68,
   "metadata": {
    "collapsed": true
   },
   "outputs": [],
   "source": [
    "for article in ml_subcat_df['title'].tolist()[600:]:\n",
    "    page = beautify_html_article(article)\n",
    "    ml_subcat_article_content.append(page)"
   ]
  },
  {
   "cell_type": "code",
   "execution_count": 69,
   "metadata": {},
   "outputs": [
    {
     "data": {
      "text/plain": [
       "826"
      ]
     },
     "execution_count": 69,
     "metadata": {},
     "output_type": "execute_result"
    }
   ],
   "source": [
    "len(ml_subcat_article_content)"
   ]
  },
  {
   "cell_type": "code",
   "execution_count": 71,
   "metadata": {
    "collapsed": true
   },
   "outputs": [],
   "source": [
    "ml_subcat_df['text'] = ml_subcat_article_content"
   ]
  },
  {
   "cell_type": "code",
   "execution_count": 147,
   "metadata": {},
   "outputs": [
    {
     "data": {
      "text/html": [
       "<div>\n",
       "<table border=\"1\" class=\"dataframe\">\n",
       "  <thead>\n",
       "    <tr style=\"text-align: right;\">\n",
       "      <th></th>\n",
       "      <th>ns</th>\n",
       "      <th>pageid</th>\n",
       "      <th>title</th>\n",
       "      <th>category</th>\n",
       "      <th>text</th>\n",
       "    </tr>\n",
       "  </thead>\n",
       "  <tbody>\n",
       "    <tr>\n",
       "      <th>22</th>\n",
       "      <td>0</td>\n",
       "      <td>38156432</td>\n",
       "      <td>CoDi</td>\n",
       "      <td>Category:Artificial neural networks</td>\n",
       "      <td>this article is about the cellular automaton f...</td>\n",
       "    </tr>\n",
       "    <tr>\n",
       "      <th>37</th>\n",
       "      <td>0</td>\n",
       "      <td>1237612</td>\n",
       "      <td>Delta rule</td>\n",
       "      <td>Category:Artificial neural networks</td>\n",
       "      <td>this article has multiple issues please help i...</td>\n",
       "    </tr>\n",
       "    <tr>\n",
       "      <th>7</th>\n",
       "      <td>0</td>\n",
       "      <td>2229040</td>\n",
       "      <td>Factored language model</td>\n",
       "      <td>Category:Statistical natural language processing</td>\n",
       "      <td>the factored language model flm is an extensio...</td>\n",
       "    </tr>\n",
       "    <tr>\n",
       "      <th>8</th>\n",
       "      <td>0</td>\n",
       "      <td>76996</td>\n",
       "      <td>Self-organizing map</td>\n",
       "      <td>Category:Unsupervised learning</td>\n",
       "      <td>this article may require cleanup to meet wikip...</td>\n",
       "    </tr>\n",
       "    <tr>\n",
       "      <th>8</th>\n",
       "      <td>0</td>\n",
       "      <td>33391687</td>\n",
       "      <td>Constrained clustering</td>\n",
       "      <td>Category:Cluster analysis</td>\n",
       "      <td>in computer science constrained clustering is ...</td>\n",
       "    </tr>\n",
       "  </tbody>\n",
       "</table>\n",
       "</div>"
      ],
      "text/plain": [
       "    ns    pageid                    title  \\\n",
       "22   0  38156432                     CoDi   \n",
       "37   0   1237612               Delta rule   \n",
       "7    0   2229040  Factored language model   \n",
       "8    0     76996      Self-organizing map   \n",
       "8    0  33391687   Constrained clustering   \n",
       "\n",
       "                                            category  \\\n",
       "22               Category:Artificial neural networks   \n",
       "37               Category:Artificial neural networks   \n",
       "7   Category:Statistical natural language processing   \n",
       "8                     Category:Unsupervised learning   \n",
       "8                          Category:Cluster analysis   \n",
       "\n",
       "                                                 text  \n",
       "22  this article is about the cellular automaton f...  \n",
       "37  this article has multiple issues please help i...  \n",
       "7   the factored language model flm is an extensio...  \n",
       "8   this article may require cleanup to meet wikip...  \n",
       "8   in computer science constrained clustering is ...  "
      ]
     },
     "execution_count": 147,
     "metadata": {},
     "output_type": "execute_result"
    }
   ],
   "source": [
    "ml_subcat_df.sample(5)"
   ]
  },
  {
   "cell_type": "code",
   "execution_count": 187,
   "metadata": {},
   "outputs": [],
   "source": [
    "ml_subcat_df['parentcategory'] = 'Category:Machine_learning'"
   ]
  },
  {
   "cell_type": "code",
   "execution_count": 188,
   "metadata": {},
   "outputs": [
    {
     "data": {
      "text/html": [
       "<div>\n",
       "<table border=\"1\" class=\"dataframe\">\n",
       "  <thead>\n",
       "    <tr style=\"text-align: right;\">\n",
       "      <th></th>\n",
       "      <th>ns</th>\n",
       "      <th>pageid</th>\n",
       "      <th>title</th>\n",
       "      <th>category</th>\n",
       "      <th>text</th>\n",
       "      <th>parentcategory</th>\n",
       "    </tr>\n",
       "  </thead>\n",
       "  <tbody>\n",
       "    <tr>\n",
       "      <th>0</th>\n",
       "      <td>0</td>\n",
       "      <td>15795950</td>\n",
       "      <td>Activity recognition</td>\n",
       "      <td>Category:Applied machine learning</td>\n",
       "      <td>activity recognition aims to recognize the act...</td>\n",
       "      <td>Category:Machine_learning</td>\n",
       "    </tr>\n",
       "    <tr>\n",
       "      <th>1</th>\n",
       "      <td>0</td>\n",
       "      <td>41916168</td>\n",
       "      <td>AlchemyAPI</td>\n",
       "      <td>Category:Applied machine learning</td>\n",
       "      <td>alchemyapitypesubsidiaryindustrynatural langua...</td>\n",
       "      <td>Category:Machine_learning</td>\n",
       "    </tr>\n",
       "    <tr>\n",
       "      <th>2</th>\n",
       "      <td>0</td>\n",
       "      <td>53631046</td>\n",
       "      <td>Caffe (software)</td>\n",
       "      <td>Category:Applied machine learning</td>\n",
       "      <td>caffeoriginal author s yangqing jiadeveloper s...</td>\n",
       "      <td>Category:Machine_learning</td>\n",
       "    </tr>\n",
       "    <tr>\n",
       "      <th>3</th>\n",
       "      <td>0</td>\n",
       "      <td>49119569</td>\n",
       "      <td>Comparison of deep learning software</td>\n",
       "      <td>Category:Applied machine learning</td>\n",
       "      <td>the following table compares some of the most ...</td>\n",
       "      <td>Category:Machine_learning</td>\n",
       "    </tr>\n",
       "    <tr>\n",
       "      <th>4</th>\n",
       "      <td>0</td>\n",
       "      <td>41916447</td>\n",
       "      <td>Cortica</td>\n",
       "      <td>Category:Applied machine learning</td>\n",
       "      <td>cortica in every imageheadquartered in tel avi...</td>\n",
       "      <td>Category:Machine_learning</td>\n",
       "    </tr>\n",
       "  </tbody>\n",
       "</table>\n",
       "</div>"
      ],
      "text/plain": [
       "   ns    pageid                                 title  \\\n",
       "0   0  15795950                  Activity recognition   \n",
       "1   0  41916168                            AlchemyAPI   \n",
       "2   0  53631046                      Caffe (software)   \n",
       "3   0  49119569  Comparison of deep learning software   \n",
       "4   0  41916447                               Cortica   \n",
       "\n",
       "                            category  \\\n",
       "0  Category:Applied machine learning   \n",
       "1  Category:Applied machine learning   \n",
       "2  Category:Applied machine learning   \n",
       "3  Category:Applied machine learning   \n",
       "4  Category:Applied machine learning   \n",
       "\n",
       "                                                text  \\\n",
       "0  activity recognition aims to recognize the act...   \n",
       "1  alchemyapitypesubsidiaryindustrynatural langua...   \n",
       "2  caffeoriginal author s yangqing jiadeveloper s...   \n",
       "3  the following table compares some of the most ...   \n",
       "4  cortica in every imageheadquartered in tel avi...   \n",
       "\n",
       "              parentcategory  \n",
       "0  Category:Machine_learning  \n",
       "1  Category:Machine_learning  \n",
       "2  Category:Machine_learning  \n",
       "3  Category:Machine_learning  \n",
       "4  Category:Machine_learning  "
      ]
     },
     "execution_count": 188,
     "metadata": {},
     "output_type": "execute_result"
    }
   ],
   "source": [
    "ml_subcat_df.head()"
   ]
  },
  {
   "cell_type": "code",
   "execution_count": null,
   "metadata": {
    "collapsed": true
   },
   "outputs": [],
   "source": []
  },
  {
   "cell_type": "code",
   "execution_count": 74,
   "metadata": {
    "collapsed": true
   },
   "outputs": [],
   "source": [
    "bs_subcat_article_content = []\n",
    "\n",
    "for article in bs_subcat_df['title'].tolist()[:400]:\n",
    "    page = beautify_html_article(article)\n",
    "    bs_subcat_article_content.append(page)"
   ]
  },
  {
   "cell_type": "code",
   "execution_count": 76,
   "metadata": {
    "collapsed": true
   },
   "outputs": [],
   "source": [
    "for article in bs_subcat_df['title'].tolist()[400:800]:\n",
    "    page = beautify_html_article(article)\n",
    "    bs_subcat_article_content.append(page)"
   ]
  },
  {
   "cell_type": "code",
   "execution_count": 77,
   "metadata": {
    "collapsed": true
   },
   "outputs": [],
   "source": [
    "for article in bs_subcat_df['title'].tolist()[800:1200]:\n",
    "    page = beautify_html_article(article)\n",
    "    bs_subcat_article_content.append(page)"
   ]
  },
  {
   "cell_type": "code",
   "execution_count": 78,
   "metadata": {
    "collapsed": true
   },
   "outputs": [],
   "source": [
    "for article in bs_subcat_df['title'].tolist()[1200:]:\n",
    "    page = beautify_html_article(article)\n",
    "    bs_subcat_article_content.append(page)"
   ]
  },
  {
   "cell_type": "code",
   "execution_count": 79,
   "metadata": {},
   "outputs": [
    {
     "data": {
      "text/plain": [
       "1465"
      ]
     },
     "execution_count": 79,
     "metadata": {},
     "output_type": "execute_result"
    }
   ],
   "source": [
    "len(bs_subcat_article_content)"
   ]
  },
  {
   "cell_type": "code",
   "execution_count": 80,
   "metadata": {
    "collapsed": true
   },
   "outputs": [],
   "source": [
    "bs_subcat_df['text'] = bs_subcat_article_content"
   ]
  },
  {
   "cell_type": "code",
   "execution_count": 81,
   "metadata": {},
   "outputs": [
    {
     "data": {
      "text/html": [
       "<div>\n",
       "<table border=\"1\" class=\"dataframe\">\n",
       "  <thead>\n",
       "    <tr style=\"text-align: right;\">\n",
       "      <th></th>\n",
       "      <th>ns</th>\n",
       "      <th>pageid</th>\n",
       "      <th>title</th>\n",
       "      <th>category</th>\n",
       "      <th>text</th>\n",
       "    </tr>\n",
       "  </thead>\n",
       "  <tbody>\n",
       "    <tr>\n",
       "      <th>0</th>\n",
       "      <td>0</td>\n",
       "      <td>26722741</td>\n",
       "      <td>1DayLater</td>\n",
       "      <td>Category:Administrative software</td>\n",
       "      <td>This article has multiple issues. Please help ...</td>\n",
       "    </tr>\n",
       "    <tr>\n",
       "      <th>1</th>\n",
       "      <td>0</td>\n",
       "      <td>11595731</td>\n",
       "      <td>Act! CRM</td>\n",
       "      <td>Category:Administrative software</td>\n",
       "      <td>This article has multiple issues. Please help ...</td>\n",
       "    </tr>\n",
       "    <tr>\n",
       "      <th>2</th>\n",
       "      <td>0</td>\n",
       "      <td>3277841</td>\n",
       "      <td>Appointment scheduling software</td>\n",
       "      <td>Category:Administrative software</td>\n",
       "      <td>This article needs additional citations for ve...</td>\n",
       "    </tr>\n",
       "    <tr>\n",
       "      <th>3</th>\n",
       "      <td>0</td>\n",
       "      <td>13589812</td>\n",
       "      <td>Child care management software</td>\n",
       "      <td>Category:Administrative software</td>\n",
       "      <td>Child care management software also referred t...</td>\n",
       "    </tr>\n",
       "    <tr>\n",
       "      <th>4</th>\n",
       "      <td>0</td>\n",
       "      <td>4102341</td>\n",
       "      <td>Church software</td>\n",
       "      <td>Category:Administrative software</td>\n",
       "      <td>Church software is any type of computer softwa...</td>\n",
       "    </tr>\n",
       "  </tbody>\n",
       "</table>\n",
       "</div>"
      ],
      "text/plain": [
       "   ns    pageid                            title  \\\n",
       "0   0  26722741                        1DayLater   \n",
       "1   0  11595731                         Act! CRM   \n",
       "2   0   3277841  Appointment scheduling software   \n",
       "3   0  13589812   Child care management software   \n",
       "4   0   4102341                  Church software   \n",
       "\n",
       "                           category  \\\n",
       "0  Category:Administrative software   \n",
       "1  Category:Administrative software   \n",
       "2  Category:Administrative software   \n",
       "3  Category:Administrative software   \n",
       "4  Category:Administrative software   \n",
       "\n",
       "                                                text  \n",
       "0  This article has multiple issues. Please help ...  \n",
       "1  This article has multiple issues. Please help ...  \n",
       "2  This article needs additional citations for ve...  \n",
       "3  Child care management software also referred t...  \n",
       "4  Church software is any type of computer softwa...  "
      ]
     },
     "execution_count": 81,
     "metadata": {},
     "output_type": "execute_result"
    }
   ],
   "source": [
    "bs_subcat_df.head()"
   ]
  },
  {
   "cell_type": "code",
   "execution_count": 189,
   "metadata": {
    "collapsed": true
   },
   "outputs": [],
   "source": [
    "bs_subcat_df['parentcategory'] = 'Category:Business software'"
   ]
  },
  {
   "cell_type": "code",
   "execution_count": 190,
   "metadata": {},
   "outputs": [
    {
     "data": {
      "text/html": [
       "<div>\n",
       "<table border=\"1\" class=\"dataframe\">\n",
       "  <thead>\n",
       "    <tr style=\"text-align: right;\">\n",
       "      <th></th>\n",
       "      <th>ns</th>\n",
       "      <th>pageid</th>\n",
       "      <th>title</th>\n",
       "      <th>category</th>\n",
       "      <th>text</th>\n",
       "      <th>parentcategory</th>\n",
       "    </tr>\n",
       "  </thead>\n",
       "  <tbody>\n",
       "    <tr>\n",
       "      <th>0</th>\n",
       "      <td>0</td>\n",
       "      <td>26722741</td>\n",
       "      <td>1DayLater</td>\n",
       "      <td>Category:Administrative software</td>\n",
       "      <td>this article has multiple issues please help i...</td>\n",
       "      <td>Category:Business software</td>\n",
       "    </tr>\n",
       "    <tr>\n",
       "      <th>1</th>\n",
       "      <td>0</td>\n",
       "      <td>11595731</td>\n",
       "      <td>Act! CRM</td>\n",
       "      <td>Category:Administrative software</td>\n",
       "      <td>this article has multiple issues please help i...</td>\n",
       "      <td>Category:Business software</td>\n",
       "    </tr>\n",
       "    <tr>\n",
       "      <th>2</th>\n",
       "      <td>0</td>\n",
       "      <td>3277841</td>\n",
       "      <td>Appointment scheduling software</td>\n",
       "      <td>Category:Administrative software</td>\n",
       "      <td>this article needs additional citations for ve...</td>\n",
       "      <td>Category:Business software</td>\n",
       "    </tr>\n",
       "    <tr>\n",
       "      <th>3</th>\n",
       "      <td>0</td>\n",
       "      <td>13589812</td>\n",
       "      <td>Child care management software</td>\n",
       "      <td>Category:Administrative software</td>\n",
       "      <td>child care management software also referred t...</td>\n",
       "      <td>Category:Business software</td>\n",
       "    </tr>\n",
       "    <tr>\n",
       "      <th>4</th>\n",
       "      <td>0</td>\n",
       "      <td>4102341</td>\n",
       "      <td>Church software</td>\n",
       "      <td>Category:Administrative software</td>\n",
       "      <td>church software is any type of computer softwa...</td>\n",
       "      <td>Category:Business software</td>\n",
       "    </tr>\n",
       "  </tbody>\n",
       "</table>\n",
       "</div>"
      ],
      "text/plain": [
       "   ns    pageid                            title  \\\n",
       "0   0  26722741                        1DayLater   \n",
       "1   0  11595731                         Act! CRM   \n",
       "2   0   3277841  Appointment scheduling software   \n",
       "3   0  13589812   Child care management software   \n",
       "4   0   4102341                  Church software   \n",
       "\n",
       "                           category  \\\n",
       "0  Category:Administrative software   \n",
       "1  Category:Administrative software   \n",
       "2  Category:Administrative software   \n",
       "3  Category:Administrative software   \n",
       "4  Category:Administrative software   \n",
       "\n",
       "                                                text  \\\n",
       "0  this article has multiple issues please help i...   \n",
       "1  this article has multiple issues please help i...   \n",
       "2  this article needs additional citations for ve...   \n",
       "3  child care management software also referred t...   \n",
       "4  church software is any type of computer softwa...   \n",
       "\n",
       "               parentcategory  \n",
       "0  Category:Business software  \n",
       "1  Category:Business software  \n",
       "2  Category:Business software  \n",
       "3  Category:Business software  \n",
       "4  Category:Business software  "
      ]
     },
     "execution_count": 190,
     "metadata": {},
     "output_type": "execute_result"
    }
   ],
   "source": [
    "bs_subcat_df.head()"
   ]
  },
  {
   "cell_type": "code",
   "execution_count": 191,
   "metadata": {},
   "outputs": [
    {
     "data": {
      "text/plain": [
       "(1465, 6)"
      ]
     },
     "execution_count": 191,
     "metadata": {},
     "output_type": "execute_result"
    }
   ],
   "source": [
    "bs_subcat_df.shape"
   ]
  },
  {
   "cell_type": "code",
   "execution_count": null,
   "metadata": {
    "collapsed": true
   },
   "outputs": [],
   "source": []
  },
  {
   "cell_type": "code",
   "execution_count": null,
   "metadata": {
    "collapsed": true
   },
   "outputs": [],
   "source": []
  },
  {
   "cell_type": "code",
   "execution_count": 126,
   "metadata": {
    "collapsed": true
   },
   "outputs": [],
   "source": [
    "def text_cleaner(text):\n",
    "    text = re.sub('[\\.]',' ',text)\n",
    "    text = re.sub('([^A-Za-z0-9_])\\W+',' ', text)\n",
    "    text = re.sub('\\W',' ',text.lower())\n",
    "    text = re.sub('\\d','', text)\n",
    "    return text"
   ]
  },
  {
   "cell_type": "code",
   "execution_count": 173,
   "metadata": {
    "collapsed": true
   },
   "outputs": [],
   "source": [
    "def tokenize (text):\n",
    "    clean_text = text_cleaner(text)\n",
    "    return clean_text.lower().split()"
   ]
  },
  {
   "cell_type": "code",
   "execution_count": 162,
   "metadata": {
    "scrolled": true
   },
   "outputs": [
    {
     "data": {
      "text/plain": [
       "ns                                                          0\n",
       "pageid                                               26722741\n",
       "title                                               1DayLater\n",
       "category                     Category:Administrative software\n",
       "text        this article has multiple issues please help i...\n",
       "Name: 0, dtype: object"
      ]
     },
     "execution_count": 162,
     "metadata": {},
     "output_type": "execute_result"
    }
   ],
   "source": [
    "bs_subcat_df.iloc[0]"
   ]
  },
  {
   "cell_type": "code",
   "execution_count": 163,
   "metadata": {
    "collapsed": true
   },
   "outputs": [],
   "source": [
    "test = beautify_html_article('1DayLater')"
   ]
  },
  {
   "cell_type": "code",
   "execution_count": 165,
   "metadata": {},
   "outputs": [
    {
     "data": {
      "text/plain": [
       "'This article has multiple issues. Please help improve it or discuss these issues on the talk page. (Learn how and when to remove these template messages)This article contains content that is written like an advertisement. Please help improve it by removing promotional content and inappropriate external links, and by adding encyclopedic content written from a neutral point of view. (August 2017) (Learn how and when to remove this template message)The topic of this article may not meet Wikipedia\\'s general notability guideline. Please help to establish notability by citing reliable secondary sources that are independent of the topic and provide significant coverage of it beyond its mere trivial mention. If notability cannot be established, the article is likely to be merged, redirected, or deleted.Find sources:\\xa0\"1DayLater\"\\xa0–\\xa0news\\xa0· newspapers\\xa0· books\\xa0· scholar\\xa0· JSTOR (August 2017) (Learn how and when to remove this template message)A major contributor to this article appears to have a close connection with its subject. It may require cleanup to comply with Wikipedia\\'s content policies, particularly neutral point of view. Please discuss further on the talk page. (October 2012) (Learn how and when to remove this template message)This article is an orphan, as no other articles link to it. Please introduce links to this page from related articles; try the Find link tool for suggestions. (August 2017)(Learn how and when to remove this template message)1DayLaterDeveloper(s)1DayLater LtdOperating systemWeb-basedTypeTime tracking, Invoicing, Productivity, BillingWebsite1DayLater.com1DayLater was free, web-based software that was focused on professional invoicing and collaborative working. It was aimed at companies of any size; from solo workers to large business enterprises. The company was closed and customer data returned in October 2013.[1]The main function of 1DayLater was to help users create Invoices for clients. It could also be used to build Quotes and Estimates, to track time and other expenses, work to budgets, and to track projects. Multiple users could simultaneously work on the same projects together.The software was developed by two brothers, Paul and David King; after they experienced similar frustrations while working freelance, the brothers wanted to create a product that would let them track time, expenses and business miles in a single online location.PCmag voted 1DayLater as one of the \\'Best Free Software of 2010\\' [2]Contents1 History2 Press3 See also4 References5 External linksHistory[edit]1DayLater Ltd was formed in 2009 and had one commercial product of the same name.[3] It remained privately held and located in Newcastle upon Tyne, United Kingdom.Press[edit]1DayLater had the following press coverage:- BBC Webscape (July 2010) - [4] Kate Russell gives her latest selection of the best sites on the World Wide Web- Pcmag (March 2010) - [2] The best free software of 2010- Lifehacker (February 2010) - [5] \"A worthy addition to our \\'Top Ten Tips and Tools for Freelancers\\'\"- Gigaom (February 2010) - [6] Taking a closer look with 1DayLater- The Journal Newspaper (May 2009) - [7] \"Top Ten Brands of the North East\" (UK)- Techcrunch (January 2009) - [8] \"A \\'feisty time tracking solution from the North East of England\\'\"See also[edit]ProductivityList of time tracking softwareSoftwareReferences[edit]^ \"Closing announcement\". 1DayLater. Archived from the original on 2013-09-05.\\xa0^ a b Eric Griffith (March 29, 2010). \"Best free software of 2010\". PCmag. Archived from the original on 2 April 2010. Retrieved 2010-04-01.\\xa0^ Sunderland Software City (November 17, 2009). \"Brothers go into Beta\". Sunderland Software City blog. Archived from the original on 18 April 2010. Retrieved 2010-03-27.\\xa0^ Kate Russell (July 21, 2010). \"Kate Russell gives her latest selection of the best sites on the World Wide Web\". BBC Webscape. Retrieved 2010-04-01.\\xa0^ Kevin Purdy (February 17, 2010). \"1DayLater tracks and graphs your time, money and mileage\". Lifehacker. Archived from the original on 25 March 2010. Retrieved 2010-03-27.\\xa0^ Georgina Laidlaw (February 2010). \"Taking a closer look with 1DayLater\". Gigaom. Archived from the original on 8 February 2010. Retrieved 2010-02-08.\\xa0^ The Journal Newspaper (May 22, 2009). \"Top Ten Brands of the North East\". Think North East First campaign. Retrieved 2010-03-27.\\xa0^ Steve O\\'Hear (January 5, 2010). \"A feisty time tracking solution from the North East of England\". Techrunch Europe. Archived from the original on 24 March 2010. Retrieved 2010-03-27.\\xa0External links[edit]Official site, March 2013 archive'"
      ]
     },
     "execution_count": 165,
     "metadata": {},
     "output_type": "execute_result"
    }
   ],
   "source": [
    "test"
   ]
  },
  {
   "cell_type": "code",
   "execution_count": 168,
   "metadata": {
    "scrolled": false
   },
   "outputs": [],
   "source": [
    "cleaned_text = text_cleaner(test)"
   ]
  },
  {
   "cell_type": "code",
   "execution_count": 174,
   "metadata": {
    "collapsed": true
   },
   "outputs": [],
   "source": [
    "token_test = tokenize(cleaned_text)"
   ]
  },
  {
   "cell_type": "code",
   "execution_count": null,
   "metadata": {
    "collapsed": true
   },
   "outputs": [],
   "source": []
  },
  {
   "cell_type": "markdown",
   "metadata": {},
   "source": [
    "### Run the `text_cleaner` function on the text for each DataFrame"
   ]
  },
  {
   "cell_type": "code",
   "execution_count": 129,
   "metadata": {
    "collapsed": true
   },
   "outputs": [],
   "source": [
    "ml_df['text'] = ml_df['text'].apply(lambda x: text_cleaner(x))"
   ]
  },
  {
   "cell_type": "code",
   "execution_count": 131,
   "metadata": {
    "collapsed": true
   },
   "outputs": [],
   "source": [
    "bs_df['text'] = bs_df['text'].apply(lambda x: text_cleaner(x))"
   ]
  },
  {
   "cell_type": "code",
   "execution_count": 132,
   "metadata": {
    "collapsed": true
   },
   "outputs": [],
   "source": [
    "ml_subcat_df['text'] = ml_subcat_df['text'].apply(lambda x: text_cleaner(x))"
   ]
  },
  {
   "cell_type": "code",
   "execution_count": 133,
   "metadata": {
    "collapsed": true
   },
   "outputs": [],
   "source": [
    "bs_subcat_df['text'] = bs_subcat_df['text'].apply(lambda x: text_cleaner(x))"
   ]
  },
  {
   "cell_type": "code",
   "execution_count": null,
   "metadata": {
    "collapsed": true
   },
   "outputs": [],
   "source": []
  },
  {
   "cell_type": "markdown",
   "metadata": {},
   "source": [
    "### Pickle the generated DataFrames before joining / concatenating them"
   ]
  },
  {
   "cell_type": "code",
   "execution_count": 192,
   "metadata": {
    "collapsed": true
   },
   "outputs": [],
   "source": [
    "ml_df.to_pickle('../data/ml_df.p')"
   ]
  },
  {
   "cell_type": "code",
   "execution_count": 193,
   "metadata": {
    "collapsed": true
   },
   "outputs": [],
   "source": [
    "bs_df.to_pickle('../data/bs_df.p')"
   ]
  },
  {
   "cell_type": "code",
   "execution_count": 194,
   "metadata": {
    "collapsed": true
   },
   "outputs": [],
   "source": [
    "ml_subcat_df.to_pickle('../data/ml_subcat_df.p')"
   ]
  },
  {
   "cell_type": "code",
   "execution_count": 195,
   "metadata": {
    "collapsed": true
   },
   "outputs": [],
   "source": [
    "bs_subcat_df.to_pickle('../data/bs_subcat_df.p')"
   ]
  },
  {
   "cell_type": "code",
   "execution_count": 200,
   "metadata": {
    "collapsed": true
   },
   "outputs": [],
   "source": [
    "ml_parent_df.to_pickle('../data/ml_parent_df.p')"
   ]
  },
  {
   "cell_type": "code",
   "execution_count": 201,
   "metadata": {
    "collapsed": true
   },
   "outputs": [],
   "source": [
    "bs_parent_df.to_pickle('../data/bs_parent_df.p')"
   ]
  },
  {
   "cell_type": "code",
   "execution_count": null,
   "metadata": {
    "collapsed": true
   },
   "outputs": [],
   "source": []
  },
  {
   "cell_type": "code",
   "execution_count": null,
   "metadata": {
    "collapsed": true
   },
   "outputs": [],
   "source": []
  },
  {
   "cell_type": "code",
   "execution_count": null,
   "metadata": {
    "collapsed": true
   },
   "outputs": [],
   "source": []
  }
 ],
 "metadata": {
  "kernelspec": {
   "display_name": "Python 3",
   "language": "python",
   "name": "python3"
  },
  "language_info": {
   "codemirror_mode": {
    "name": "ipython",
    "version": 3
   },
   "file_extension": ".py",
   "mimetype": "text/x-python",
   "name": "python",
   "nbconvert_exporter": "python",
   "pygments_lexer": "ipython3",
   "version": "3.5.2"
  }
 },
 "nbformat": 4,
 "nbformat_minor": 2
}
