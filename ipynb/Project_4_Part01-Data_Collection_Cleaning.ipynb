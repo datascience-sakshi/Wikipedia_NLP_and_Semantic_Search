{
 "cells": [
  {
   "cell_type": "markdown",
   "metadata": {},
   "source": [
    "# Semantic Search"
   ]
  },
  {
   "cell_type": "markdown",
   "metadata": {},
   "source": [
    "## The Task\n",
    "The task has three parts -- data collection, data exploration / algorithm development, then finally predictive modeling.\n",
    "\n",
    "![](http://interactive.blockdiag.com/image?compression=deflate&encoding=base64&src=eJxdjrsOwjAMRXe-wlsmRhaQkDoiMSDxBW5slahtHDmGCiH-nfQxtKy-59zruhPfUsAGPjsA56XvMdIRSIbYCZKD_RncENqQuGBQ3S7TidCwxsynjZUZ1T8m4HqvJlXZnhrBJMHBbWlTDHEeSFravYUXQy_E3TKrwbioMKb5z16UmRxfXZurVY_GjegbhqJIjaXm-wNmzE4W)"
   ]
  },
  {
   "cell_type": "markdown",
   "metadata": {},
   "source": [
    "### Part I - Data Collection"
   ]
  },
  {
   "cell_type": "markdown",
   "metadata": {},
   "source": [
    "Query the wikipedia API and **collect all of the articles** under the following wikipedia categories:\n",
    "* [Machine Learning](https://en.wikipedia.org/wiki/Category:Machine_learning)\n",
    "* [Business Software](https://en.wikipedia.org/wiki/Category:Business_software)\n",
    "\n",
    "The code should be modular enough that any valid category from Wikipedia can be queried by the code.\n",
    "\n",
    "The results of the query should be written to PostgreSQL tables, `page` and `category`. \n",
    "Build some sort of reference between the pages and categories. \n",
    "(Keep in mind that a page can have many categories and a category can have many pages so a straight foreign key arrangement will not work.)"
   ]
  },
  {
   "cell_type": "code",
   "execution_count": 1,
   "metadata": {},
   "outputs": [
    {
     "name": "stdout",
     "output_type": "stream",
     "text": [
      "Requirement already satisfied (use --upgrade to upgrade): wikipedia in /opt/conda/lib/python3.5/site-packages\n",
      "Requirement already satisfied (use --upgrade to upgrade): requests<3.0.0,>=2.0.0 in /opt/conda/lib/python3.5/site-packages (from wikipedia)\n",
      "Requirement already satisfied (use --upgrade to upgrade): beautifulsoup4 in /opt/conda/lib/python3.5/site-packages (from wikipedia)\n",
      "\u001b[33mYou are using pip version 8.1.2, however version 9.0.1 is available.\n",
      "You should consider upgrading via the 'pip install --upgrade pip' command.\u001b[0m\n"
     ]
    }
   ],
   "source": [
    "!pip install wikipedia"
   ]
  },
  {
   "cell_type": "code",
   "execution_count": 2,
   "metadata": {
    "collapsed": true
   },
   "outputs": [],
   "source": [
    "import wikipedia\n",
    "import requests\n",
    "from bs4 import BeautifulSoup\n",
    "import pandas as pd\n",
    "import numpy as np\n",
    "import re\n",
    "import string\n",
    "import pickle"
   ]
  },
  {
   "cell_type": "code",
   "execution_count": 3,
   "metadata": {
    "collapsed": true
   },
   "outputs": [],
   "source": [
    "# write a function to jsonify the category names for a category page\n",
    "\n",
    "def jsonify_wiki_category (category_name): \n",
    "    '''\n",
    "    Insert category name as a string, note that this is case sensitive\n",
    "    Make sure to import requests \n",
    "    Make sure to import pandas \n",
    "    '''\n",
    "    base_url = 'https://en.wikipedia.org/w/api.php'\n",
    "    action = '?action=query'\n",
    "    parameters = '&list=categorymembers' + '&cmtitle='\n",
    "    params = '&cmlimit=max'\n",
    "    form = '&format=json'\n",
    "    \n",
    "    category_name_url = base_url + action + parameters + category_name + params + form\n",
    "    category_name_response = requests.get(category_name_url)\n",
    "    category_name_json = category_name_response.json()\n",
    "    return category_name_json\n",
    "    "
   ]
  },
  {
   "cell_type": "code",
   "execution_count": 4,
   "metadata": {
    "collapsed": true
   },
   "outputs": [
    {
     "data": {
      "text/plain": [
       "{'batchcomplete': '',\n",
       " 'limits': {'categorymembers': 500},\n",
       " 'query': {'categorymembers': [{'ns': 2,\n",
       "    'pageid': 54972729,\n",
       "    'title': 'User:CustIntelMngt/sandbox/Customer Intelligence Management'},\n",
       "   {'ns': 0, 'pageid': 43385931, 'title': 'Data exploration'},\n",
       "   {'ns': 0,\n",
       "    'pageid': 49082762,\n",
       "    'title': 'List of datasets for machine learning research'},\n",
       "   {'ns': 0, 'pageid': 233488, 'title': 'Machine learning'},\n",
       "   {'ns': 0, 'pageid': 53587467, 'title': 'Outline of machine learning'},\n",
       "   {'ns': 0, 'pageid': 3771060, 'title': 'Accuracy paradox'},\n",
       "   {'ns': 0, 'pageid': 43808044, 'title': 'Action model learning'},\n",
       "   {'ns': 0,\n",
       "    'pageid': 28801798,\n",
       "    'title': 'Active learning (machine learning)'},\n",
       "   {'ns': 0, 'pageid': 45049676, 'title': 'Adversarial machine learning'},\n",
       "   {'ns': 0, 'pageid': 52642349, 'title': 'AIVA'},\n",
       "   {'ns': 0, 'pageid': 30511763, 'title': 'AIXI'},\n",
       "   {'ns': 0, 'pageid': 50773876, 'title': 'Algorithm Selection'},\n",
       "   {'ns': 0, 'pageid': 20890511, 'title': 'Algorithmic inference'},\n",
       "   {'ns': 0, 'pageid': 49242352, 'title': 'AlphaGo'},\n",
       "   {'ns': 0, 'pageid': 19463198, 'title': 'Apprenticeship learning'},\n",
       "   {'ns': 0, 'pageid': 14003441, 'title': 'Bag-of-words model'},\n",
       "   {'ns': 0, 'pageid': 31877832, 'title': 'Ball tree'},\n",
       "   {'ns': 0, 'pageid': 9732182, 'title': 'Base rate'},\n",
       "   {'ns': 0,\n",
       "    'pageid': 35867897,\n",
       "    'title': 'Bayesian interpretation of kernel regularization'},\n",
       "   {'ns': 0, 'pageid': 40973765, 'title': 'Bayesian optimization'},\n",
       "   {'ns': 0, 'pageid': 50211107, 'title': 'Bayesian structural time series'},\n",
       "   {'ns': 0, 'pageid': 40678189, 'title': 'Bias–variance tradeoff'},\n",
       "   {'ns': 0, 'pageid': 205393, 'title': 'Binary classification'},\n",
       "   {'ns': 0, 'pageid': 50646178, 'title': 'Bing Predicts'},\n",
       "   {'ns': 0, 'pageid': 1191936, 'title': 'Bongard problem'},\n",
       "   {'ns': 0, 'pageid': 44439173, 'title': 'Bradley–Terry model'},\n",
       "   {'ns': 0, 'pageid': 53631046, 'title': 'Caffe (software)'},\n",
       "   {'ns': 0, 'pageid': 39182554, 'title': 'Catastrophic interference'},\n",
       "   {'ns': 0, 'pageid': 8964665, 'title': 'Category utility'},\n",
       "   {'ns': 0, 'pageid': 17114678, 'title': 'CBCL (MIT)'},\n",
       "   {'ns': 0, 'pageid': 22795783, 'title': 'CIML community portal'},\n",
       "   {'ns': 0, 'pageid': 28650287, 'title': 'Cleverbot'},\n",
       "   {'ns': 0, 'pageid': 2934910, 'title': 'Cognitive robotics'},\n",
       "   {'ns': 0, 'pageid': 9583985, 'title': 'Committee machine'},\n",
       "   {'ns': 0, 'pageid': 387537, 'title': 'Computational learning theory'},\n",
       "   {'ns': 0, 'pageid': 3118600, 'title': 'Concept drift'},\n",
       "   {'ns': 0, 'pageid': 6968451, 'title': 'Concept learning'},\n",
       "   {'ns': 0, 'pageid': 4118276, 'title': 'Conditional random field'},\n",
       "   {'ns': 0, 'pageid': 847558, 'title': 'Confusion matrix'},\n",
       "   {'ns': 0,\n",
       "    'pageid': 54550729,\n",
       "    'title': 'Connectionist Temporal Classification (CTC)'},\n",
       "   {'ns': 0, 'pageid': 28255458, 'title': 'Constrained conditional model'},\n",
       "   {'ns': 0, 'pageid': 34042707, 'title': 'Coupled pattern learner'},\n",
       "   {'ns': 0, 'pageid': 5767980, 'title': 'Cross-entropy method'},\n",
       "   {'ns': 0, 'pageid': 416612, 'title': 'Cross-validation (statistics)'},\n",
       "   {'ns': 0, 'pageid': 787776, 'title': 'Curse of dimensionality'},\n",
       "   {'ns': 0, 'pageid': 49316492, 'title': 'Darkforest'},\n",
       "   {'ns': 0, 'pageid': 12386904, 'title': 'Data pre-processing'},\n",
       "   {'ns': 0, 'pageid': 51112472, 'title': 'Dataiku'},\n",
       "   {'ns': 0, 'pageid': 19317802, 'title': 'Decision list'},\n",
       "   {'ns': 0, 'pageid': 48290454, 'title': 'Deep feature synthesis'},\n",
       "   {'ns': 0, 'pageid': 43169442, 'title': 'Deeplearning4j'},\n",
       "   {'ns': 0, 'pageid': 41755648, 'title': 'DeepMind'},\n",
       "   {'ns': 0, 'pageid': 1422176, 'title': 'Developmental robotics'},\n",
       "   {'ns': 0, 'pageid': 579867, 'title': 'Dimensionality reduction'},\n",
       "   {'ns': 0, 'pageid': 12155912, 'title': 'Discriminative model'},\n",
       "   {'ns': 0, 'pageid': 1331441, 'title': 'Document classification'},\n",
       "   {'ns': 0, 'pageid': 45390860, 'title': 'Domain adaptation'},\n",
       "   {'ns': 0, 'pageid': 10747995, 'title': 'Eager learning'},\n",
       "   {'ns': 0, 'pageid': 213214, 'title': 'Early stopping'},\n",
       "   {'ns': 0, 'pageid': 13750669, 'title': 'Elastic matching'},\n",
       "   {'ns': 0, 'pageid': 1455062, 'title': 'Empirical risk minimization'},\n",
       "   {'ns': 0, 'pageid': 52003586, 'title': 'End-to-end reinforcement learning'},\n",
       "   {'ns': 0, 'pageid': 12304987, 'title': 'Ensembles of classifiers'},\n",
       "   {'ns': 0, 'pageid': 48833041, 'title': 'Error Tolerance (PAC learning)'},\n",
       "   {'ns': 0, 'pageid': 43218024, 'title': 'Evaluation of binary classifiers'},\n",
       "   {'ns': 0, 'pageid': 460689, 'title': 'Evolutionary programming'},\n",
       "   {'ns': 0, 'pageid': 8416103, 'title': 'Evolvability (computer science)'},\n",
       "   {'ns': 0, 'pageid': 14923880, 'title': 'Expectation propagation'},\n",
       "   {'ns': 0, 'pageid': 21638340, 'title': 'Explanation-based learning'},\n",
       "   {'ns': 0, 'pageid': 1299404, 'title': 'Feature (machine learning)'},\n",
       "   {'ns': 0, 'pageid': 46207323, 'title': 'Feature engineering'},\n",
       "   {'ns': 0, 'pageid': 36126852, 'title': 'Feature hashing'},\n",
       "   {'ns': 0, 'pageid': 38870173, 'title': 'Feature learning'},\n",
       "   {'ns': 0, 'pageid': 34061548, 'title': 'Feature scaling'},\n",
       "   {'ns': 0, 'pageid': 2085584, 'title': 'Feature vector'},\n",
       "   {'ns': 0, 'pageid': 313845, 'title': 'Formal concept analysis'},\n",
       "   {'ns': 0, 'pageid': 1222578, 'title': 'Generative model'},\n",
       "   {'ns': 0, 'pageid': 40254, 'title': 'Genetic algorithm'},\n",
       "   {'ns': 0,\n",
       "    'pageid': 50336055,\n",
       "    'title': 'Glossary of artificial intelligence'},\n",
       "   {'ns': 0, 'pageid': 4375576, 'title': 'Grammar induction'},\n",
       "   {'ns': 0, 'pageid': 1041204, 'title': 'Granular computing'},\n",
       "   {'ns': 0, 'pageid': 32402755, 'title': 'Hyperparameter (machine learning)'},\n",
       "   {'ns': 0, 'pageid': 5008963, 'title': 'Inauthentic text'},\n",
       "   {'ns': 0, 'pageid': 173926, 'title': 'Inductive bias'},\n",
       "   {'ns': 0, 'pageid': 42579971, 'title': 'Inductive probability'},\n",
       "   {'ns': 0, 'pageid': 41644056, 'title': 'Inductive programming'},\n",
       "   {'ns': 0, 'pageid': 33762888, 'title': 'Inferential theory of learning'},\n",
       "   {'ns': 0, 'pageid': 53279262, 'title': 'Instance selection'},\n",
       "   {'ns': 0, 'pageid': 22589574, 'title': 'Instance-based learning'},\n",
       "   {'ns': 0,\n",
       "    'pageid': 470314,\n",
       "    'title': 'Instantaneously trained neural networks'},\n",
       "   {'ns': 0, 'pageid': 48987892, 'title': 'Isotropic position'},\n",
       "   {'ns': 0,\n",
       "    'pageid': 5721283,\n",
       "    'title': 'Journal of Machine Learning Research'},\n",
       "   {'ns': 0, 'pageid': 2090057, 'title': 'Kernel density estimation'},\n",
       "   {'ns': 0, 'pageid': 41370976, 'title': 'Kernel embedding of distributions'},\n",
       "   {'ns': 0, 'pageid': 46798615, 'title': 'Kernel random forest'},\n",
       "   {'ns': 0, 'pageid': 4144848, 'title': 'Knowledge integration'},\n",
       "   {'ns': 0, 'pageid': 43688866, 'title': 'Knowledge Vault'},\n",
       "   {'ns': 0, 'pageid': 54033657, 'title': 'Labeled data'},\n",
       "   {'ns': 0, 'pageid': 28037054, 'title': 'Large margin nearest neighbor'},\n",
       "   {'ns': 0, 'pageid': 10747879, 'title': 'Lazy learning'},\n",
       "   {'ns': 0, 'pageid': 48827727, 'title': 'Learnable function class'},\n",
       "   {'ns': 0, 'pageid': 3274742, 'title': 'Learning automata'},\n",
       "   {'ns': 0, 'pageid': 25050663, 'title': 'Learning to rank'},\n",
       "   {'ns': 0, 'pageid': 23864530, 'title': 'Learning with errors'},\n",
       "   {'ns': 0, 'pageid': 33890474, 'title': 'Leave-one-out error'},\n",
       "   {'ns': 0, 'pageid': 35272263, 'title': 'Linear predictor function'},\n",
       "   {'ns': 0, 'pageid': 523173, 'title': 'Linear separability'},\n",
       "   {'ns': 0, 'pageid': 46963137, 'title': 'Local case-control sampling'},\n",
       "   {'ns': 2, 'pageid': 53047074, 'title': 'User:Luca Innocenti/sandbox'},\n",
       "   {'ns': 0, 'pageid': 44632031, 'title': 'M-Theory (learning framework)'},\n",
       "   {'ns': 0, 'pageid': 45378845, 'title': 'Logic learning machine'},\n",
       "   {'ns': 0, 'pageid': 5721403, 'title': 'Machine Learning (journal)'},\n",
       "   {'ns': 0, 'pageid': 53802271, 'title': 'Machine learning control'},\n",
       "   {'ns': 0,\n",
       "    'pageid': 53970843,\n",
       "    'title': 'Machine learning in bioinformatics'},\n",
       "   {'ns': 0, 'pageid': 48777199, 'title': 'Manifold regularization'},\n",
       "   {'ns': 2, 'pageid': 53049812, 'title': 'User:Maria Schuld/sandbox'},\n",
       "   {'ns': 0, 'pageid': 47937215, 'title': 'The Master Algorithm'},\n",
       "   {'ns': 0, 'pageid': 44628821, 'title': 'Matrix regularization'},\n",
       "   {'ns': 0, 'pageid': 12306500, 'title': 'Matthews correlation coefficient'},\n",
       "   {'ns': 0, 'pageid': 4615464, 'title': 'Meta learning (computer science)'},\n",
       "   {'ns': 0, 'pageid': 871681, 'title': 'Mixture model'},\n",
       "   {'ns': 0, 'pageid': 33998310, 'title': 'Mountain Car'},\n",
       "   {'ns': 0, 'pageid': 49786340, 'title': 'Movidius'},\n",
       "   {'ns': 0, 'pageid': 2854828, 'title': 'Multi-armed bandit'},\n",
       "   {'ns': 0, 'pageid': 938663, 'title': 'Multi-task learning'},\n",
       "   {'ns': 0,\n",
       "    'pageid': 30928751,\n",
       "    'title': 'Multilinear principal component analysis'},\n",
       "   {'ns': 0, 'pageid': 30909817, 'title': 'Multilinear subspace learning'},\n",
       "   {'ns': 0, 'pageid': 48841414, 'title': 'Multiple instance learning'},\n",
       "   {'ns': 0, 'pageid': 14082194, 'title': 'Multiple-instance learning'},\n",
       "   {'ns': 0,\n",
       "    'pageid': 52242050,\n",
       "    'title': 'Multiplicative Weight Update Method'},\n",
       "   {'ns': 0,\n",
       "    'pageid': 18475546,\n",
       "    'title': 'Multivariate adaptive regression splines'},\n",
       "   {'ns': 0, 'pageid': 48976249, 'title': 'MysteryVibe'},\n",
       "   {'ns': 0, 'pageid': 45627703, 'title': 'Native-language identification'},\n",
       "   {'ns': 0, 'pageid': 7309022, 'title': 'Nearest neighbor search'},\n",
       "   {'ns': 0, 'pageid': 19208664, 'title': 'Neural modeling fields'},\n",
       "   {'ns': 0, 'pageid': 44577560, 'title': 'Occam learning'},\n",
       "   {'ns': 0, 'pageid': 10748030, 'title': 'Offline learning'},\n",
       "   {'ns': 0, 'pageid': 42129549, 'title': 'OpenNN'},\n",
       "   {'ns': 0, 'pageid': 173332, 'title': 'Overfitting'},\n",
       "   {'ns': 0, 'pageid': 23864280, 'title': 'Parity learning'},\n",
       "   {'ns': 0,\n",
       "    'pageid': 40946774,\n",
       "    'title': 'Pattern language (formal languages)'},\n",
       "   {'ns': 0, 'pageid': 126706, 'title': 'Pattern recognition'},\n",
       "   {'ns': 0, 'pageid': 2291650, 'title': 'Predictive learning'},\n",
       "   {'ns': 0, 'pageid': 11360852, 'title': 'Predictive state representation'},\n",
       "   {'ns': 0, 'pageid': 34072838, 'title': 'Preference learning'},\n",
       "   {'ns': 0,\n",
       "    'pageid': 6881120,\n",
       "    'title': 'Prior knowledge for pattern recognition'},\n",
       "   {'ns': 0, 'pageid': 21985449, 'title': 'Proactive learning'},\n",
       "   {'ns': 0, 'pageid': 9731945, 'title': 'Probability matching'},\n",
       "   {'ns': 0, 'pageid': 24825162, 'title': 'Product of experts'},\n",
       "   {'ns': 0,\n",
       "    'pageid': 41200806,\n",
       "    'title': 'Proximal gradient methods for learning'},\n",
       "   {'ns': 0, 'pageid': 41732818, 'title': 'Qloo'},\n",
       "   {'ns': 0, 'pageid': 44108758, 'title': 'Quantum machine learning'},\n",
       "   {'ns': 0, 'pageid': 41929726, 'title': 'Query level feature'},\n",
       "   {'ns': 0, 'pageid': 14529261, 'title': 'Rademacher complexity'},\n",
       "   {'ns': 0, 'pageid': 37697003, 'title': 'Random indexing'},\n",
       "   {'ns': 0, 'pageid': 43932548, 'title': 'Random projection'},\n",
       "   {'ns': 0, 'pageid': 926722, 'title': 'Relational data mining'},\n",
       "   {'ns': 0, 'pageid': 35887507, 'title': 'Representer theorem'},\n",
       "   {'ns': 0, 'pageid': 54625345, 'title': 'Right to explanation'},\n",
       "   {'ns': 0, 'pageid': 38782554, 'title': 'RoboEarth'},\n",
       "   {'ns': 0, 'pageid': 3290880, 'title': 'Robot learning'},\n",
       "   {'ns': 0, 'pageid': 7517319, 'title': 'Rule induction'},\n",
       "   {'ns': 0, 'pageid': 43269516, 'title': 'Sample complexity'},\n",
       "   {'ns': 0, 'pageid': 995455, 'title': 'Savi Technology'},\n",
       "   {'ns': 0,\n",
       "    'pageid': 14271782,\n",
       "    'title': 'Semantic analysis (machine learning)'},\n",
       "   {'ns': 0, 'pageid': 50222574, 'title': 'Semantic folding'},\n",
       "   {'ns': 0, 'pageid': 2829632, 'title': 'Semi-supervised learning'},\n",
       "   {'ns': 0, 'pageid': 29288159, 'title': 'Sequence labeling'},\n",
       "   {'ns': 0, 'pageid': 38059657, 'title': 'Similarity learning'},\n",
       "   {'ns': 0, 'pageid': 47509138, 'title': 'Skymind'},\n",
       "   {'ns': 0,\n",
       "    'pageid': 405562,\n",
       "    'title': \"Solomonoff's theory of inductive inference\"},\n",
       "   {'ns': 0, 'pageid': 48813654, 'title': 'Sparse dictionary learning'},\n",
       "   {'ns': 0, 'pageid': 50227596, 'title': 'Spike-and-slab variable selection'},\n",
       "   {'ns': 0, 'pageid': 33886025, 'title': 'Stability (learning theory)'},\n",
       "   {'ns': 0, 'pageid': 1579244, 'title': 'Statistical classification'},\n",
       "   {'ns': 0, 'pageid': 1053303, 'title': 'Statistical learning theory'},\n",
       "   {'ns': 0, 'pageid': 19667111, 'title': 'Statistical relational learning'},\n",
       "   {'ns': 0, 'pageid': 47845063, 'title': 'Stochastic block model'},\n",
       "   {'ns': 0, 'pageid': 10704974, 'title': 'Structural risk minimization'},\n",
       "   {'ns': 0,\n",
       "    'pageid': 48844125,\n",
       "    'title': 'Structured sparsity regularization'},\n",
       "   {'ns': 0, 'pageid': 3119546, 'title': 'Subclass reachability'},\n",
       "   {'ns': 0, 'pageid': 20926, 'title': 'Supervised learning'},\n",
       "   {'ns': 0, 'pageid': 1514392, 'title': 'Test set'},\n",
       "   {'ns': 0, 'pageid': 50828755, 'title': 'Timeline of machine learning'},\n",
       "   {'ns': 0, 'pageid': 960361, 'title': 'Transduction (machine learning)'},\n",
       "   {'ns': 0, 'pageid': 3920550, 'title': 'Transfer learning'},\n",
       "   {'ns': 0, 'pageid': 47577902, 'title': 'Trax Image Recognition'},\n",
       "   {'ns': 0, 'pageid': 5077439, 'title': 'Ugly duckling theorem'},\n",
       "   {'ns': 0, 'pageid': 19058043, 'title': 'Uncertain data'},\n",
       "   {'ns': 0,\n",
       "    'pageid': 22999791,\n",
       "    'title': 'Uniform convergence in probability'},\n",
       "   {'ns': 0, 'pageid': 37787103, 'title': 'Universal portfolio algorithm'},\n",
       "   {'ns': 0, 'pageid': 233497, 'title': 'Unsupervised learning'},\n",
       "   {'ns': 0, 'pageid': 47228422, 'title': 'User behavior analytics'},\n",
       "   {'ns': 0, 'pageid': 39945557, 'title': 'Validation set'},\n",
       "   {'ns': 0, 'pageid': 43502368, 'title': 'Vanishing gradient problem'},\n",
       "   {'ns': 0, 'pageid': 7578809, 'title': 'Version space learning'},\n",
       "   {'ns': 0, 'pageid': 52992310, 'title': 'VGG Image Annotator'},\n",
       "   {'ns': 0, 'pageid': 47527969, 'title': 'Word2vec'},\n",
       "   {'ns': 14,\n",
       "    'pageid': 33547387,\n",
       "    'title': 'Category:Applied machine learning'},\n",
       "   {'ns': 14,\n",
       "    'pageid': 42936114,\n",
       "    'title': 'Category:Artificial neural networks'},\n",
       "   {'ns': 14, 'pageid': 1718975, 'title': 'Category:Bayesian networks'},\n",
       "   {'ns': 14,\n",
       "    'pageid': 1991254,\n",
       "    'title': 'Category:Classification algorithms'},\n",
       "   {'ns': 14, 'pageid': 22532673, 'title': 'Category:Cluster analysis'},\n",
       "   {'ns': 14,\n",
       "    'pageid': 34310097,\n",
       "    'title': 'Category:Computational learning theory'},\n",
       "   {'ns': 14,\n",
       "    'pageid': 12932492,\n",
       "    'title': 'Category:Artificial intelligence conferences'},\n",
       "   {'ns': 14,\n",
       "    'pageid': 33542714,\n",
       "    'title': 'Category:Data mining and machine learning software'},\n",
       "   {'ns': 14,\n",
       "    'pageid': 42320378,\n",
       "    'title': 'Category:Datasets in machine learning'},\n",
       "   {'ns': 14, 'pageid': 29549713, 'title': 'Category:Dimension reduction'},\n",
       "   {'ns': 14, 'pageid': 3985352, 'title': 'Category:Ensemble learning'},\n",
       "   {'ns': 14, 'pageid': 754055, 'title': 'Category:Evolutionary algorithms'},\n",
       "   {'ns': 14, 'pageid': 3061615, 'title': 'Category:Genetic programming'},\n",
       "   {'ns': 14,\n",
       "    'pageid': 29003796,\n",
       "    'title': 'Category:Inductive logic programming'},\n",
       "   {'ns': 14,\n",
       "    'pageid': 12535256,\n",
       "    'title': 'Category:Kernel methods for machine learning'},\n",
       "   {'ns': 14, 'pageid': 20924581, 'title': 'Category:Latent variable models'},\n",
       "   {'ns': 14,\n",
       "    'pageid': 19314112,\n",
       "    'title': 'Category:Learning in computer vision'},\n",
       "   {'ns': 14, 'pageid': 36407925, 'title': 'Category:Log-linear models'},\n",
       "   {'ns': 14, 'pageid': 28004586, 'title': 'Category:Loss functions'},\n",
       "   {'ns': 14,\n",
       "    'pageid': 33547228,\n",
       "    'title': 'Category:Machine learning algorithms'},\n",
       "   {'ns': 14, 'pageid': 44943481, 'title': 'Category:Machine learning portal'},\n",
       "   {'ns': 14, 'pageid': 47991509, 'title': 'Category:Machine learning task'},\n",
       "   {'ns': 14, 'pageid': 24059390, 'title': 'Category:Markov models'},\n",
       "   {'ns': 14,\n",
       "    'pageid': 3832584,\n",
       "    'title': 'Category:Machine learning researchers'},\n",
       "   {'ns': 14, 'pageid': 52763829, 'title': 'Category:Semisupervised learning'},\n",
       "   {'ns': 14,\n",
       "    'pageid': 11737376,\n",
       "    'title': 'Category:Statistical natural language processing'},\n",
       "   {'ns': 14, 'pageid': 40149461, 'title': 'Category:Structured prediction'},\n",
       "   {'ns': 14, 'pageid': 52763867, 'title': 'Category:Supervised learning'},\n",
       "   {'ns': 14, 'pageid': 31176997, 'title': 'Category:Support vector machines'},\n",
       "   {'ns': 14, 'pageid': 52763828, 'title': 'Category:Unsupervised learning'}]}}"
      ]
     },
     "execution_count": 4,
     "metadata": {},
     "output_type": "execute_result"
    }
   ],
   "source": [
    "jsonify_wiki_category('Category:Machine_learning')"
   ]
  },
  {
   "cell_type": "code",
   "execution_count": 6,
   "metadata": {
    "collapsed": true
   },
   "outputs": [],
   "source": [
    "def dfize_category_names (category_name):\n",
    "    '''\n",
    "    takes a category name formatted as 'Category:_____'\n",
    "    '''\n",
    "    category_name_json = jsonify_wiki_category(category_name)\n",
    "    category_name_df = pd.DataFrame(category_name_json['query']['categorymembers'])\n",
    "    category_name_df['category'] = [category_name for pageid in category_name_df['pageid'] if pageid!=0]\n",
    "    \n",
    "    return category_name_df"
   ]
  },
  {
   "cell_type": "code",
   "execution_count": 7,
   "metadata": {},
   "outputs": [
    {
     "data": {
      "text/html": [
       "<div>\n",
       "<table border=\"1\" class=\"dataframe\">\n",
       "  <thead>\n",
       "    <tr style=\"text-align: right;\">\n",
       "      <th></th>\n",
       "      <th>ns</th>\n",
       "      <th>pageid</th>\n",
       "      <th>title</th>\n",
       "      <th>category</th>\n",
       "    </tr>\n",
       "  </thead>\n",
       "  <tbody>\n",
       "    <tr>\n",
       "      <th>0</th>\n",
       "      <td>2</td>\n",
       "      <td>54972729</td>\n",
       "      <td>User:CustIntelMngt/sandbox/Customer Intelligen...</td>\n",
       "      <td>Category:Machine_learning</td>\n",
       "    </tr>\n",
       "    <tr>\n",
       "      <th>1</th>\n",
       "      <td>0</td>\n",
       "      <td>43385931</td>\n",
       "      <td>Data exploration</td>\n",
       "      <td>Category:Machine_learning</td>\n",
       "    </tr>\n",
       "    <tr>\n",
       "      <th>2</th>\n",
       "      <td>0</td>\n",
       "      <td>49082762</td>\n",
       "      <td>List of datasets for machine learning research</td>\n",
       "      <td>Category:Machine_learning</td>\n",
       "    </tr>\n",
       "    <tr>\n",
       "      <th>3</th>\n",
       "      <td>0</td>\n",
       "      <td>233488</td>\n",
       "      <td>Machine learning</td>\n",
       "      <td>Category:Machine_learning</td>\n",
       "    </tr>\n",
       "    <tr>\n",
       "      <th>4</th>\n",
       "      <td>0</td>\n",
       "      <td>53587467</td>\n",
       "      <td>Outline of machine learning</td>\n",
       "      <td>Category:Machine_learning</td>\n",
       "    </tr>\n",
       "  </tbody>\n",
       "</table>\n",
       "</div>"
      ],
      "text/plain": [
       "   ns    pageid                                              title  \\\n",
       "0   2  54972729  User:CustIntelMngt/sandbox/Customer Intelligen...   \n",
       "1   0  43385931                                   Data exploration   \n",
       "2   0  49082762     List of datasets for machine learning research   \n",
       "3   0    233488                                   Machine learning   \n",
       "4   0  53587467                        Outline of machine learning   \n",
       "\n",
       "                    category  \n",
       "0  Category:Machine_learning  \n",
       "1  Category:Machine_learning  \n",
       "2  Category:Machine_learning  \n",
       "3  Category:Machine_learning  \n",
       "4  Category:Machine_learning  "
      ]
     },
     "execution_count": 7,
     "metadata": {},
     "output_type": "execute_result"
    }
   ],
   "source": [
    "dfize_category_names('Category:Machine_learning').head()"
   ]
  },
  {
   "cell_type": "code",
   "execution_count": 8,
   "metadata": {
    "collapsed": true
   },
   "outputs": [],
   "source": [
    "def dfize_cat_articles_only (category_name):\n",
    "    category_name_df = dfize_category_names(category_name)\n",
    "    articles_list = []\n",
    "    \n",
    "    category_mask = category_name_df['title'].str.contains('Category:')\n",
    "    articles_df = category_name_df[~category_mask]\n",
    "    articles_list.append(articles_df)\n",
    "    article_titles_list = articles_df['title'].tolist()\n",
    "    \n",
    "    return articles_df"
   ]
  },
  {
   "cell_type": "code",
   "execution_count": 9,
   "metadata": {},
   "outputs": [
    {
     "data": {
      "text/html": [
       "<div>\n",
       "<table border=\"1\" class=\"dataframe\">\n",
       "  <thead>\n",
       "    <tr style=\"text-align: right;\">\n",
       "      <th></th>\n",
       "      <th>ns</th>\n",
       "      <th>pageid</th>\n",
       "      <th>title</th>\n",
       "      <th>category</th>\n",
       "    </tr>\n",
       "  </thead>\n",
       "  <tbody>\n",
       "    <tr>\n",
       "      <th>0</th>\n",
       "      <td>2</td>\n",
       "      <td>54972729</td>\n",
       "      <td>User:CustIntelMngt/sandbox/Customer Intelligen...</td>\n",
       "      <td>Category:Machine_learning</td>\n",
       "    </tr>\n",
       "    <tr>\n",
       "      <th>1</th>\n",
       "      <td>0</td>\n",
       "      <td>43385931</td>\n",
       "      <td>Data exploration</td>\n",
       "      <td>Category:Machine_learning</td>\n",
       "    </tr>\n",
       "    <tr>\n",
       "      <th>2</th>\n",
       "      <td>0</td>\n",
       "      <td>49082762</td>\n",
       "      <td>List of datasets for machine learning research</td>\n",
       "      <td>Category:Machine_learning</td>\n",
       "    </tr>\n",
       "    <tr>\n",
       "      <th>3</th>\n",
       "      <td>0</td>\n",
       "      <td>233488</td>\n",
       "      <td>Machine learning</td>\n",
       "      <td>Category:Machine_learning</td>\n",
       "    </tr>\n",
       "    <tr>\n",
       "      <th>4</th>\n",
       "      <td>0</td>\n",
       "      <td>53587467</td>\n",
       "      <td>Outline of machine learning</td>\n",
       "      <td>Category:Machine_learning</td>\n",
       "    </tr>\n",
       "  </tbody>\n",
       "</table>\n",
       "</div>"
      ],
      "text/plain": [
       "   ns    pageid                                              title  \\\n",
       "0   2  54972729  User:CustIntelMngt/sandbox/Customer Intelligen...   \n",
       "1   0  43385931                                   Data exploration   \n",
       "2   0  49082762     List of datasets for machine learning research   \n",
       "3   0    233488                                   Machine learning   \n",
       "4   0  53587467                        Outline of machine learning   \n",
       "\n",
       "                    category  \n",
       "0  Category:Machine_learning  \n",
       "1  Category:Machine_learning  \n",
       "2  Category:Machine_learning  \n",
       "3  Category:Machine_learning  \n",
       "4  Category:Machine_learning  "
      ]
     },
     "execution_count": 9,
     "metadata": {},
     "output_type": "execute_result"
    }
   ],
   "source": [
    "dfize_cat_articles_only('Category:Machine_learning').head()"
   ]
  },
  {
   "cell_type": "code",
   "execution_count": 10,
   "metadata": {
    "collapsed": true
   },
   "outputs": [],
   "source": [
    "ml_df = dfize_cat_articles_only('Category:Machine_learning')"
   ]
  },
  {
   "cell_type": "code",
   "execution_count": 11,
   "metadata": {},
   "outputs": [
    {
     "data": {
      "text/plain": [
       "(198, 4)"
      ]
     },
     "execution_count": 11,
     "metadata": {},
     "output_type": "execute_result"
    }
   ],
   "source": [
    "ml_df.shape"
   ]
  },
  {
   "cell_type": "code",
   "execution_count": 12,
   "metadata": {
    "collapsed": true
   },
   "outputs": [],
   "source": [
    "bs_df = dfize_cat_articles_only('Category:Business_software')"
   ]
  },
  {
   "cell_type": "code",
   "execution_count": 13,
   "metadata": {},
   "outputs": [
    {
     "data": {
      "text/plain": [
       "(298, 4)"
      ]
     },
     "execution_count": 13,
     "metadata": {},
     "output_type": "execute_result"
    }
   ],
   "source": [
    "bs_df.shape"
   ]
  },
  {
   "cell_type": "code",
   "execution_count": 14,
   "metadata": {
    "collapsed": true
   },
   "outputs": [],
   "source": [
    "def list_subcategories (category_name):\n",
    "    category_name_df = dfize_category_names(category_name)\n",
    "    subcat_list = []\n",
    "    \n",
    "    category_mask = category_name_df['title'].str.contains('Category:')\n",
    "    subcat_df = category_name_df[category_mask]\n",
    "    subcat_list.append(subcat_df)\n",
    "    #category_name_df = pd.concat(subcat_list)\n",
    "    subcat_list = subcat_df['title'].tolist()\n",
    "    \n",
    "    return subcat_list"
   ]
  },
  {
   "cell_type": "code",
   "execution_count": 15,
   "metadata": {
    "collapsed": true
   },
   "outputs": [],
   "source": [
    "def dfize_subcategory_article (category_name):\n",
    "    subcat_list = list_subcategories(category_name)\n",
    "    subcat_temp = []\n",
    "    \n",
    "    for subcat in subcat_list:\n",
    "        df = dfize_category_names(subcat)\n",
    "        category_mask = df['title'].str.contains('Category:')\n",
    "        \n",
    "        df_articles_only = df[~category_mask]\n",
    "        \n",
    "        subcat_temp.append(df_articles_only)\n",
    "        df = pd.concat(subcat_temp)    \n",
    "\n",
    "    return df\n",
    "    "
   ]
  },
  {
   "cell_type": "code",
   "execution_count": 16,
   "metadata": {
    "collapsed": true
   },
   "outputs": [],
   "source": [
    "ml_subcat_df = dfize_subcategory_article('Category:Machine_learning')"
   ]
  },
  {
   "cell_type": "code",
   "execution_count": 17,
   "metadata": {},
   "outputs": [
    {
     "data": {
      "text/plain": [
       "(826, 4)"
      ]
     },
     "execution_count": 17,
     "metadata": {},
     "output_type": "execute_result"
    }
   ],
   "source": [
    "ml_subcat_df.shape"
   ]
  },
  {
   "cell_type": "code",
   "execution_count": 52,
   "metadata": {},
   "outputs": [
    {
     "data": {
      "text/html": [
       "<div>\n",
       "<table border=\"1\" class=\"dataframe\">\n",
       "  <thead>\n",
       "    <tr style=\"text-align: right;\">\n",
       "      <th></th>\n",
       "      <th>ns</th>\n",
       "      <th>pageid</th>\n",
       "      <th>title</th>\n",
       "      <th>category</th>\n",
       "      <th>text</th>\n",
       "    </tr>\n",
       "  </thead>\n",
       "  <tbody>\n",
       "    <tr>\n",
       "      <th>19</th>\n",
       "      <td>0</td>\n",
       "      <td>18990485</td>\n",
       "      <td>IDistance</td>\n",
       "      <td>Category:Machine learning algorithms</td>\n",
       "      <td>In pattern recognition, the iDistance is an in...</td>\n",
       "    </tr>\n",
       "    <tr>\n",
       "      <th>3</th>\n",
       "      <td>0</td>\n",
       "      <td>8220913</td>\n",
       "      <td>ADALINE</td>\n",
       "      <td>Category:Artificial neural networks</td>\n",
       "      <td>This article is about the neural network. For ...</td>\n",
       "    </tr>\n",
       "    <tr>\n",
       "      <th>63</th>\n",
       "      <td>0</td>\n",
       "      <td>4373337</td>\n",
       "      <td>Ross Quinlan</td>\n",
       "      <td>Category:Machine learning researchers</td>\n",
       "      <td>John Ross Quinlan is a computer science resear...</td>\n",
       "    </tr>\n",
       "    <tr>\n",
       "      <th>80</th>\n",
       "      <td>0</td>\n",
       "      <td>32867182</td>\n",
       "      <td>Waffles (machine learning)</td>\n",
       "      <td>Category:Data mining and machine learning soft...</td>\n",
       "      <td>WafflesDeveloper(s)Michael S. GashlerOperating...</td>\n",
       "    </tr>\n",
       "    <tr>\n",
       "      <th>99</th>\n",
       "      <td>0</td>\n",
       "      <td>3737445</td>\n",
       "      <td>Quantum neural network</td>\n",
       "      <td>Category:Artificial neural networks</td>\n",
       "      <td>Quantum neural networks (QNNs) are neural netw...</td>\n",
       "    </tr>\n",
       "  </tbody>\n",
       "</table>\n",
       "</div>"
      ],
      "text/plain": [
       "    ns    pageid                       title  \\\n",
       "19   0  18990485                   IDistance   \n",
       "3    0   8220913                     ADALINE   \n",
       "63   0   4373337                Ross Quinlan   \n",
       "80   0  32867182  Waffles (machine learning)   \n",
       "99   0   3737445      Quantum neural network   \n",
       "\n",
       "                                             category  \\\n",
       "19               Category:Machine learning algorithms   \n",
       "3                 Category:Artificial neural networks   \n",
       "63              Category:Machine learning researchers   \n",
       "80  Category:Data mining and machine learning soft...   \n",
       "99                Category:Artificial neural networks   \n",
       "\n",
       "                                                 text  \n",
       "19  In pattern recognition, the iDistance is an in...  \n",
       "3   This article is about the neural network. For ...  \n",
       "63  John Ross Quinlan is a computer science resear...  \n",
       "80  WafflesDeveloper(s)Michael S. GashlerOperating...  \n",
       "99  Quantum neural networks (QNNs) are neural netw...  "
      ]
     },
     "execution_count": 52,
     "metadata": {},
     "output_type": "execute_result"
    }
   ],
   "source": [
    "ml_subcat_df.sample(5)"
   ]
  },
  {
   "cell_type": "code",
   "execution_count": 19,
   "metadata": {
    "collapsed": true
   },
   "outputs": [],
   "source": [
    "bs_subcat_df = dfize_subcategory_article('Category:Business software')"
   ]
  },
  {
   "cell_type": "code",
   "execution_count": 20,
   "metadata": {},
   "outputs": [
    {
     "data": {
      "text/plain": [
       "(1465, 4)"
      ]
     },
     "execution_count": 20,
     "metadata": {},
     "output_type": "execute_result"
    }
   ],
   "source": [
    "bs_subcat_df.shape"
   ]
  },
  {
   "cell_type": "code",
   "execution_count": 21,
   "metadata": {},
   "outputs": [
    {
     "data": {
      "text/html": [
       "<div>\n",
       "<table border=\"1\" class=\"dataframe\">\n",
       "  <thead>\n",
       "    <tr style=\"text-align: right;\">\n",
       "      <th></th>\n",
       "      <th>ns</th>\n",
       "      <th>pageid</th>\n",
       "      <th>title</th>\n",
       "      <th>category</th>\n",
       "    </tr>\n",
       "  </thead>\n",
       "  <tbody>\n",
       "    <tr>\n",
       "      <th>85</th>\n",
       "      <td>0</td>\n",
       "      <td>29931546</td>\n",
       "      <td>Projecturf</td>\n",
       "      <td>Category:Project management software</td>\n",
       "    </tr>\n",
       "    <tr>\n",
       "      <th>111</th>\n",
       "      <td>0</td>\n",
       "      <td>21282347</td>\n",
       "      <td>STORIS</td>\n",
       "      <td>Category:Business software companies</td>\n",
       "    </tr>\n",
       "    <tr>\n",
       "      <th>101</th>\n",
       "      <td>0</td>\n",
       "      <td>14569194</td>\n",
       "      <td>Sprog (software)</td>\n",
       "      <td>Category:Business software stubs</td>\n",
       "    </tr>\n",
       "    <tr>\n",
       "      <th>3</th>\n",
       "      <td>0</td>\n",
       "      <td>30874771</td>\n",
       "      <td>Apache ActiveMQ</td>\n",
       "      <td>Category:Java enterprise platform</td>\n",
       "    </tr>\n",
       "    <tr>\n",
       "      <th>8</th>\n",
       "      <td>0</td>\n",
       "      <td>20017952</td>\n",
       "      <td>Manufacturing execution system</td>\n",
       "      <td>Category:MES software</td>\n",
       "    </tr>\n",
       "  </tbody>\n",
       "</table>\n",
       "</div>"
      ],
      "text/plain": [
       "     ns    pageid                           title  \\\n",
       "85    0  29931546                      Projecturf   \n",
       "111   0  21282347                          STORIS   \n",
       "101   0  14569194                Sprog (software)   \n",
       "3     0  30874771                 Apache ActiveMQ   \n",
       "8     0  20017952  Manufacturing execution system   \n",
       "\n",
       "                                 category  \n",
       "85   Category:Project management software  \n",
       "111  Category:Business software companies  \n",
       "101      Category:Business software stubs  \n",
       "3       Category:Java enterprise platform  \n",
       "8                   Category:MES software  "
      ]
     },
     "execution_count": 21,
     "metadata": {},
     "output_type": "execute_result"
    }
   ],
   "source": [
    "bs_subcat_df.sample(5)"
   ]
  },
  {
   "cell_type": "code",
   "execution_count": 22,
   "metadata": {
    "collapsed": true
   },
   "outputs": [],
   "source": [
    "# write a function that jsonifies the articles\n",
    "\n",
    "def jsonify_wiki_article (article_name): \n",
    "    '''\n",
    "    Insert category name as a string, note that this is case sensitive\n",
    "    Make sure to import requests first before using this functiona\n",
    "    '''\n",
    "    base_url = 'https://en.wikipedia.org/w/api.php'\n",
    "    action = '?action=parse'\n",
    "    prop = '&page='\n",
    "    form = '&format=json'\n",
    "    \n",
    "    article_name_url = base_url + action + prop + article_name + form\n",
    "    article_name_response = requests.get(article_name_url)\n",
    "    article_name_json = article_name_response.json()\n",
    "    return article_name_json\n",
    "    "
   ]
  },
  {
   "cell_type": "code",
   "execution_count": 23,
   "metadata": {
    "collapsed": true
   },
   "outputs": [],
   "source": [
    "# get the article in html format\n",
    "\n",
    "def htmlify_wiki_article (article_name):\n",
    "    article_name_json = jsonify_wiki_article(article_name)\n",
    "    article_name_html = article_name_json['parse']['text']['*'] if not article_name_json.get('error') else ''\n",
    "    return article_name_html"
   ]
  },
  {
   "cell_type": "code",
   "execution_count": 24,
   "metadata": {
    "collapsed": true
   },
   "outputs": [],
   "source": [
    "# run beautiful soup on the html format to do a 1st pass at cleaning the html to just text\n",
    "\n",
    "def beautify_html_article (article_name):\n",
    "    article_name_html = htmlify_wiki_article(article_name)\n",
    "    soup = BeautifulSoup(article_name_html, 'html.parser')\n",
    "    article_text = soup.get_text().replace('\\n', '')\n",
    "    return article_text"
   ]
  },
  {
   "cell_type": "code",
   "execution_count": 25,
   "metadata": {
    "collapsed": true
   },
   "outputs": [],
   "source": [
    "ml_article_content = []\n",
    "\n",
    "for article in ml_df['title'].tolist():\n",
    "    page = beautify_html_article(article)\n",
    "    ml_article_content.append(page)"
   ]
  },
  {
   "cell_type": "code",
   "execution_count": 26,
   "metadata": {
    "collapsed": true
   },
   "outputs": [],
   "source": [
    "ml_df['text'] = ml_article_content"
   ]
  },
  {
   "cell_type": "code",
   "execution_count": 27,
   "metadata": {},
   "outputs": [
    {
     "data": {
      "text/html": [
       "<div>\n",
       "<table border=\"1\" class=\"dataframe\">\n",
       "  <thead>\n",
       "    <tr style=\"text-align: right;\">\n",
       "      <th></th>\n",
       "      <th>ns</th>\n",
       "      <th>pageid</th>\n",
       "      <th>title</th>\n",
       "      <th>category</th>\n",
       "      <th>text</th>\n",
       "    </tr>\n",
       "  </thead>\n",
       "  <tbody>\n",
       "    <tr>\n",
       "      <th>0</th>\n",
       "      <td>2</td>\n",
       "      <td>54972729</td>\n",
       "      <td>User:CustIntelMngt/sandbox/Customer Intelligen...</td>\n",
       "      <td>Category:Machine_learning</td>\n",
       "      <td>This is not a Wikipedia article: It is an indi...</td>\n",
       "    </tr>\n",
       "    <tr>\n",
       "      <th>1</th>\n",
       "      <td>0</td>\n",
       "      <td>43385931</td>\n",
       "      <td>Data exploration</td>\n",
       "      <td>Category:Machine_learning</td>\n",
       "      <td>This article has multiple issues. Please help ...</td>\n",
       "    </tr>\n",
       "    <tr>\n",
       "      <th>2</th>\n",
       "      <td>0</td>\n",
       "      <td>49082762</td>\n",
       "      <td>List of datasets for machine learning research</td>\n",
       "      <td>Category:Machine_learning</td>\n",
       "      <td>Machine learning anddata miningProblemsClassif...</td>\n",
       "    </tr>\n",
       "    <tr>\n",
       "      <th>3</th>\n",
       "      <td>0</td>\n",
       "      <td>233488</td>\n",
       "      <td>Machine learning</td>\n",
       "      <td>Category:Machine_learning</td>\n",
       "      <td>For the journal, see Machine Learning (journal...</td>\n",
       "    </tr>\n",
       "    <tr>\n",
       "      <th>4</th>\n",
       "      <td>0</td>\n",
       "      <td>53587467</td>\n",
       "      <td>Outline of machine learning</td>\n",
       "      <td>Category:Machine_learning</td>\n",
       "      <td>The following outline is provided as an overvi...</td>\n",
       "    </tr>\n",
       "  </tbody>\n",
       "</table>\n",
       "</div>"
      ],
      "text/plain": [
       "   ns    pageid                                              title  \\\n",
       "0   2  54972729  User:CustIntelMngt/sandbox/Customer Intelligen...   \n",
       "1   0  43385931                                   Data exploration   \n",
       "2   0  49082762     List of datasets for machine learning research   \n",
       "3   0    233488                                   Machine learning   \n",
       "4   0  53587467                        Outline of machine learning   \n",
       "\n",
       "                    category  \\\n",
       "0  Category:Machine_learning   \n",
       "1  Category:Machine_learning   \n",
       "2  Category:Machine_learning   \n",
       "3  Category:Machine_learning   \n",
       "4  Category:Machine_learning   \n",
       "\n",
       "                                                text  \n",
       "0  This is not a Wikipedia article: It is an indi...  \n",
       "1  This article has multiple issues. Please help ...  \n",
       "2  Machine learning anddata miningProblemsClassif...  \n",
       "3  For the journal, see Machine Learning (journal...  \n",
       "4  The following outline is provided as an overvi...  "
      ]
     },
     "execution_count": 27,
     "metadata": {},
     "output_type": "execute_result"
    }
   ],
   "source": [
    "ml_df.head()"
   ]
  },
  {
   "cell_type": "code",
   "execution_count": null,
   "metadata": {
    "collapsed": true
   },
   "outputs": [],
   "source": []
  },
  {
   "cell_type": "code",
   "execution_count": 28,
   "metadata": {
    "collapsed": true
   },
   "outputs": [],
   "source": [
    "bs_article_content = []\n",
    "\n",
    "for article in bs_df['title'].tolist():\n",
    "    page = beautify_html_article(article)\n",
    "    bs_article_content.append(page)"
   ]
  },
  {
   "cell_type": "code",
   "execution_count": 29,
   "metadata": {
    "collapsed": true
   },
   "outputs": [],
   "source": [
    "bs_df['text'] = bs_article_content"
   ]
  },
  {
   "cell_type": "code",
   "execution_count": null,
   "metadata": {
    "collapsed": true
   },
   "outputs": [],
   "source": []
  },
  {
   "cell_type": "code",
   "execution_count": 30,
   "metadata": {
    "collapsed": true,
    "scrolled": false
   },
   "outputs": [],
   "source": [
    "ml_subcat_article_content = []\n",
    "\n",
    "for article in ml_subcat_df['title'].tolist()[:400]:\n",
    "    page = beautify_html_article(article)\n",
    "    ml_subcat_article_content.append(page)"
   ]
  },
  {
   "cell_type": "code",
   "execution_count": 31,
   "metadata": {
    "collapsed": true
   },
   "outputs": [],
   "source": [
    "for article in ml_subcat_df['title'].tolist()[400:600]:\n",
    "    page = beautify_html_article(article)\n",
    "    ml_subcat_article_content.append(page)"
   ]
  },
  {
   "cell_type": "code",
   "execution_count": 32,
   "metadata": {
    "collapsed": true
   },
   "outputs": [],
   "source": [
    "for article in ml_subcat_df['title'].tolist()[600:]:\n",
    "    page = beautify_html_article(article)\n",
    "    ml_subcat_article_content.append(page)"
   ]
  },
  {
   "cell_type": "code",
   "execution_count": 33,
   "metadata": {},
   "outputs": [
    {
     "data": {
      "text/plain": [
       "826"
      ]
     },
     "execution_count": 33,
     "metadata": {},
     "output_type": "execute_result"
    }
   ],
   "source": [
    "len(ml_subcat_article_content)"
   ]
  },
  {
   "cell_type": "code",
   "execution_count": 34,
   "metadata": {
    "collapsed": true
   },
   "outputs": [],
   "source": [
    "ml_subcat_df['text'] = ml_subcat_article_content"
   ]
  },
  {
   "cell_type": "code",
   "execution_count": 35,
   "metadata": {},
   "outputs": [
    {
     "data": {
      "text/html": [
       "<div>\n",
       "<table border=\"1\" class=\"dataframe\">\n",
       "  <thead>\n",
       "    <tr style=\"text-align: right;\">\n",
       "      <th></th>\n",
       "      <th>ns</th>\n",
       "      <th>pageid</th>\n",
       "      <th>title</th>\n",
       "      <th>category</th>\n",
       "      <th>text</th>\n",
       "    </tr>\n",
       "  </thead>\n",
       "  <tbody>\n",
       "    <tr>\n",
       "      <th>9</th>\n",
       "      <td>0</td>\n",
       "      <td>48813654</td>\n",
       "      <td>Sparse dictionary learning</td>\n",
       "      <td>Category:Unsupervised learning</td>\n",
       "      <td>Machine learning anddata miningProblemsClassif...</td>\n",
       "    </tr>\n",
       "    <tr>\n",
       "      <th>10</th>\n",
       "      <td>0</td>\n",
       "      <td>940033</td>\n",
       "      <td>Evolution strategy</td>\n",
       "      <td>Category:Evolutionary algorithms</td>\n",
       "      <td>In computer science, an evolution strategy (ES...</td>\n",
       "    </tr>\n",
       "    <tr>\n",
       "      <th>3</th>\n",
       "      <td>0</td>\n",
       "      <td>5825553</td>\n",
       "      <td>Collostructional analysis</td>\n",
       "      <td>Category:Statistical natural language processing</td>\n",
       "      <td>Collostructional analysis is a family of metho...</td>\n",
       "    </tr>\n",
       "    <tr>\n",
       "      <th>127</th>\n",
       "      <td>0</td>\n",
       "      <td>47527969</td>\n",
       "      <td>Word2vec</td>\n",
       "      <td>Category:Artificial neural networks</td>\n",
       "      <td>Machine learning anddata miningProblemsClassif...</td>\n",
       "    </tr>\n",
       "    <tr>\n",
       "      <th>30</th>\n",
       "      <td>0</td>\n",
       "      <td>29550075</td>\n",
       "      <td>Feature Selection Toolbox</td>\n",
       "      <td>Category:Classification algorithms</td>\n",
       "      <td>This article is an orphan, as no other article...</td>\n",
       "    </tr>\n",
       "  </tbody>\n",
       "</table>\n",
       "</div>"
      ],
      "text/plain": [
       "     ns    pageid                       title  \\\n",
       "9     0  48813654  Sparse dictionary learning   \n",
       "10    0    940033          Evolution strategy   \n",
       "3     0   5825553   Collostructional analysis   \n",
       "127   0  47527969                    Word2vec   \n",
       "30    0  29550075   Feature Selection Toolbox   \n",
       "\n",
       "                                             category  \\\n",
       "9                      Category:Unsupervised learning   \n",
       "10                   Category:Evolutionary algorithms   \n",
       "3    Category:Statistical natural language processing   \n",
       "127               Category:Artificial neural networks   \n",
       "30                 Category:Classification algorithms   \n",
       "\n",
       "                                                  text  \n",
       "9    Machine learning anddata miningProblemsClassif...  \n",
       "10   In computer science, an evolution strategy (ES...  \n",
       "3    Collostructional analysis is a family of metho...  \n",
       "127  Machine learning anddata miningProblemsClassif...  \n",
       "30   This article is an orphan, as no other article...  "
      ]
     },
     "execution_count": 35,
     "metadata": {},
     "output_type": "execute_result"
    }
   ],
   "source": [
    "ml_subcat_df.sample(5)"
   ]
  },
  {
   "cell_type": "code",
   "execution_count": null,
   "metadata": {
    "collapsed": true
   },
   "outputs": [],
   "source": []
  },
  {
   "cell_type": "code",
   "execution_count": 36,
   "metadata": {
    "collapsed": true
   },
   "outputs": [],
   "source": [
    "bs_subcat_article_content = []\n",
    "\n",
    "for article in bs_subcat_df['title'].tolist()[:400]:\n",
    "    page = beautify_html_article(article)\n",
    "    bs_subcat_article_content.append(page)"
   ]
  },
  {
   "cell_type": "code",
   "execution_count": 37,
   "metadata": {
    "collapsed": true
   },
   "outputs": [],
   "source": [
    "for article in bs_subcat_df['title'].tolist()[400:800]:\n",
    "    page = beautify_html_article(article)\n",
    "    bs_subcat_article_content.append(page)"
   ]
  },
  {
   "cell_type": "code",
   "execution_count": 38,
   "metadata": {
    "collapsed": true
   },
   "outputs": [],
   "source": [
    "for article in bs_subcat_df['title'].tolist()[800:1200]:\n",
    "    page = beautify_html_article(article)\n",
    "    bs_subcat_article_content.append(page)"
   ]
  },
  {
   "cell_type": "code",
   "execution_count": 39,
   "metadata": {
    "collapsed": true
   },
   "outputs": [],
   "source": [
    "for article in bs_subcat_df['title'].tolist()[1200:]:\n",
    "    page = beautify_html_article(article)\n",
    "    bs_subcat_article_content.append(page)"
   ]
  },
  {
   "cell_type": "code",
   "execution_count": 40,
   "metadata": {},
   "outputs": [
    {
     "data": {
      "text/plain": [
       "1465"
      ]
     },
     "execution_count": 40,
     "metadata": {},
     "output_type": "execute_result"
    }
   ],
   "source": [
    "len(bs_subcat_article_content)"
   ]
  },
  {
   "cell_type": "code",
   "execution_count": 41,
   "metadata": {
    "collapsed": true
   },
   "outputs": [],
   "source": [
    "bs_subcat_df['text'] = bs_subcat_article_content"
   ]
  },
  {
   "cell_type": "code",
   "execution_count": 42,
   "metadata": {},
   "outputs": [
    {
     "data": {
      "text/html": [
       "<div>\n",
       "<table border=\"1\" class=\"dataframe\">\n",
       "  <thead>\n",
       "    <tr style=\"text-align: right;\">\n",
       "      <th></th>\n",
       "      <th>ns</th>\n",
       "      <th>pageid</th>\n",
       "      <th>title</th>\n",
       "      <th>category</th>\n",
       "      <th>text</th>\n",
       "    </tr>\n",
       "  </thead>\n",
       "  <tbody>\n",
       "    <tr>\n",
       "      <th>0</th>\n",
       "      <td>0</td>\n",
       "      <td>26722741</td>\n",
       "      <td>1DayLater</td>\n",
       "      <td>Category:Administrative software</td>\n",
       "      <td>This article has multiple issues. Please help ...</td>\n",
       "    </tr>\n",
       "    <tr>\n",
       "      <th>1</th>\n",
       "      <td>0</td>\n",
       "      <td>11595731</td>\n",
       "      <td>Act! CRM</td>\n",
       "      <td>Category:Administrative software</td>\n",
       "      <td>This article has multiple issues. Please help ...</td>\n",
       "    </tr>\n",
       "    <tr>\n",
       "      <th>2</th>\n",
       "      <td>0</td>\n",
       "      <td>3277841</td>\n",
       "      <td>Appointment scheduling software</td>\n",
       "      <td>Category:Administrative software</td>\n",
       "      <td>This article needs additional citations for ve...</td>\n",
       "    </tr>\n",
       "    <tr>\n",
       "      <th>3</th>\n",
       "      <td>0</td>\n",
       "      <td>13589812</td>\n",
       "      <td>Child care management software</td>\n",
       "      <td>Category:Administrative software</td>\n",
       "      <td>Child care management software also referred t...</td>\n",
       "    </tr>\n",
       "    <tr>\n",
       "      <th>4</th>\n",
       "      <td>0</td>\n",
       "      <td>4102341</td>\n",
       "      <td>Church software</td>\n",
       "      <td>Category:Administrative software</td>\n",
       "      <td>Church software is any type of computer softwa...</td>\n",
       "    </tr>\n",
       "  </tbody>\n",
       "</table>\n",
       "</div>"
      ],
      "text/plain": [
       "   ns    pageid                            title  \\\n",
       "0   0  26722741                        1DayLater   \n",
       "1   0  11595731                         Act! CRM   \n",
       "2   0   3277841  Appointment scheduling software   \n",
       "3   0  13589812   Child care management software   \n",
       "4   0   4102341                  Church software   \n",
       "\n",
       "                           category  \\\n",
       "0  Category:Administrative software   \n",
       "1  Category:Administrative software   \n",
       "2  Category:Administrative software   \n",
       "3  Category:Administrative software   \n",
       "4  Category:Administrative software   \n",
       "\n",
       "                                                text  \n",
       "0  This article has multiple issues. Please help ...  \n",
       "1  This article has multiple issues. Please help ...  \n",
       "2  This article needs additional citations for ve...  \n",
       "3  Child care management software also referred t...  \n",
       "4  Church software is any type of computer softwa...  "
      ]
     },
     "execution_count": 42,
     "metadata": {},
     "output_type": "execute_result"
    }
   ],
   "source": [
    "bs_subcat_df.head()"
   ]
  },
  {
   "cell_type": "code",
   "execution_count": 50,
   "metadata": {},
   "outputs": [],
   "source": [
    "bs_subcat_df.drop('parentcategory', inplace=True, axis=1)"
   ]
  },
  {
   "cell_type": "code",
   "execution_count": 51,
   "metadata": {
    "collapsed": true
   },
   "outputs": [
    {
     "data": {
      "text/html": [
       "<div>\n",
       "<table border=\"1\" class=\"dataframe\">\n",
       "  <thead>\n",
       "    <tr style=\"text-align: right;\">\n",
       "      <th></th>\n",
       "      <th>ns</th>\n",
       "      <th>pageid</th>\n",
       "      <th>title</th>\n",
       "      <th>category</th>\n",
       "      <th>text</th>\n",
       "    </tr>\n",
       "  </thead>\n",
       "  <tbody>\n",
       "    <tr>\n",
       "      <th>0</th>\n",
       "      <td>0</td>\n",
       "      <td>26722741</td>\n",
       "      <td>1DayLater</td>\n",
       "      <td>Category:Administrative software</td>\n",
       "      <td>This article has multiple issues. Please help ...</td>\n",
       "    </tr>\n",
       "    <tr>\n",
       "      <th>1</th>\n",
       "      <td>0</td>\n",
       "      <td>11595731</td>\n",
       "      <td>Act! CRM</td>\n",
       "      <td>Category:Administrative software</td>\n",
       "      <td>This article has multiple issues. Please help ...</td>\n",
       "    </tr>\n",
       "    <tr>\n",
       "      <th>2</th>\n",
       "      <td>0</td>\n",
       "      <td>3277841</td>\n",
       "      <td>Appointment scheduling software</td>\n",
       "      <td>Category:Administrative software</td>\n",
       "      <td>This article needs additional citations for ve...</td>\n",
       "    </tr>\n",
       "    <tr>\n",
       "      <th>3</th>\n",
       "      <td>0</td>\n",
       "      <td>13589812</td>\n",
       "      <td>Child care management software</td>\n",
       "      <td>Category:Administrative software</td>\n",
       "      <td>Child care management software also referred t...</td>\n",
       "    </tr>\n",
       "    <tr>\n",
       "      <th>4</th>\n",
       "      <td>0</td>\n",
       "      <td>4102341</td>\n",
       "      <td>Church software</td>\n",
       "      <td>Category:Administrative software</td>\n",
       "      <td>Church software is any type of computer softwa...</td>\n",
       "    </tr>\n",
       "    <tr>\n",
       "      <th>5</th>\n",
       "      <td>0</td>\n",
       "      <td>26137900</td>\n",
       "      <td>ClickTime.com</td>\n",
       "      <td>Category:Administrative software</td>\n",
       "      <td>This article contains content that is written ...</td>\n",
       "    </tr>\n",
       "    <tr>\n",
       "      <th>6</th>\n",
       "      <td>0</td>\n",
       "      <td>2399838</td>\n",
       "      <td>Comparison of time-tracking software</td>\n",
       "      <td>Category:Administrative software</td>\n",
       "      <td>This article has multiple issues. Please help ...</td>\n",
       "    </tr>\n",
       "    <tr>\n",
       "      <th>7</th>\n",
       "      <td>0</td>\n",
       "      <td>1191446</td>\n",
       "      <td>E-Administration</td>\n",
       "      <td>Category:Administrative software</td>\n",
       "      <td>This article has multiple issues. Please help ...</td>\n",
       "    </tr>\n",
       "    <tr>\n",
       "      <th>8</th>\n",
       "      <td>0</td>\n",
       "      <td>6603087</td>\n",
       "      <td>Employee scheduling software</td>\n",
       "      <td>Category:Administrative software</td>\n",
       "      <td>Employee scheduling software automates the pro...</td>\n",
       "    </tr>\n",
       "    <tr>\n",
       "      <th>9</th>\n",
       "      <td>0</td>\n",
       "      <td>22162830</td>\n",
       "      <td>Meeting scheduling tool</td>\n",
       "      <td>Category:Administrative software</td>\n",
       "      <td>This article does not cite any sources. Please...</td>\n",
       "    </tr>\n",
       "    <tr>\n",
       "      <th>10</th>\n",
       "      <td>0</td>\n",
       "      <td>22112879</td>\n",
       "      <td>QuickSchools.com</td>\n",
       "      <td>Category:Administrative software</td>\n",
       "      <td>QuickSchools.comTypePrivately heldIndustryStud...</td>\n",
       "    </tr>\n",
       "    <tr>\n",
       "      <th>11</th>\n",
       "      <td>0</td>\n",
       "      <td>11984942</td>\n",
       "      <td>Remember the Milk</td>\n",
       "      <td>Category:Administrative software</td>\n",
       "      <td>This article needs additional citations for ve...</td>\n",
       "    </tr>\n",
       "    <tr>\n",
       "      <th>12</th>\n",
       "      <td>0</td>\n",
       "      <td>49677616</td>\n",
       "      <td>Resource Guru</td>\n",
       "      <td>Category:Administrative software</td>\n",
       "      <td>This article is being considered for deletion ...</td>\n",
       "    </tr>\n",
       "    <tr>\n",
       "      <th>13</th>\n",
       "      <td>0</td>\n",
       "      <td>21586721</td>\n",
       "      <td>Shiftboard</td>\n",
       "      <td>Category:Administrative software</td>\n",
       "      <td>This article has multiple issues. Please help ...</td>\n",
       "    </tr>\n",
       "    <tr>\n",
       "      <th>14</th>\n",
       "      <td>0</td>\n",
       "      <td>26257864</td>\n",
       "      <td>Sorce intranet</td>\n",
       "      <td>Category:Administrative software</td>\n",
       "      <td>SORCE IntranetDeveloper(s)SORCE LimitedStable ...</td>\n",
       "    </tr>\n",
       "    <tr>\n",
       "      <th>15</th>\n",
       "      <td>0</td>\n",
       "      <td>41332176</td>\n",
       "      <td>Taskfreak</td>\n",
       "      <td>Category:Administrative software</td>\n",
       "      <td>This article has multiple issues. Please help ...</td>\n",
       "    </tr>\n",
       "    <tr>\n",
       "      <th>16</th>\n",
       "      <td>0</td>\n",
       "      <td>28472181</td>\n",
       "      <td>Taskwarrior</td>\n",
       "      <td>Category:Administrative software</td>\n",
       "      <td>TaskwarriorTaskwarrior 1.9.x demonstrating col...</td>\n",
       "    </tr>\n",
       "    <tr>\n",
       "      <th>17</th>\n",
       "      <td>0</td>\n",
       "      <td>49478757</td>\n",
       "      <td>TimeSheet (software)</td>\n",
       "      <td>Category:Administrative software</td>\n",
       "      <td>The topic of this article may not meet Wikiped...</td>\n",
       "    </tr>\n",
       "    <tr>\n",
       "      <th>18</th>\n",
       "      <td>0</td>\n",
       "      <td>21521968</td>\n",
       "      <td>TOA Technologies</td>\n",
       "      <td>Category:Administrative software</td>\n",
       "      <td>This article contains content that is written ...</td>\n",
       "    </tr>\n",
       "    <tr>\n",
       "      <th>19</th>\n",
       "      <td>0</td>\n",
       "      <td>54493227</td>\n",
       "      <td>Training management system</td>\n",
       "      <td>Category:Administrative software</td>\n",
       "      <td>This article has multiple issues. Please help ...</td>\n",
       "    </tr>\n",
       "    <tr>\n",
       "      <th>20</th>\n",
       "      <td>0</td>\n",
       "      <td>32166425</td>\n",
       "      <td>TSheets</td>\n",
       "      <td>Category:Administrative software</td>\n",
       "      <td>This article is an orphan, as no other article...</td>\n",
       "    </tr>\n",
       "    <tr>\n",
       "      <th>21</th>\n",
       "      <td>0</td>\n",
       "      <td>40400354</td>\n",
       "      <td>Wunderlist</td>\n",
       "      <td>Category:Administrative software</td>\n",
       "      <td>WunderlistOriginal author(s)Christian ReberDev...</td>\n",
       "    </tr>\n",
       "    <tr>\n",
       "      <th>0</th>\n",
       "      <td>0</td>\n",
       "      <td>4171371</td>\n",
       "      <td>Business simulation game</td>\n",
       "      <td>Category:Business simulation games</td>\n",
       "      <td>This article is about the video game genre. Fo...</td>\n",
       "    </tr>\n",
       "    <tr>\n",
       "      <th>1</th>\n",
       "      <td>0</td>\n",
       "      <td>21362278</td>\n",
       "      <td>List of business simulation video games</td>\n",
       "      <td>Category:Business simulation games</td>\n",
       "      <td>Part of a series on:Simulation video gamesSubg...</td>\n",
       "    </tr>\n",
       "    <tr>\n",
       "      <th>2</th>\n",
       "      <td>0</td>\n",
       "      <td>20274682</td>\n",
       "      <td>Project management simulation</td>\n",
       "      <td>Category:Business simulation games</td>\n",
       "      <td>Project management simulation is simulation us...</td>\n",
       "    </tr>\n",
       "    <tr>\n",
       "      <th>3</th>\n",
       "      <td>0</td>\n",
       "      <td>43302474</td>\n",
       "      <td>3rd World Farmer</td>\n",
       "      <td>Category:Business simulation games</td>\n",
       "      <td>This article has multiple issues. Please help ...</td>\n",
       "    </tr>\n",
       "    <tr>\n",
       "      <th>4</th>\n",
       "      <td>0</td>\n",
       "      <td>13767273</td>\n",
       "      <td>A-Train</td>\n",
       "      <td>Category:Business simulation games</td>\n",
       "      <td>For other uses, see A-Train (disambiguation).T...</td>\n",
       "    </tr>\n",
       "    <tr>\n",
       "      <th>5</th>\n",
       "      <td>0</td>\n",
       "      <td>47155408</td>\n",
       "      <td>AdvertCity</td>\n",
       "      <td>Category:Business simulation games</td>\n",
       "      <td>AdvertCityGame cover imageDeveloper(s)VoxelSto...</td>\n",
       "    </tr>\n",
       "    <tr>\n",
       "      <th>6</th>\n",
       "      <td>0</td>\n",
       "      <td>444481</td>\n",
       "      <td>Aerobiz</td>\n",
       "      <td>Category:Business simulation games</td>\n",
       "      <td>AerobizNorth American Super NES cover artDevel...</td>\n",
       "    </tr>\n",
       "    <tr>\n",
       "      <th>7</th>\n",
       "      <td>0</td>\n",
       "      <td>949299</td>\n",
       "      <td>Aerobiz Supersonic</td>\n",
       "      <td>Category:Business simulation games</td>\n",
       "      <td>Aerobiz SupersonicGenesis version cover art.De...</td>\n",
       "    </tr>\n",
       "    <tr>\n",
       "      <th>...</th>\n",
       "      <td>...</td>\n",
       "      <td>...</td>\n",
       "      <td>...</td>\n",
       "      <td>...</td>\n",
       "      <td>...</td>\n",
       "    </tr>\n",
       "    <tr>\n",
       "      <th>83</th>\n",
       "      <td>0</td>\n",
       "      <td>9788607</td>\n",
       "      <td>Omgeo</td>\n",
       "      <td>Category:Business software stubs</td>\n",
       "      <td>The topic of this article may not meet Wikiped...</td>\n",
       "    </tr>\n",
       "    <tr>\n",
       "      <th>84</th>\n",
       "      <td>0</td>\n",
       "      <td>25034980</td>\n",
       "      <td>OpenMeetings</td>\n",
       "      <td>Category:Business software stubs</td>\n",
       "      <td>OpenMeetingsDeveloper(s)Maxim Solodovnik, Seba...</td>\n",
       "    </tr>\n",
       "    <tr>\n",
       "      <th>85</th>\n",
       "      <td>0</td>\n",
       "      <td>1699107</td>\n",
       "      <td>PaperWorks</td>\n",
       "      <td>Category:Business software stubs</td>\n",
       "      <td>PaperWorks was a computer program introduced b...</td>\n",
       "    </tr>\n",
       "    <tr>\n",
       "      <th>86</th>\n",
       "      <td>0</td>\n",
       "      <td>3069932</td>\n",
       "      <td>PerForm</td>\n",
       "      <td>Category:Business software stubs</td>\n",
       "      <td>This article needs additional citations for ve...</td>\n",
       "    </tr>\n",
       "    <tr>\n",
       "      <th>87</th>\n",
       "      <td>0</td>\n",
       "      <td>4767593</td>\n",
       "      <td>Pivot chart</td>\n",
       "      <td>Category:Business software stubs</td>\n",
       "      <td>This article contains content that is written ...</td>\n",
       "    </tr>\n",
       "    <tr>\n",
       "      <th>88</th>\n",
       "      <td>0</td>\n",
       "      <td>3062614</td>\n",
       "      <td>Plan (calendar program)</td>\n",
       "      <td>Category:Business software stubs</td>\n",
       "      <td>Screenshot of plan runningplan is a calendar a...</td>\n",
       "    </tr>\n",
       "    <tr>\n",
       "      <th>89</th>\n",
       "      <td>0</td>\n",
       "      <td>456424</td>\n",
       "      <td>PostScript Printer Description</td>\n",
       "      <td>Category:Business software stubs</td>\n",
       "      <td>PostScript Printer DescriptionFilename extensi...</td>\n",
       "    </tr>\n",
       "    <tr>\n",
       "      <th>90</th>\n",
       "      <td>0</td>\n",
       "      <td>18532395</td>\n",
       "      <td>Project KickStart</td>\n",
       "      <td>Category:Business software stubs</td>\n",
       "      <td>This article is about the project management s...</td>\n",
       "    </tr>\n",
       "    <tr>\n",
       "      <th>91</th>\n",
       "      <td>0</td>\n",
       "      <td>15530023</td>\n",
       "      <td>QFX (file format)</td>\n",
       "      <td>Category:Business software stubs</td>\n",
       "      <td>QFXFilename extension.qfxDeveloped byIntuitCon...</td>\n",
       "    </tr>\n",
       "    <tr>\n",
       "      <th>92</th>\n",
       "      <td>0</td>\n",
       "      <td>48254824</td>\n",
       "      <td>Reflex (building design software)</td>\n",
       "      <td>Category:Business software stubs</td>\n",
       "      <td>Reflex was a 3D building design software appli...</td>\n",
       "    </tr>\n",
       "    <tr>\n",
       "      <th>93</th>\n",
       "      <td>0</td>\n",
       "      <td>22628313</td>\n",
       "      <td>Reliable messaging</td>\n",
       "      <td>Category:Business software stubs</td>\n",
       "      <td>Reliable messaging is the concept of communica...</td>\n",
       "    </tr>\n",
       "    <tr>\n",
       "      <th>94</th>\n",
       "      <td>0</td>\n",
       "      <td>2438634</td>\n",
       "      <td>Sage 50 Accounting</td>\n",
       "      <td>Category:Business software stubs</td>\n",
       "      <td>This article needs additional citations for ve...</td>\n",
       "    </tr>\n",
       "    <tr>\n",
       "      <th>95</th>\n",
       "      <td>0</td>\n",
       "      <td>9636465</td>\n",
       "      <td>Salary calculator</td>\n",
       "      <td>Category:Business software stubs</td>\n",
       "      <td>This article has multiple issues. Please help ...</td>\n",
       "    </tr>\n",
       "    <tr>\n",
       "      <th>96</th>\n",
       "      <td>0</td>\n",
       "      <td>19539906</td>\n",
       "      <td>SAP Transport management system</td>\n",
       "      <td>Category:Business software stubs</td>\n",
       "      <td>This article is an orphan, as no other article...</td>\n",
       "    </tr>\n",
       "    <tr>\n",
       "      <th>97</th>\n",
       "      <td>0</td>\n",
       "      <td>327999</td>\n",
       "      <td>SASI (software)</td>\n",
       "      <td>Category:Business software stubs</td>\n",
       "      <td>SASI (Schools Administrative Student Informati...</td>\n",
       "    </tr>\n",
       "    <tr>\n",
       "      <th>98</th>\n",
       "      <td>0</td>\n",
       "      <td>26723213</td>\n",
       "      <td>Sentinel (FBI)</td>\n",
       "      <td>Category:Business software stubs</td>\n",
       "      <td>Sentinel is a software case management system ...</td>\n",
       "    </tr>\n",
       "    <tr>\n",
       "      <th>99</th>\n",
       "      <td>0</td>\n",
       "      <td>26178912</td>\n",
       "      <td>Sierra Chart</td>\n",
       "      <td>Category:Business software stubs</td>\n",
       "      <td>This article needs additional citations for ve...</td>\n",
       "    </tr>\n",
       "    <tr>\n",
       "      <th>100</th>\n",
       "      <td>0</td>\n",
       "      <td>48253668</td>\n",
       "      <td>Sonata (building design software)</td>\n",
       "      <td>Category:Business software stubs</td>\n",
       "      <td>Sonata was a 3D building design software appli...</td>\n",
       "    </tr>\n",
       "    <tr>\n",
       "      <th>101</th>\n",
       "      <td>0</td>\n",
       "      <td>14569194</td>\n",
       "      <td>Sprog (software)</td>\n",
       "      <td>Category:Business software stubs</td>\n",
       "      <td>SprogStable release0.14 / July 27, 2005Operati...</td>\n",
       "    </tr>\n",
       "    <tr>\n",
       "      <th>102</th>\n",
       "      <td>0</td>\n",
       "      <td>47534615</td>\n",
       "      <td>Super Decisions</td>\n",
       "      <td>Category:Business software stubs</td>\n",
       "      <td>Super DecisionsIndustryComputer softwareFounde...</td>\n",
       "    </tr>\n",
       "    <tr>\n",
       "      <th>103</th>\n",
       "      <td>0</td>\n",
       "      <td>1966364</td>\n",
       "      <td>SuperCalc</td>\n",
       "      <td>Category:Business software stubs</td>\n",
       "      <td>SuperCalcSuperCalc4 for MS-DOS.Developer(s)Sor...</td>\n",
       "    </tr>\n",
       "    <tr>\n",
       "      <th>104</th>\n",
       "      <td>0</td>\n",
       "      <td>5192200</td>\n",
       "      <td>TAURUS (share settlement)</td>\n",
       "      <td>Category:Business software stubs</td>\n",
       "      <td>Taurus (Transfer and Automated Registration of...</td>\n",
       "    </tr>\n",
       "    <tr>\n",
       "      <th>105</th>\n",
       "      <td>0</td>\n",
       "      <td>1131405</td>\n",
       "      <td>Tress 90</td>\n",
       "      <td>Category:Business software stubs</td>\n",
       "      <td>This article needs additional citations for ve...</td>\n",
       "    </tr>\n",
       "    <tr>\n",
       "      <th>106</th>\n",
       "      <td>0</td>\n",
       "      <td>8838142</td>\n",
       "      <td>IBM Unica NetInsight</td>\n",
       "      <td>Category:Business software stubs</td>\n",
       "      <td>IBM Unica NetInsightDeveloper(s)IBMInitial rel...</td>\n",
       "    </tr>\n",
       "    <tr>\n",
       "      <th>107</th>\n",
       "      <td>0</td>\n",
       "      <td>9818995</td>\n",
       "      <td>Wang OFFICE</td>\n",
       "      <td>Category:Business software stubs</td>\n",
       "      <td>This article does not cite any sources. Please...</td>\n",
       "    </tr>\n",
       "    <tr>\n",
       "      <th>108</th>\n",
       "      <td>0</td>\n",
       "      <td>51567252</td>\n",
       "      <td>WeWorked</td>\n",
       "      <td>Category:Business software stubs</td>\n",
       "      <td>This article has multiple issues. Please help ...</td>\n",
       "    </tr>\n",
       "    <tr>\n",
       "      <th>109</th>\n",
       "      <td>0</td>\n",
       "      <td>5794691</td>\n",
       "      <td>Whiteboarding</td>\n",
       "      <td>Category:Business software stubs</td>\n",
       "      <td>This article is about the computer term. For t...</td>\n",
       "    </tr>\n",
       "    <tr>\n",
       "      <th>110</th>\n",
       "      <td>0</td>\n",
       "      <td>50315118</td>\n",
       "      <td>Workflowy</td>\n",
       "      <td>Category:Business software stubs</td>\n",
       "      <td>The topic of this article may not meet Wikiped...</td>\n",
       "    </tr>\n",
       "    <tr>\n",
       "      <th>111</th>\n",
       "      <td>0</td>\n",
       "      <td>3234557</td>\n",
       "      <td>Xcon</td>\n",
       "      <td>Category:Business software stubs</td>\n",
       "      <td>The R1 (internally called XCON, for eXpert CON...</td>\n",
       "    </tr>\n",
       "    <tr>\n",
       "      <th>112</th>\n",
       "      <td>0</td>\n",
       "      <td>4260606</td>\n",
       "      <td>XDB Enterprise Server</td>\n",
       "      <td>Category:Business software stubs</td>\n",
       "      <td>This article has multiple issues. Please help ...</td>\n",
       "    </tr>\n",
       "  </tbody>\n",
       "</table>\n",
       "<p>1465 rows × 5 columns</p>\n",
       "</div>"
      ],
      "text/plain": [
       "     ns    pageid                                    title  \\\n",
       "0     0  26722741                                1DayLater   \n",
       "1     0  11595731                                 Act! CRM   \n",
       "2     0   3277841          Appointment scheduling software   \n",
       "3     0  13589812           Child care management software   \n",
       "4     0   4102341                          Church software   \n",
       "5     0  26137900                            ClickTime.com   \n",
       "6     0   2399838     Comparison of time-tracking software   \n",
       "7     0   1191446                         E-Administration   \n",
       "8     0   6603087             Employee scheduling software   \n",
       "9     0  22162830                  Meeting scheduling tool   \n",
       "10    0  22112879                         QuickSchools.com   \n",
       "11    0  11984942                        Remember the Milk   \n",
       "12    0  49677616                            Resource Guru   \n",
       "13    0  21586721                               Shiftboard   \n",
       "14    0  26257864                           Sorce intranet   \n",
       "15    0  41332176                                Taskfreak   \n",
       "16    0  28472181                              Taskwarrior   \n",
       "17    0  49478757                     TimeSheet (software)   \n",
       "18    0  21521968                         TOA Technologies   \n",
       "19    0  54493227               Training management system   \n",
       "20    0  32166425                                  TSheets   \n",
       "21    0  40400354                               Wunderlist   \n",
       "0     0   4171371                 Business simulation game   \n",
       "1     0  21362278  List of business simulation video games   \n",
       "2     0  20274682            Project management simulation   \n",
       "3     0  43302474                         3rd World Farmer   \n",
       "4     0  13767273                                  A-Train   \n",
       "5     0  47155408                               AdvertCity   \n",
       "6     0    444481                                  Aerobiz   \n",
       "7     0    949299                       Aerobiz Supersonic   \n",
       "..   ..       ...                                      ...   \n",
       "83    0   9788607                                    Omgeo   \n",
       "84    0  25034980                             OpenMeetings   \n",
       "85    0   1699107                               PaperWorks   \n",
       "86    0   3069932                                  PerForm   \n",
       "87    0   4767593                              Pivot chart   \n",
       "88    0   3062614                  Plan (calendar program)   \n",
       "89    0    456424           PostScript Printer Description   \n",
       "90    0  18532395                        Project KickStart   \n",
       "91    0  15530023                        QFX (file format)   \n",
       "92    0  48254824        Reflex (building design software)   \n",
       "93    0  22628313                       Reliable messaging   \n",
       "94    0   2438634                       Sage 50 Accounting   \n",
       "95    0   9636465                        Salary calculator   \n",
       "96    0  19539906          SAP Transport management system   \n",
       "97    0    327999                          SASI (software)   \n",
       "98    0  26723213                           Sentinel (FBI)   \n",
       "99    0  26178912                             Sierra Chart   \n",
       "100   0  48253668        Sonata (building design software)   \n",
       "101   0  14569194                         Sprog (software)   \n",
       "102   0  47534615                          Super Decisions   \n",
       "103   0   1966364                                SuperCalc   \n",
       "104   0   5192200                TAURUS (share settlement)   \n",
       "105   0   1131405                                 Tress 90   \n",
       "106   0   8838142                     IBM Unica NetInsight   \n",
       "107   0   9818995                              Wang OFFICE   \n",
       "108   0  51567252                                 WeWorked   \n",
       "109   0   5794691                            Whiteboarding   \n",
       "110   0  50315118                                Workflowy   \n",
       "111   0   3234557                                     Xcon   \n",
       "112   0   4260606                    XDB Enterprise Server   \n",
       "\n",
       "                               category  \\\n",
       "0      Category:Administrative software   \n",
       "1      Category:Administrative software   \n",
       "2      Category:Administrative software   \n",
       "3      Category:Administrative software   \n",
       "4      Category:Administrative software   \n",
       "5      Category:Administrative software   \n",
       "6      Category:Administrative software   \n",
       "7      Category:Administrative software   \n",
       "8      Category:Administrative software   \n",
       "9      Category:Administrative software   \n",
       "10     Category:Administrative software   \n",
       "11     Category:Administrative software   \n",
       "12     Category:Administrative software   \n",
       "13     Category:Administrative software   \n",
       "14     Category:Administrative software   \n",
       "15     Category:Administrative software   \n",
       "16     Category:Administrative software   \n",
       "17     Category:Administrative software   \n",
       "18     Category:Administrative software   \n",
       "19     Category:Administrative software   \n",
       "20     Category:Administrative software   \n",
       "21     Category:Administrative software   \n",
       "0    Category:Business simulation games   \n",
       "1    Category:Business simulation games   \n",
       "2    Category:Business simulation games   \n",
       "3    Category:Business simulation games   \n",
       "4    Category:Business simulation games   \n",
       "5    Category:Business simulation games   \n",
       "6    Category:Business simulation games   \n",
       "7    Category:Business simulation games   \n",
       "..                                  ...   \n",
       "83     Category:Business software stubs   \n",
       "84     Category:Business software stubs   \n",
       "85     Category:Business software stubs   \n",
       "86     Category:Business software stubs   \n",
       "87     Category:Business software stubs   \n",
       "88     Category:Business software stubs   \n",
       "89     Category:Business software stubs   \n",
       "90     Category:Business software stubs   \n",
       "91     Category:Business software stubs   \n",
       "92     Category:Business software stubs   \n",
       "93     Category:Business software stubs   \n",
       "94     Category:Business software stubs   \n",
       "95     Category:Business software stubs   \n",
       "96     Category:Business software stubs   \n",
       "97     Category:Business software stubs   \n",
       "98     Category:Business software stubs   \n",
       "99     Category:Business software stubs   \n",
       "100    Category:Business software stubs   \n",
       "101    Category:Business software stubs   \n",
       "102    Category:Business software stubs   \n",
       "103    Category:Business software stubs   \n",
       "104    Category:Business software stubs   \n",
       "105    Category:Business software stubs   \n",
       "106    Category:Business software stubs   \n",
       "107    Category:Business software stubs   \n",
       "108    Category:Business software stubs   \n",
       "109    Category:Business software stubs   \n",
       "110    Category:Business software stubs   \n",
       "111    Category:Business software stubs   \n",
       "112    Category:Business software stubs   \n",
       "\n",
       "                                                  text  \n",
       "0    This article has multiple issues. Please help ...  \n",
       "1    This article has multiple issues. Please help ...  \n",
       "2    This article needs additional citations for ve...  \n",
       "3    Child care management software also referred t...  \n",
       "4    Church software is any type of computer softwa...  \n",
       "5    This article contains content that is written ...  \n",
       "6    This article has multiple issues. Please help ...  \n",
       "7    This article has multiple issues. Please help ...  \n",
       "8    Employee scheduling software automates the pro...  \n",
       "9    This article does not cite any sources. Please...  \n",
       "10   QuickSchools.comTypePrivately heldIndustryStud...  \n",
       "11   This article needs additional citations for ve...  \n",
       "12   This article is being considered for deletion ...  \n",
       "13   This article has multiple issues. Please help ...  \n",
       "14   SORCE IntranetDeveloper(s)SORCE LimitedStable ...  \n",
       "15   This article has multiple issues. Please help ...  \n",
       "16   TaskwarriorTaskwarrior 1.9.x demonstrating col...  \n",
       "17   The topic of this article may not meet Wikiped...  \n",
       "18   This article contains content that is written ...  \n",
       "19   This article has multiple issues. Please help ...  \n",
       "20   This article is an orphan, as no other article...  \n",
       "21   WunderlistOriginal author(s)Christian ReberDev...  \n",
       "0    This article is about the video game genre. Fo...  \n",
       "1    Part of a series on:Simulation video gamesSubg...  \n",
       "2    Project management simulation is simulation us...  \n",
       "3    This article has multiple issues. Please help ...  \n",
       "4    For other uses, see A-Train (disambiguation).T...  \n",
       "5    AdvertCityGame cover imageDeveloper(s)VoxelSto...  \n",
       "6    AerobizNorth American Super NES cover artDevel...  \n",
       "7    Aerobiz SupersonicGenesis version cover art.De...  \n",
       "..                                                 ...  \n",
       "83   The topic of this article may not meet Wikiped...  \n",
       "84   OpenMeetingsDeveloper(s)Maxim Solodovnik, Seba...  \n",
       "85   PaperWorks was a computer program introduced b...  \n",
       "86   This article needs additional citations for ve...  \n",
       "87   This article contains content that is written ...  \n",
       "88   Screenshot of plan runningplan is a calendar a...  \n",
       "89   PostScript Printer DescriptionFilename extensi...  \n",
       "90   This article is about the project management s...  \n",
       "91   QFXFilename extension.qfxDeveloped byIntuitCon...  \n",
       "92   Reflex was a 3D building design software appli...  \n",
       "93   Reliable messaging is the concept of communica...  \n",
       "94   This article needs additional citations for ve...  \n",
       "95   This article has multiple issues. Please help ...  \n",
       "96   This article is an orphan, as no other article...  \n",
       "97   SASI (Schools Administrative Student Informati...  \n",
       "98   Sentinel is a software case management system ...  \n",
       "99   This article needs additional citations for ve...  \n",
       "100  Sonata was a 3D building design software appli...  \n",
       "101  SprogStable release0.14 / July 27, 2005Operati...  \n",
       "102  Super DecisionsIndustryComputer softwareFounde...  \n",
       "103  SuperCalcSuperCalc4 for MS-DOS.Developer(s)Sor...  \n",
       "104  Taurus (Transfer and Automated Registration of...  \n",
       "105  This article needs additional citations for ve...  \n",
       "106  IBM Unica NetInsightDeveloper(s)IBMInitial rel...  \n",
       "107  This article does not cite any sources. Please...  \n",
       "108  This article has multiple issues. Please help ...  \n",
       "109  This article is about the computer term. For t...  \n",
       "110  The topic of this article may not meet Wikiped...  \n",
       "111  The R1 (internally called XCON, for eXpert CON...  \n",
       "112  This article has multiple issues. Please help ...  \n",
       "\n",
       "[1465 rows x 5 columns]"
      ]
     },
     "execution_count": 51,
     "metadata": {},
     "output_type": "execute_result"
    }
   ],
   "source": [
    "bs_subcat_df"
   ]
  },
  {
   "cell_type": "code",
   "execution_count": 53,
   "metadata": {
    "scrolled": true
   },
   "outputs": [
    {
     "data": {
      "text/plain": [
       "(1465, 5)"
      ]
     },
     "execution_count": 53,
     "metadata": {},
     "output_type": "execute_result"
    }
   ],
   "source": [
    "bs_subcat_df.shape"
   ]
  },
  {
   "cell_type": "code",
   "execution_count": null,
   "metadata": {
    "collapsed": true
   },
   "outputs": [],
   "source": []
  },
  {
   "cell_type": "code",
   "execution_count": null,
   "metadata": {
    "collapsed": true
   },
   "outputs": [],
   "source": []
  },
  {
   "cell_type": "code",
   "execution_count": 54,
   "metadata": {
    "collapsed": true
   },
   "outputs": [],
   "source": [
    "def text_cleaner(text):\n",
    "    text = re.sub('[\\.]',' ',text)\n",
    "    text = re.sub('([^A-Za-z0-9_])\\W+',' ', text)\n",
    "    text = re.sub('\\W',' ',text.lower())\n",
    "    text = re.sub('\\d','', text)\n",
    "    return text"
   ]
  },
  {
   "cell_type": "code",
   "execution_count": 55,
   "metadata": {
    "collapsed": true
   },
   "outputs": [],
   "source": [
    "def tokenize (text):\n",
    "    clean_text = text_cleaner(text)\n",
    "    return clean_text.lower().split()"
   ]
  },
  {
   "cell_type": "code",
   "execution_count": 56,
   "metadata": {
    "collapsed": true
   },
   "outputs": [],
   "source": [
    "test = beautify_html_article('1DayLater')"
   ]
  },
  {
   "cell_type": "code",
   "execution_count": 57,
   "metadata": {
    "collapsed": true
   },
   "outputs": [
    {
     "data": {
      "text/plain": [
       "'This article has multiple issues. Please help improve it or discuss these issues on the talk page. (Learn how and when to remove these template messages)This article contains content that is written like an advertisement. Please help improve it by removing promotional content and inappropriate external links, and by adding encyclopedic content written from a neutral point of view. (August 2017) (Learn how and when to remove this template message)The topic of this article may not meet Wikipedia\\'s general notability guideline. Please help to establish notability by citing reliable secondary sources that are independent of the topic and provide significant coverage of it beyond its mere trivial mention. If notability cannot be established, the article is likely to be merged, redirected, or deleted.Find sources:\\xa0\"1DayLater\"\\xa0–\\xa0news\\xa0· newspapers\\xa0· books\\xa0· scholar\\xa0· JSTOR (August 2017) (Learn how and when to remove this template message)A major contributor to this article appears to have a close connection with its subject. It may require cleanup to comply with Wikipedia\\'s content policies, particularly neutral point of view. Please discuss further on the talk page. (October 2012) (Learn how and when to remove this template message)This article is an orphan, as no other articles link to it. Please introduce links to this page from related articles; try the Find link tool for suggestions. (August 2017)(Learn how and when to remove this template message)1DayLaterDeveloper(s)1DayLater LtdOperating systemWeb-basedTypeTime tracking, Invoicing, Productivity, BillingWebsite1DayLater.com1DayLater was free, web-based software that was focused on professional invoicing and collaborative working. It was aimed at companies of any size; from solo workers to large business enterprises. The company was closed and customer data returned in October 2013.[1]The main function of 1DayLater was to help users create Invoices for clients. It could also be used to build Quotes and Estimates, to track time and other expenses, work to budgets, and to track projects. Multiple users could simultaneously work on the same projects together.The software was developed by two brothers, Paul and David King; after they experienced similar frustrations while working freelance, the brothers wanted to create a product that would let them track time, expenses and business miles in a single online location.PCmag voted 1DayLater as one of the \\'Best Free Software of 2010\\' [2]Contents1 History2 Press3 See also4 References5 External linksHistory[edit]1DayLater Ltd was formed in 2009 and had one commercial product of the same name.[3] It remained privately held and located in Newcastle upon Tyne, United Kingdom.Press[edit]1DayLater had the following press coverage:- BBC Webscape (July 2010) - [4] Kate Russell gives her latest selection of the best sites on the World Wide Web- Pcmag (March 2010) - [2] The best free software of 2010- Lifehacker (February 2010) - [5] \"A worthy addition to our \\'Top Ten Tips and Tools for Freelancers\\'\"- Gigaom (February 2010) - [6] Taking a closer look with 1DayLater- The Journal Newspaper (May 2009) - [7] \"Top Ten Brands of the North East\" (UK)- Techcrunch (January 2009) - [8] \"A \\'feisty time tracking solution from the North East of England\\'\"See also[edit]ProductivityList of time tracking softwareSoftwareReferences[edit]^ \"Closing announcement\". 1DayLater. Archived from the original on 2013-09-05.\\xa0^ a b Eric Griffith (March 29, 2010). \"Best free software of 2010\". PCmag. Archived from the original on 2 April 2010. Retrieved 2010-04-01.\\xa0^ Sunderland Software City (November 17, 2009). \"Brothers go into Beta\". Sunderland Software City blog. Archived from the original on 18 April 2010. Retrieved 2010-03-27.\\xa0^ Kate Russell (July 21, 2010). \"Kate Russell gives her latest selection of the best sites on the World Wide Web\". BBC Webscape. Retrieved 2010-04-01.\\xa0^ Kevin Purdy (February 17, 2010). \"1DayLater tracks and graphs your time, money and mileage\". Lifehacker. Archived from the original on 25 March 2010. Retrieved 2010-03-27.\\xa0^ Georgina Laidlaw (February 2010). \"Taking a closer look with 1DayLater\". Gigaom. Archived from the original on 8 February 2010. Retrieved 2010-02-08.\\xa0^ The Journal Newspaper (May 22, 2009). \"Top Ten Brands of the North East\". Think North East First campaign. Retrieved 2010-03-27.\\xa0^ Steve O\\'Hear (January 5, 2010). \"A feisty time tracking solution from the North East of England\". Techrunch Europe. Archived from the original on 24 March 2010. Retrieved 2010-03-27.\\xa0External links[edit]Official site, March 2013 archive'"
      ]
     },
     "execution_count": 57,
     "metadata": {},
     "output_type": "execute_result"
    }
   ],
   "source": [
    "test"
   ]
  },
  {
   "cell_type": "code",
   "execution_count": 58,
   "metadata": {
    "collapsed": true,
    "scrolled": false
   },
   "outputs": [],
   "source": [
    "cleaned_text = text_cleaner(test)"
   ]
  },
  {
   "cell_type": "code",
   "execution_count": 59,
   "metadata": {
    "collapsed": true
   },
   "outputs": [],
   "source": [
    "token_test = tokenize(cleaned_text)"
   ]
  },
  {
   "cell_type": "code",
   "execution_count": null,
   "metadata": {
    "collapsed": true
   },
   "outputs": [],
   "source": []
  },
  {
   "cell_type": "markdown",
   "metadata": {},
   "source": [
    "### Run the `text_cleaner` function on the text for each DataFrame"
   ]
  },
  {
   "cell_type": "code",
   "execution_count": 60,
   "metadata": {
    "collapsed": true
   },
   "outputs": [],
   "source": [
    "ml_df['text'] = ml_df['text'].apply(lambda x: text_cleaner(x))"
   ]
  },
  {
   "cell_type": "code",
   "execution_count": 61,
   "metadata": {
    "collapsed": true
   },
   "outputs": [],
   "source": [
    "bs_df['text'] = bs_df['text'].apply(lambda x: text_cleaner(x))"
   ]
  },
  {
   "cell_type": "code",
   "execution_count": 62,
   "metadata": {
    "collapsed": true
   },
   "outputs": [],
   "source": [
    "ml_subcat_df['text'] = ml_subcat_df['text'].apply(lambda x: text_cleaner(x))"
   ]
  },
  {
   "cell_type": "code",
   "execution_count": 63,
   "metadata": {
    "collapsed": true
   },
   "outputs": [],
   "source": [
    "bs_subcat_df['text'] = bs_subcat_df['text'].apply(lambda x: text_cleaner(x))"
   ]
  },
  {
   "cell_type": "code",
   "execution_count": null,
   "metadata": {
    "collapsed": true
   },
   "outputs": [],
   "source": []
  },
  {
   "cell_type": "markdown",
   "metadata": {},
   "source": [
    "### Pickle the generated DataFrames before joining / concatenating them"
   ]
  },
  {
   "cell_type": "code",
   "execution_count": 64,
   "metadata": {
    "collapsed": true
   },
   "outputs": [],
   "source": [
    "ml_df.to_pickle('../data/ml_df.p')"
   ]
  },
  {
   "cell_type": "code",
   "execution_count": 65,
   "metadata": {
    "collapsed": true
   },
   "outputs": [],
   "source": [
    "bs_df.to_pickle('../data/bs_df.p')"
   ]
  },
  {
   "cell_type": "code",
   "execution_count": 66,
   "metadata": {
    "collapsed": true
   },
   "outputs": [],
   "source": [
    "ml_subcat_df.to_pickle('../data/ml_subcat_df.p')"
   ]
  },
  {
   "cell_type": "code",
   "execution_count": 67,
   "metadata": {
    "collapsed": true
   },
   "outputs": [],
   "source": [
    "bs_subcat_df.to_pickle('../data/bs_subcat_df.p')"
   ]
  },
  {
   "cell_type": "code",
   "execution_count": null,
   "metadata": {
    "collapsed": true
   },
   "outputs": [],
   "source": []
  },
  {
   "cell_type": "markdown",
   "metadata": {},
   "source": [
    "### Join the parent articles + subcat articles df"
   ]
  },
  {
   "cell_type": "markdown",
   "metadata": {},
   "source": [
    "#### Join the bs_df and bs_subcat_df"
   ]
  },
  {
   "cell_type": "code",
   "execution_count": 68,
   "metadata": {},
   "outputs": [
    {
     "data": {
      "text/plain": [
       "(198, 5)"
      ]
     },
     "execution_count": 68,
     "metadata": {},
     "output_type": "execute_result"
    }
   ],
   "source": [
    "ml_df.shape"
   ]
  },
  {
   "cell_type": "code",
   "execution_count": 69,
   "metadata": {},
   "outputs": [
    {
     "data": {
      "text/plain": [
       "(826, 5)"
      ]
     },
     "execution_count": 69,
     "metadata": {},
     "output_type": "execute_result"
    }
   ],
   "source": [
    "ml_subcat_df.shape"
   ]
  },
  {
   "cell_type": "code",
   "execution_count": 70,
   "metadata": {
    "collapsed": true
   },
   "outputs": [],
   "source": [
    "ml_total_df = ml_df.merge(ml_subcat_df, how='outer')"
   ]
  },
  {
   "cell_type": "code",
   "execution_count": 72,
   "metadata": {},
   "outputs": [
    {
     "data": {
      "text/html": [
       "<div>\n",
       "<table border=\"1\" class=\"dataframe\">\n",
       "  <thead>\n",
       "    <tr style=\"text-align: right;\">\n",
       "      <th></th>\n",
       "      <th>ns</th>\n",
       "      <th>pageid</th>\n",
       "      <th>title</th>\n",
       "      <th>category</th>\n",
       "      <th>text</th>\n",
       "    </tr>\n",
       "  </thead>\n",
       "  <tbody>\n",
       "    <tr>\n",
       "      <th>739</th>\n",
       "      <td>0</td>\n",
       "      <td>4094720</td>\n",
       "      <td>Latent class model</td>\n",
       "      <td>Category:Latent variable models</td>\n",
       "      <td>in statistics a latent class model lcm relates...</td>\n",
       "    </tr>\n",
       "    <tr>\n",
       "      <th>358</th>\n",
       "      <td>0</td>\n",
       "      <td>43561218</td>\n",
       "      <td>Word embedding</td>\n",
       "      <td>Category:Artificial neural networks</td>\n",
       "      <td>machine learning anddata miningproblemsclassif...</td>\n",
       "    </tr>\n",
       "    <tr>\n",
       "      <th>954</th>\n",
       "      <td>0</td>\n",
       "      <td>51097862</td>\n",
       "      <td>Ilya Sutskever</td>\n",
       "      <td>Category:Machine learning researchers</td>\n",
       "      <td>ilya sutskeverresidencemountain view californi...</td>\n",
       "    </tr>\n",
       "    <tr>\n",
       "      <th>510</th>\n",
       "      <td>0</td>\n",
       "      <td>40023747</td>\n",
       "      <td>Apache Flume</td>\n",
       "      <td>Category:Data mining and machine learning soft...</td>\n",
       "      <td>apache flumestable release     october     dev...</td>\n",
       "    </tr>\n",
       "    <tr>\n",
       "      <th>44</th>\n",
       "      <td>0</td>\n",
       "      <td>787776</td>\n",
       "      <td>Curse of dimensionality</td>\n",
       "      <td>Category:Machine_learning</td>\n",
       "      <td>the curse of dimensionality refers to various ...</td>\n",
       "    </tr>\n",
       "  </tbody>\n",
       "</table>\n",
       "</div>"
      ],
      "text/plain": [
       "     ns    pageid                    title  \\\n",
       "739   0   4094720       Latent class model   \n",
       "358   0  43561218           Word embedding   \n",
       "954   0  51097862           Ilya Sutskever   \n",
       "510   0  40023747             Apache Flume   \n",
       "44    0    787776  Curse of dimensionality   \n",
       "\n",
       "                                              category  \\\n",
       "739                    Category:Latent variable models   \n",
       "358                Category:Artificial neural networks   \n",
       "954              Category:Machine learning researchers   \n",
       "510  Category:Data mining and machine learning soft...   \n",
       "44                           Category:Machine_learning   \n",
       "\n",
       "                                                  text  \n",
       "739  in statistics a latent class model lcm relates...  \n",
       "358  machine learning anddata miningproblemsclassif...  \n",
       "954  ilya sutskeverresidencemountain view californi...  \n",
       "510  apache flumestable release     october     dev...  \n",
       "44   the curse of dimensionality refers to various ...  "
      ]
     },
     "execution_count": 72,
     "metadata": {},
     "output_type": "execute_result"
    }
   ],
   "source": [
    "ml_total_df.sample(5)"
   ]
  },
  {
   "cell_type": "code",
   "execution_count": 73,
   "metadata": {},
   "outputs": [
    {
     "data": {
      "text/plain": [
       "(1024, 5)"
      ]
     },
     "execution_count": 73,
     "metadata": {},
     "output_type": "execute_result"
    }
   ],
   "source": [
    "ml_total_df.shape"
   ]
  },
  {
   "cell_type": "code",
   "execution_count": 81,
   "metadata": {
    "collapsed": true
   },
   "outputs": [],
   "source": [
    "ml_total_df.to_pickle('../data/ml_total_df.p')"
   ]
  },
  {
   "cell_type": "markdown",
   "metadata": {},
   "source": [
    "#### Join the bs_df and bs_subcat_df"
   ]
  },
  {
   "cell_type": "code",
   "execution_count": 74,
   "metadata": {},
   "outputs": [
    {
     "data": {
      "text/plain": [
       "(298, 5)"
      ]
     },
     "execution_count": 74,
     "metadata": {},
     "output_type": "execute_result"
    }
   ],
   "source": [
    "bs_df.shape"
   ]
  },
  {
   "cell_type": "code",
   "execution_count": 75,
   "metadata": {},
   "outputs": [
    {
     "data": {
      "text/plain": [
       "(1465, 5)"
      ]
     },
     "execution_count": 75,
     "metadata": {},
     "output_type": "execute_result"
    }
   ],
   "source": [
    "bs_subcat_df.shape"
   ]
  },
  {
   "cell_type": "code",
   "execution_count": 76,
   "metadata": {
    "collapsed": true
   },
   "outputs": [],
   "source": [
    "bs_total_df = bs_df.merge(bs_subcat_df, how='outer')"
   ]
  },
  {
   "cell_type": "code",
   "execution_count": 77,
   "metadata": {},
   "outputs": [
    {
     "data": {
      "text/plain": [
       "(1763, 5)"
      ]
     },
     "execution_count": 77,
     "metadata": {},
     "output_type": "execute_result"
    }
   ],
   "source": [
    "bs_total_df.shape"
   ]
  },
  {
   "cell_type": "code",
   "execution_count": 80,
   "metadata": {
    "collapsed": true
   },
   "outputs": [],
   "source": [
    "bs_total_df.to_pickle('../data/bs_total_df.p')"
   ]
  },
  {
   "cell_type": "markdown",
   "metadata": {},
   "source": [
    "#### Join the ml_total_df with the bs_total_df"
   ]
  },
  {
   "cell_type": "code",
   "execution_count": 78,
   "metadata": {
    "collapsed": true
   },
   "outputs": [],
   "source": [
    "total_df = ml_total_df.merge(bs_total_df, how='outer')"
   ]
  },
  {
   "cell_type": "code",
   "execution_count": 79,
   "metadata": {},
   "outputs": [
    {
     "data": {
      "text/plain": [
       "(2787, 5)"
      ]
     },
     "execution_count": 79,
     "metadata": {},
     "output_type": "execute_result"
    }
   ],
   "source": [
    "total_df.shape"
   ]
  },
  {
   "cell_type": "code",
   "execution_count": 82,
   "metadata": {
    "collapsed": true
   },
   "outputs": [],
   "source": [
    "total_df.to_pickle('../data/total_df.p')"
   ]
  },
  {
   "cell_type": "markdown",
   "metadata": {},
   "source": [
    "#### Subset the total_df DataFrame into a Category table vs. a Page table"
   ]
  },
  {
   "cell_type": "code",
   "execution_count": 85,
   "metadata": {
    "collapsed": true
   },
   "outputs": [],
   "source": [
    "from sklearn.preprocessing import LabelEncoder"
   ]
  },
  {
   "cell_type": "code",
   "execution_count": 86,
   "metadata": {
    "collapsed": true
   },
   "outputs": [],
   "source": [
    "le = LabelEncoder()"
   ]
  },
  {
   "cell_type": "code",
   "execution_count": 84,
   "metadata": {},
   "outputs": [
    {
     "data": {
      "text/html": [
       "<div>\n",
       "<table border=\"1\" class=\"dataframe\">\n",
       "  <thead>\n",
       "    <tr style=\"text-align: right;\">\n",
       "      <th></th>\n",
       "      <th>ns</th>\n",
       "      <th>pageid</th>\n",
       "      <th>title</th>\n",
       "      <th>category</th>\n",
       "      <th>text</th>\n",
       "    </tr>\n",
       "  </thead>\n",
       "  <tbody>\n",
       "    <tr>\n",
       "      <th>2524</th>\n",
       "      <td>0</td>\n",
       "      <td>41724012</td>\n",
       "      <td>KORE Wireless</td>\n",
       "      <td>Category:Service-oriented architecture-related...</td>\n",
       "      <td>kore wireless group inc kore wireless group lo...</td>\n",
       "    </tr>\n",
       "    <tr>\n",
       "      <th>678</th>\n",
       "      <td>0</td>\n",
       "      <td>5609640</td>\n",
       "      <td>Grammatical evolution</td>\n",
       "      <td>Category:Evolutionary algorithms</td>\n",
       "      <td>grammatical evolution is a relatively new evol...</td>\n",
       "    </tr>\n",
       "    <tr>\n",
       "      <th>777</th>\n",
       "      <td>0</td>\n",
       "      <td>26996847</td>\n",
       "      <td>Evolutionary multimodal optimization</td>\n",
       "      <td>Category:Machine learning algorithms</td>\n",
       "      <td>in applied mathematics multimodal optimization...</td>\n",
       "    </tr>\n",
       "    <tr>\n",
       "      <th>851</th>\n",
       "      <td>0</td>\n",
       "      <td>37809826</td>\n",
       "      <td>Interacting particle system</td>\n",
       "      <td>Category:Markov models</td>\n",
       "      <td>in probability theory an interacting particle ...</td>\n",
       "    </tr>\n",
       "    <tr>\n",
       "      <th>2538</th>\n",
       "      <td>0</td>\n",
       "      <td>8524735</td>\n",
       "      <td>SAP Composite Application Framework</td>\n",
       "      <td>Category:Service-oriented architecture-related...</td>\n",
       "      <td>this article needs additional citations for ve...</td>\n",
       "    </tr>\n",
       "  </tbody>\n",
       "</table>\n",
       "</div>"
      ],
      "text/plain": [
       "      ns    pageid                                 title  \\\n",
       "2524   0  41724012                         KORE Wireless   \n",
       "678    0   5609640                 Grammatical evolution   \n",
       "777    0  26996847  Evolutionary multimodal optimization   \n",
       "851    0  37809826           Interacting particle system   \n",
       "2538   0   8524735   SAP Composite Application Framework   \n",
       "\n",
       "                                               category  \\\n",
       "2524  Category:Service-oriented architecture-related...   \n",
       "678                    Category:Evolutionary algorithms   \n",
       "777                Category:Machine learning algorithms   \n",
       "851                              Category:Markov models   \n",
       "2538  Category:Service-oriented architecture-related...   \n",
       "\n",
       "                                                   text  \n",
       "2524  kore wireless group inc kore wireless group lo...  \n",
       "678   grammatical evolution is a relatively new evol...  \n",
       "777   in applied mathematics multimodal optimization...  \n",
       "851   in probability theory an interacting particle ...  \n",
       "2538  this article needs additional citations for ve...  "
      ]
     },
     "execution_count": 84,
     "metadata": {},
     "output_type": "execute_result"
    }
   ],
   "source": [
    "total_df.sample(5)"
   ]
  },
  {
   "cell_type": "code",
   "execution_count": null,
   "metadata": {
    "collapsed": true
   },
   "outputs": [],
   "source": []
  }
 ],
 "metadata": {
  "kernelspec": {
   "display_name": "Python 3",
   "language": "python",
   "name": "python3"
  },
  "language_info": {
   "codemirror_mode": {
    "name": "ipython",
    "version": 3
   },
   "file_extension": ".py",
   "mimetype": "text/x-python",
   "name": "python",
   "nbconvert_exporter": "python",
   "pygments_lexer": "ipython3",
   "version": "3.5.2"
  }
 },
 "nbformat": 4,
 "nbformat_minor": 2
}
