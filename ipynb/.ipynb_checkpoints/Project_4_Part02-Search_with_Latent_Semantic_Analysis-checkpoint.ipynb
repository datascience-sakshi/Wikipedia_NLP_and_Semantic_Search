{
 "cells": [
  {
   "cell_type": "markdown",
   "metadata": {},
   "source": [
    "## Part II - Latent Semantic Analysis to Grab Related Articles Given a Query"
   ]
  },
  {
   "cell_type": "code",
   "execution_count": 1,
   "metadata": {
    "collapsed": true
   },
   "outputs": [],
   "source": [
    "import matplotlib.pyplot as plt\n",
    "import numpy as np\n",
    "import pandas as pd\n",
    "import seaborn as sns\n",
    "\n",
    "%matplotlib inline"
   ]
  },
  {
   "cell_type": "code",
   "execution_count": 13,
   "metadata": {
    "collapsed": true
   },
   "outputs": [],
   "source": [
    "from sklearn.feature_extraction.text import CountVectorizer, TfidfVectorizer, TfidfTransformer\n",
    "from sklearn.decomposition import TruncatedSVD\n",
    "from sklearn.metrics.pairwise import cosine_similarity"
   ]
  },
  {
   "cell_type": "code",
   "execution_count": 2,
   "metadata": {},
   "outputs": [],
   "source": [
    "from os import chdir\n",
    "chdir('/home/jovyan/')"
   ]
  },
  {
   "cell_type": "code",
   "execution_count": 7,
   "metadata": {
    "scrolled": false
   },
   "outputs": [],
   "source": [
    "import library.db_helper as db\n",
    "import library.functions as fy"
   ]
  },
  {
   "cell_type": "markdown",
   "metadata": {},
   "source": [
    "### Grab Text from the Page table"
   ]
  },
  {
   "cell_type": "code",
   "execution_count": 8,
   "metadata": {},
   "outputs": [],
   "source": [
    "query = '''\n",
    "SELECT text\n",
    "FROM page\n",
    "'''\n",
    "\n",
    "X = db.query_to_dataframe(query)"
   ]
  },
  {
   "cell_type": "code",
   "execution_count": 9,
   "metadata": {
    "scrolled": true
   },
   "outputs": [
    {
     "data": {
      "text/html": [
       "<div>\n",
       "<table border=\"1\" class=\"dataframe\">\n",
       "  <thead>\n",
       "    <tr style=\"text-align: right;\">\n",
       "      <th></th>\n",
       "      <th>text</th>\n",
       "    </tr>\n",
       "  </thead>\n",
       "  <tbody>\n",
       "    <tr>\n",
       "      <th>2129</th>\n",
       "      <td>the sun java system communications express pro...</td>\n",
       "    </tr>\n",
       "    <tr>\n",
       "      <th>455</th>\n",
       "      <td>journal of machine learning research abbreviat...</td>\n",
       "    </tr>\n",
       "    <tr>\n",
       "      <th>246</th>\n",
       "      <td>gradient boosting is a machine learning techni...</td>\n",
       "    </tr>\n",
       "    <tr>\n",
       "      <th>536</th>\n",
       "      <td>a schema is a template in computer science use...</td>\n",
       "    </tr>\n",
       "    <tr>\n",
       "      <th>25</th>\n",
       "      <td>the accuracy paradox for predictive analytics ...</td>\n",
       "    </tr>\n",
       "  </tbody>\n",
       "</table>\n",
       "</div>"
      ],
      "text/plain": [
       "                                                   text\n",
       "2129  the sun java system communications express pro...\n",
       "455   journal of machine learning research abbreviat...\n",
       "246   gradient boosting is a machine learning techni...\n",
       "536   a schema is a template in computer science use...\n",
       "25    the accuracy paradox for predictive analytics ..."
      ]
     },
     "execution_count": 9,
     "metadata": {},
     "output_type": "execute_result"
    }
   ],
   "source": [
    "X.sample(5)"
   ]
  },
  {
   "cell_type": "code",
   "execution_count": 21,
   "metadata": {
    "collapsed": true
   },
   "outputs": [],
   "source": [
    "query = '''\n",
    "SELECT * \n",
    "FROM page \n",
    "'''\n",
    "\n",
    "page = db.query_to_dataframe(query)"
   ]
  },
  {
   "cell_type": "markdown",
   "metadata": {},
   "source": [
    "### Setup Latent Semantic Analysis - Article Modeling"
   ]
  },
  {
   "cell_type": "markdown",
   "metadata": {},
   "source": [
    "![](http://interactive.blockdiag.com/image?compression=deflate&encoding=base64&src=eJxLyslPzk7JTExXqOZSUFAqSixXSEksSVRS0LVTUCpILCpOhTCTc1IT85SsQWogTLBoSGpRrq5LfnJpbmpeiUJMnm9iSVFmBUQZDjmwvuAwFwjDM68ktaigKBWkICi1uDSnpBiouxYAYKwuOg)"
   ]
  },
  {
   "cell_type": "markdown",
   "metadata": {},
   "source": [
    "#### 1. Vetorize the Search Term and the Corpus (X['text'])"
   ]
  },
  {
   "cell_type": "code",
   "execution_count": 14,
   "metadata": {
    "collapsed": true
   },
   "outputs": [],
   "source": [
    "def tfidf_vectorizer (search_query, min_df=1):\n",
    "    tfidf_vec = TfidfVectorizer(stop_words = 'english', min_df=min_df)\n",
    "    doc_term_matrix = tfidf_vec.fit_transform(X['text'])\n",
    "    search_query_vec = tfidf_vec.transform([search_query])\n",
    "    return doc_term_matrix, search_query_vec"
   ]
  },
  {
   "cell_type": "code",
   "execution_count": 15,
   "metadata": {},
   "outputs": [
    {
     "data": {
      "text/plain": [
       "(<2787x42182 sparse matrix of type '<class 'numpy.float64'>'\n",
       " \twith 825514 stored elements in Compressed Sparse Row format>,\n",
       " <1x42182 sparse matrix of type '<class 'numpy.float64'>'\n",
       " \twith 1 stored elements in Compressed Sparse Row format>)"
      ]
     },
     "execution_count": 15,
     "metadata": {},
     "output_type": "execute_result"
    }
   ],
   "source": [
    "tfidf_vectorizer('oracle', min_df=2)"
   ]
  },
  {
   "cell_type": "markdown",
   "metadata": {},
   "source": [
    "#### 2. Use SVD to reduce dimensionality for the sparse document matrix"
   ]
  },
  {
   "cell_type": "code",
   "execution_count": 17,
   "metadata": {
    "collapsed": true
   },
   "outputs": [],
   "source": [
    "def SVD_lsa (search_query, n_components=300, min_df=1):\n",
    "    SVD = TruncatedSVD(n_components=n_components)\n",
    "    doc_term_matrix, search_query_vec = tfidf_vectorizer (search_query, min_df = min_df)\n",
    "    \n",
    "    lsa_doc_term = SVD.fit_transform(doc_term_matrix)\n",
    "    search_query_lsa = SVD.transform(search_query_vec)\n",
    "    \n",
    "    return lsa_doc_term, search_query_lsa"
   ]
  },
  {
   "cell_type": "code",
   "execution_count": 18,
   "metadata": {
    "collapsed": true
   },
   "outputs": [
    {
     "data": {
      "text/plain": [
       "(array([[  2.19187973e-01,  -9.22950396e-02,   6.84874674e-02, ...,\n",
       "           7.34548933e-03,   1.14847961e-02,   2.76274111e-02],\n",
       "        [  5.97464119e-02,  -1.09973624e-02,   4.15869659e-02, ...,\n",
       "           1.93461839e-03,   1.87320767e-02,   1.52070552e-03],\n",
       "        [  1.42714207e-01,  -1.10184687e-01,  -2.99154346e-02, ...,\n",
       "           2.28358944e-02,   2.83076098e-02,   2.67475152e-02],\n",
       "        ..., \n",
       "        [  1.10979565e-01,  -5.73086253e-02,  -2.86838234e-02, ...,\n",
       "          -1.66288794e-02,   1.34649422e-02,   2.32041595e-02],\n",
       "        [  2.70213254e-01,   8.72708550e-02,   1.75249455e-01, ...,\n",
       "          -2.06202565e-02,  -7.56653666e-05,  -3.00825094e-02],\n",
       "        [  1.59352198e-01,  -1.23852041e-01,  -7.50155022e-02, ...,\n",
       "          -1.26395381e-02,  -5.67572018e-03,  -1.87137407e-02]]),\n",
       " array([[  3.64857226e-02,  -3.00911160e-02,  -1.52674420e-02,\n",
       "          -8.03341810e-02,  -5.74284470e-02,   1.18168588e-01,\n",
       "          -9.92074447e-02,  -1.93431701e-02,   2.47798289e-02,\n",
       "          -1.16176843e-01,   1.85838856e-01,  -3.51619575e-01,\n",
       "           6.42954069e-01,  -1.20778903e-01,   2.16804405e-01,\n",
       "          -1.09660834e-01,   3.33479512e-02,   2.35041934e-01,\n",
       "           4.52895755e-02,  -4.83363314e-02,  -1.42749998e-01,\n",
       "           7.70282088e-03,  -4.04474499e-02,   2.71933078e-02,\n",
       "           1.00000543e-01,  -3.17492674e-02,   2.17674418e-03,\n",
       "          -2.17350255e-02,   1.55375722e-02,  -4.27967676e-04,\n",
       "          -3.22770210e-02,  -6.80855260e-02,  -2.56871764e-02,\n",
       "           2.53767710e-02,  -3.25131637e-02,  -3.41408674e-02,\n",
       "           2.00219647e-02,  -3.13119210e-02,   2.92943362e-02,\n",
       "          -1.03569534e-02,  -1.04283004e-02,  -8.55863909e-03,\n",
       "           4.59248657e-02,  -9.85686186e-03,  -1.43218759e-02,\n",
       "          -8.00645646e-03,   4.69689857e-03,  -1.78048619e-02,\n",
       "          -1.71881118e-02,   2.64071262e-02,   4.28926937e-02,\n",
       "           4.13111985e-02,  -1.97979207e-03,  -1.22912307e-02,\n",
       "          -3.28492007e-02,  -4.02294937e-02,  -3.58334176e-02,\n",
       "          -3.44177084e-02,   8.10790664e-03,   2.61889615e-02,\n",
       "           2.38546600e-02,   3.27930767e-02,  -2.04143588e-02,\n",
       "          -7.01649176e-03,   9.17868165e-03,  -4.19705303e-03,\n",
       "           5.64713484e-03,   5.78124459e-03,   1.67441652e-02,\n",
       "           3.86716537e-03,  -1.59394535e-04,  -1.21055922e-02,\n",
       "           1.78353510e-02,  -8.06599169e-03,  -2.48583241e-03,\n",
       "          -8.56391589e-03,   2.37870661e-02,   1.81934749e-02,\n",
       "           4.75416207e-04,   8.28097603e-03,   4.41204140e-03,\n",
       "           1.25050580e-02,   6.64209474e-03,  -7.66318514e-03,\n",
       "           1.96012480e-04,   1.10234329e-02,   1.85978449e-04,\n",
       "           2.29670370e-02,  -2.57922802e-02,   7.45302354e-03,\n",
       "           1.11716588e-02,  -7.15927720e-03,  -1.35357668e-02,\n",
       "           9.96439465e-04,   1.32045568e-02,   3.94469710e-03,\n",
       "          -9.21138997e-03,  -1.45652062e-02,   1.97511598e-02,\n",
       "          -1.16741298e-02,  -2.41589833e-03,  -3.21083053e-03,\n",
       "          -6.82659499e-04,  -3.94629128e-03,  -5.68059090e-03,\n",
       "          -2.72834384e-04,   6.72416841e-03,   8.29595764e-03,\n",
       "          -2.39860307e-02,  -9.74233516e-03,   9.88958952e-03,\n",
       "          -9.02104028e-03,   2.39750349e-03,  -1.63901620e-02,\n",
       "          -1.27690842e-02,  -1.52291962e-02,   2.02852852e-03,\n",
       "          -4.36731707e-03,   2.09637906e-03,   3.29340754e-02,\n",
       "          -8.21108316e-03,   1.20661160e-02,  -1.51319968e-02,\n",
       "           9.37501485e-03,   1.44159927e-03,   9.60367009e-03,\n",
       "          -1.98483959e-02,   4.38332641e-03,   2.08096805e-03,\n",
       "          -1.21389472e-02,  -2.85548166e-03,  -4.49446099e-03,\n",
       "          -1.36679470e-02,  -8.09487555e-03,  -4.12968901e-03,\n",
       "          -1.05346851e-02,  -1.30342626e-03,   1.22542122e-02,\n",
       "           8.96768654e-04,  -2.04036982e-03,  -2.71121840e-03,\n",
       "           3.43751803e-03,  -4.62699436e-03,   3.42780712e-03,\n",
       "          -1.64440007e-02,   1.29181268e-02,   4.17939737e-03,\n",
       "          -1.22368827e-02,  -2.96496342e-04,  -1.33684713e-03,\n",
       "           3.18758328e-03,   1.14462762e-03,  -6.35038977e-03,\n",
       "           8.16640103e-03,  -9.79781827e-03,   6.59877570e-03,\n",
       "          -8.82296544e-03,   6.63140542e-03,   4.94075595e-03,\n",
       "          -1.07171950e-04,  -1.85837634e-03,   4.95885749e-03,\n",
       "          -4.12158290e-03,   1.68271625e-02,   3.05055586e-03,\n",
       "          -1.53325802e-02,   3.77979748e-03,  -2.25043135e-03,\n",
       "           2.71224028e-04,  -7.86259601e-03,   8.70138729e-03,\n",
       "           6.68354385e-03,   1.56006793e-02,  -1.35536486e-02,\n",
       "          -6.71482212e-03,  -6.51903788e-03,   6.37492819e-03,\n",
       "          -5.52835975e-03,   1.77705796e-02,   4.00183269e-04,\n",
       "          -3.68500235e-03,   5.40911045e-03,   7.87726544e-03,\n",
       "           3.68171521e-03,   7.44502937e-03,   1.36097793e-02,\n",
       "           2.12296678e-02,   4.82331748e-04,   3.73277661e-02,\n",
       "           6.87466182e-04,  -5.17574135e-03,   1.40491316e-02,\n",
       "           1.78076285e-02,  -1.83000024e-02,   3.93352261e-03,\n",
       "           4.82393956e-03,  -1.64281850e-03,   3.46936105e-03,\n",
       "           1.12153992e-02,  -3.79257534e-03,   3.48660829e-03,\n",
       "          -9.49726187e-03,   4.00557145e-03,   1.31708284e-02,\n",
       "          -1.85251245e-02,   1.20560400e-02,  -5.55898127e-03,\n",
       "          -1.78544786e-03,  -1.77224665e-02,   1.15639648e-02,\n",
       "           1.22404130e-02,  -1.06919155e-02,  -1.05956953e-04,\n",
       "          -7.12552923e-04,  -2.56758390e-02,  -2.06814651e-02,\n",
       "          -1.63185327e-02,  -1.61057902e-02,  -1.96933982e-02,\n",
       "          -3.39395245e-03,  -6.02312434e-03,   1.53369188e-02,\n",
       "           9.35615984e-03,   8.32787233e-03,  -2.16630879e-02,\n",
       "          -3.25080147e-03,   1.32822098e-02,   1.98841544e-02,\n",
       "           2.53195013e-02,   1.62371638e-02,   5.94866216e-03,\n",
       "           3.62066138e-03,   8.00496475e-03,   4.48744837e-03,\n",
       "           1.77498711e-02,  -6.01304231e-03,   1.25028081e-02,\n",
       "           9.83050088e-03,  -1.05691395e-02,  -1.54086270e-02,\n",
       "           1.91700957e-03,   2.48550836e-02,   1.86843120e-02,\n",
       "           1.68853442e-02,   4.46930233e-03,   1.25047057e-02,\n",
       "           7.78342312e-04,  -5.46583688e-03,  -9.98120893e-03,\n",
       "           1.13972723e-02,  -1.25148986e-02,  -5.87324576e-03,\n",
       "          -9.66544477e-03,   2.77589513e-02,  -3.10119107e-02,\n",
       "           1.41920711e-02,  -1.96202492e-02,  -5.10138644e-03,\n",
       "          -1.06428555e-02,   2.84376247e-04,  -1.46444048e-02,\n",
       "          -1.01841467e-03,   1.98400790e-02,   1.55164949e-02,\n",
       "          -6.42274419e-03,  -7.77097207e-03,   4.62672497e-04,\n",
       "           2.53408394e-03,  -1.39881786e-02,  -1.26926890e-02,\n",
       "          -8.55416812e-03,  -1.51706026e-02,  -1.69827382e-02,\n",
       "          -5.34960317e-03,  -1.29324076e-02,  -3.95648463e-03,\n",
       "          -8.24154314e-03,   7.09404763e-03,  -1.08968481e-02,\n",
       "          -1.10963983e-02,  -1.66817679e-03,   2.67361606e-03,\n",
       "          -3.34440585e-03,   8.62371653e-03,   1.44063407e-02,\n",
       "           3.67516261e-03,  -4.76479625e-05,  -2.13795910e-03,\n",
       "          -5.47769404e-04,  -6.91879232e-03,   9.50379831e-03,\n",
       "           4.02682062e-03,  -1.52888513e-02,  -2.26039656e-04,\n",
       "          -1.10991361e-02,  -1.14278640e-02,  -5.23175251e-03,\n",
       "           1.92705521e-02,  -2.11306901e-02,  -1.77265957e-02,\n",
       "          -5.95059198e-03,  -1.04447513e-03,   2.95215636e-03,\n",
       "          -9.14075206e-03,  -1.57025116e-02,  -8.26720694e-03,\n",
       "           2.93372352e-03,   2.21990708e-03,   3.46048934e-03,\n",
       "           8.51316897e-04,   9.03650620e-03,  -7.54012285e-03,\n",
       "           1.29388101e-03,  -2.42989965e-03,   7.68441972e-04,\n",
       "          -8.66893877e-03,   5.44356283e-03,  -3.24292975e-02,\n",
       "          -1.80520780e-02,   3.72877962e-04,   1.47381941e-03,\n",
       "           6.88134755e-03,  -3.21227288e-03,  -1.20309995e-02,\n",
       "           2.77178693e-03,   3.30016004e-03,  -1.98872152e-02,\n",
       "           6.84419754e-03,   8.28389706e-03,  -6.88262667e-04,\n",
       "           1.13745281e-02,  -3.86099577e-03,  -1.08060575e-02,\n",
       "          -1.51956876e-02,   3.63098576e-03,  -7.65190959e-03,\n",
       "           8.50143282e-03,  -6.32779461e-03,   1.79679815e-03,\n",
       "          -2.66660081e-03,  -6.82336489e-03,  -1.10197255e-02,\n",
       "          -6.56582183e-03,  -4.76637145e-03,  -6.85724675e-03,\n",
       "          -7.15005065e-03,   7.07957719e-03,  -2.05007640e-02,\n",
       "           2.55366138e-02,   5.86325859e-03,   1.31889845e-02,\n",
       "          -1.22094177e-02,   1.05112207e-03,  -7.28882890e-03,\n",
       "           8.86025296e-03,   5.42327462e-03,  -3.11428173e-03,\n",
       "          -1.02207022e-04,  -1.06657966e-02,   1.45781533e-02,\n",
       "          -7.51009934e-04,   1.27634051e-02,   5.48549896e-03,\n",
       "          -5.14999558e-03,   3.49343575e-03,   3.40346072e-03,\n",
       "          -1.10528969e-02,   1.25035609e-02,   7.25510423e-03,\n",
       "          -3.72244752e-03,  -2.14426784e-02,  -1.37606631e-02,\n",
       "          -5.76518443e-04,  -6.81190178e-03,   7.21826487e-03,\n",
       "           4.64379593e-03,  -4.86987229e-03,   7.32908718e-03,\n",
       "          -1.12527930e-02,  -5.28372084e-03,   1.12822528e-02,\n",
       "          -6.37615384e-03,   4.23436622e-03,   5.44962825e-03,\n",
       "           3.98140759e-03,  -5.10091132e-03,   1.43264860e-02,\n",
       "          -1.83968631e-03,  -1.41346626e-02,  -4.66008449e-03,\n",
       "          -5.93424297e-03,   7.87922476e-03,   7.70181294e-04,\n",
       "          -1.16219558e-02,   1.75486457e-02,  -1.42777772e-02,\n",
       "           1.94666541e-03,   9.05894463e-03,  -1.50529272e-03,\n",
       "           1.18658541e-02]]))"
      ]
     },
     "execution_count": 18,
     "metadata": {},
     "output_type": "execute_result"
    }
   ],
   "source": [
    "SVD_lsa ('oracle', min_df=2, n_components=400)"
   ]
  },
  {
   "cell_type": "markdown",
   "metadata": {},
   "source": [
    "#### 3. Apply sklearn's cosine_similiarity to return article matches for the given search term"
   ]
  },
  {
   "cell_type": "code",
   "execution_count": 11,
   "metadata": {
    "scrolled": true
   },
   "outputs": [
    {
     "data": {
      "text/plain": [
       "(2787, 1)"
      ]
     },
     "execution_count": 11,
     "metadata": {},
     "output_type": "execute_result"
    }
   ],
   "source": [
    "X.shape # corpus"
   ]
  },
  {
   "cell_type": "code",
   "execution_count": 22,
   "metadata": {},
   "outputs": [],
   "source": [
    "def grab_related_articles (search_query, n_results=5, n_components = 300, min_df=1):\n",
    "    lsa_doc_term, search_query_lsa = SVD_lsa(search_query, n_components=n_components, min_df=min_df)\n",
    "    cos_sim_arr = cosine_similarity(lsa_doc_term, search_query_lsa).ravel()\n",
    "    \n",
    "    first_term = -1*(n_results) - 1 \n",
    "    indices = (np.argsort(cos_sim_arr)[:first_term: -1])\n",
    "    \n",
    "    while len(list(set(page['title'].iloc[indices]))) < n_results:\n",
    "        first_term -= 1\n",
    "        indices = (np.argsort(cos_sim_arr)[:first_term: -1])\n",
    "    related_articles = list(set(page['title'].iloc[indices]))\n",
    "    return related_articles   "
   ]
  },
  {
   "cell_type": "code",
   "execution_count": 23,
   "metadata": {
    "scrolled": false
   },
   "outputs": [
    {
     "data": {
      "text/plain": [
       "['oracle applications',\n",
       " 'oracle application server',\n",
       " 'oracle enterprise resource planning cloud',\n",
       " 'oracle corporation',\n",
       " 'oracle fusion applications',\n",
       " 'oracle fusion middleware',\n",
       " 'peoplesoft',\n",
       " 'oracle soa suite',\n",
       " 'oracle reports',\n",
       " 'oracle fusion architecture']"
      ]
     },
     "execution_count": 23,
     "metadata": {},
     "output_type": "execute_result"
    }
   ],
   "source": [
    "grab_related_articles(\"oracle\", n_results=10, n_components=400, min_df=2)"
   ]
  }
 ],
 "metadata": {
  "kernelspec": {
   "display_name": "Python 3",
   "language": "python",
   "name": "python3"
  },
  "language_info": {
   "codemirror_mode": {
    "name": "ipython",
    "version": 3
   },
   "file_extension": ".py",
   "mimetype": "text/x-python",
   "name": "python",
   "nbconvert_exporter": "python",
   "pygments_lexer": "ipython3",
   "version": "3.5.2"
  }
 },
 "nbformat": 4,
 "nbformat_minor": 2
}
