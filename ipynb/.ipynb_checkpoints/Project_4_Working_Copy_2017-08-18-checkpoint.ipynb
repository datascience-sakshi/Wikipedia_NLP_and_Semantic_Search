{
 "cells": [
  {
   "cell_type": "markdown",
   "metadata": {},
   "source": [
    "# Semantic Search"
   ]
  },
  {
   "cell_type": "markdown",
   "metadata": {},
   "source": [
    "## The Task\n",
    "The task has three parts -- data collection, data exploration / algorithm development, then finally predictive modeling.\n",
    "\n",
    "![](http://interactive.blockdiag.com/image?compression=deflate&encoding=base64&src=eJxdjrsOwjAMRXe-wlsmRhaQkDoiMSDxBW5slahtHDmGCiH-nfQxtKy-59zruhPfUsAGPjsA56XvMdIRSIbYCZKD_RncENqQuGBQ3S7TidCwxsynjZUZ1T8m4HqvJlXZnhrBJMHBbWlTDHEeSFravYUXQy_E3TKrwbioMKb5z16UmRxfXZurVY_GjegbhqJIjaXm-wNmzE4W)"
   ]
  },
  {
   "cell_type": "markdown",
   "metadata": {},
   "source": [
    "### Part I - Data Collection"
   ]
  },
  {
   "cell_type": "markdown",
   "metadata": {},
   "source": [
    "Query the wikipedia API and **collect all of the articles** under the following wikipedia categories:\n",
    "* [Machine Learning](https://en.wikipedia.org/wiki/Category:Machine_learning)\n",
    "* [Business Software](https://en.wikipedia.org/wiki/Category:Business_software)\n",
    "\n",
    "The code should be modular enough that any valid category from Wikipedia can be queried by the code.\n",
    "\n",
    "The results of the query should be written to PostgreSQL tables, `page` and `category`. \n",
    "Build some sort of reference between the pages and categories. \n",
    "(Keep in mind that a page can have many categories and a category can have many pages so a straight foreign key arrangement will not work.)"
   ]
  },
  {
   "cell_type": "code",
   "execution_count": 1,
   "metadata": {},
   "outputs": [
    {
     "name": "stdout",
     "output_type": "stream",
     "text": [
      "Requirement already satisfied (use --upgrade to upgrade): wikipedia in /opt/conda/lib/python3.5/site-packages\n",
      "Requirement already satisfied (use --upgrade to upgrade): requests<3.0.0,>=2.0.0 in /opt/conda/lib/python3.5/site-packages (from wikipedia)\n",
      "Requirement already satisfied (use --upgrade to upgrade): beautifulsoup4 in /opt/conda/lib/python3.5/site-packages (from wikipedia)\n",
      "\u001b[33mYou are using pip version 8.1.2, however version 9.0.1 is available.\n",
      "You should consider upgrading via the 'pip install --upgrade pip' command.\u001b[0m\n"
     ]
    }
   ],
   "source": [
    "!pip install wikipedia"
   ]
  },
  {
   "cell_type": "code",
   "execution_count": 133,
   "metadata": {
    "collapsed": true
   },
   "outputs": [],
   "source": [
    "import wikipedia\n",
    "import requests\n",
    "from bs4 import BeautifulSoup\n",
    "import pandas as pd\n",
    "import numpy as np"
   ]
  },
  {
   "cell_type": "code",
   "execution_count": 134,
   "metadata": {
    "collapsed": true
   },
   "outputs": [],
   "source": [
    "# write a function to jsonify the category names for a category page\n",
    "\n",
    "def jsonify_wiki_category (category_name): \n",
    "    '''\n",
    "    Insert category name as a string, note that this is case sensitive\n",
    "    Make sure to import requests \n",
    "    Make sure to import pandas \n",
    "    '''\n",
    "    base_url = 'https://en.wikipedia.org/w/api.php'\n",
    "    action = '?action=query'\n",
    "    parameters = '&list=categorymembers' + '&cmtitle='\n",
    "    params = '&cmlimit=max'\n",
    "    form = '&format=json'\n",
    "    \n",
    "    category_name_url = base_url + action + parameters + category_name + params + form\n",
    "    category_name_response = requests.get(category_name_url)\n",
    "    category_name_json = category_name_response.json()\n",
    "    return category_name_json\n",
    "    "
   ]
  },
  {
   "cell_type": "code",
   "execution_count": 135,
   "metadata": {},
   "outputs": [],
   "source": [
    "def dfize_category_names (category_name):\n",
    "    '''\n",
    "    takes a category name formatted as 'Category:_____'\n",
    "    '''\n",
    "    category_name_json = jsonify_wiki_category(category_name)\n",
    "    category_name_df = pd.DataFrame(category_name_json['query']['categorymembers'])\n",
    "    category_name_df['category'] = [category_name for pageid in category_name_df['pageid'] if pageid!=0]\n",
    "    \n",
    "    return category_name_df"
   ]
  },
  {
   "cell_type": "code",
   "execution_count": 136,
   "metadata": {
    "scrolled": true
   },
   "outputs": [
    {
     "data": {
      "text/html": [
       "<div>\n",
       "<table border=\"1\" class=\"dataframe\">\n",
       "  <thead>\n",
       "    <tr style=\"text-align: right;\">\n",
       "      <th></th>\n",
       "      <th>ns</th>\n",
       "      <th>pageid</th>\n",
       "      <th>title</th>\n",
       "      <th>category</th>\n",
       "    </tr>\n",
       "  </thead>\n",
       "  <tbody>\n",
       "    <tr>\n",
       "      <th>223</th>\n",
       "      <td>14</td>\n",
       "      <td>11737376</td>\n",
       "      <td>Category:Statistical natural language processing</td>\n",
       "      <td>Category:Machine_learning</td>\n",
       "    </tr>\n",
       "    <tr>\n",
       "      <th>224</th>\n",
       "      <td>14</td>\n",
       "      <td>40149461</td>\n",
       "      <td>Category:Structured prediction</td>\n",
       "      <td>Category:Machine_learning</td>\n",
       "    </tr>\n",
       "    <tr>\n",
       "      <th>225</th>\n",
       "      <td>14</td>\n",
       "      <td>52763867</td>\n",
       "      <td>Category:Supervised learning</td>\n",
       "      <td>Category:Machine_learning</td>\n",
       "    </tr>\n",
       "    <tr>\n",
       "      <th>226</th>\n",
       "      <td>14</td>\n",
       "      <td>31176997</td>\n",
       "      <td>Category:Support vector machines</td>\n",
       "      <td>Category:Machine_learning</td>\n",
       "    </tr>\n",
       "    <tr>\n",
       "      <th>227</th>\n",
       "      <td>14</td>\n",
       "      <td>52763828</td>\n",
       "      <td>Category:Unsupervised learning</td>\n",
       "      <td>Category:Machine_learning</td>\n",
       "    </tr>\n",
       "  </tbody>\n",
       "</table>\n",
       "</div>"
      ],
      "text/plain": [
       "     ns    pageid                                             title  \\\n",
       "223  14  11737376  Category:Statistical natural language processing   \n",
       "224  14  40149461                    Category:Structured prediction   \n",
       "225  14  52763867                      Category:Supervised learning   \n",
       "226  14  31176997                  Category:Support vector machines   \n",
       "227  14  52763828                    Category:Unsupervised learning   \n",
       "\n",
       "                      category  \n",
       "223  Category:Machine_learning  \n",
       "224  Category:Machine_learning  \n",
       "225  Category:Machine_learning  \n",
       "226  Category:Machine_learning  \n",
       "227  Category:Machine_learning  "
      ]
     },
     "execution_count": 136,
     "metadata": {},
     "output_type": "execute_result"
    }
   ],
   "source": [
    "ml_df = dfize_category_names('Category:Machine_learning')\n",
    "ml_df.tail()"
   ]
  },
  {
   "cell_type": "code",
   "execution_count": 137,
   "metadata": {
    "scrolled": false
   },
   "outputs": [
    {
     "data": {
      "text/html": [
       "<div>\n",
       "<table border=\"1\" class=\"dataframe\">\n",
       "  <thead>\n",
       "    <tr style=\"text-align: right;\">\n",
       "      <th></th>\n",
       "      <th>ns</th>\n",
       "      <th>pageid</th>\n",
       "      <th>title</th>\n",
       "      <th>category</th>\n",
       "    </tr>\n",
       "  </thead>\n",
       "  <tbody>\n",
       "    <tr>\n",
       "      <th>0</th>\n",
       "      <td>0</td>\n",
       "      <td>1037763</td>\n",
       "      <td>Business software</td>\n",
       "      <td>Category:Business_software</td>\n",
       "    </tr>\n",
       "    <tr>\n",
       "      <th>1</th>\n",
       "      <td>0</td>\n",
       "      <td>41270069</td>\n",
       "      <td>AccuSystems</td>\n",
       "      <td>Category:Business_software</td>\n",
       "    </tr>\n",
       "    <tr>\n",
       "      <th>2</th>\n",
       "      <td>0</td>\n",
       "      <td>5211212</td>\n",
       "      <td>Active policy management</td>\n",
       "      <td>Category:Business_software</td>\n",
       "    </tr>\n",
       "    <tr>\n",
       "      <th>3</th>\n",
       "      <td>0</td>\n",
       "      <td>28502793</td>\n",
       "      <td>Alexandria (library software)</td>\n",
       "      <td>Category:Business_software</td>\n",
       "    </tr>\n",
       "    <tr>\n",
       "      <th>4</th>\n",
       "      <td>0</td>\n",
       "      <td>44133735</td>\n",
       "      <td>Alteryx</td>\n",
       "      <td>Category:Business_software</td>\n",
       "    </tr>\n",
       "  </tbody>\n",
       "</table>\n",
       "</div>"
      ],
      "text/plain": [
       "   ns    pageid                          title                    category\n",
       "0   0   1037763              Business software  Category:Business_software\n",
       "1   0  41270069                    AccuSystems  Category:Business_software\n",
       "2   0   5211212       Active policy management  Category:Business_software\n",
       "3   0  28502793  Alexandria (library software)  Category:Business_software\n",
       "4   0  44133735                        Alteryx  Category:Business_software"
      ]
     },
     "execution_count": 137,
     "metadata": {},
     "output_type": "execute_result"
    }
   ],
   "source": [
    "bs_df = dfize_category_names('Category:Business_software')\n",
    "bs_df.head()"
   ]
  },
  {
   "cell_type": "code",
   "execution_count": 138,
   "metadata": {
    "collapsed": true
   },
   "outputs": [],
   "source": [
    "def dfize_cat_articles_only (category_name):\n",
    "    category_name_df = dfize_category_names(category_name)\n",
    "    articles_list = []\n",
    "    \n",
    "    category_mask = category_name_df['title'].str.contains('Category:')\n",
    "    articles_df = category_name_df[~category_mask]\n",
    "    articles_list.append(articles_df)\n",
    "    article_titles_list = articles_df['title'].tolist()\n",
    "    \n",
    "    return articles_df"
   ]
  },
  {
   "cell_type": "code",
   "execution_count": 139,
   "metadata": {},
   "outputs": [],
   "source": [
    "ml_df = dfize_cat_articles_only('Category:Machine_learning')"
   ]
  },
  {
   "cell_type": "code",
   "execution_count": 140,
   "metadata": {},
   "outputs": [
    {
     "data": {
      "text/plain": [
       "(198, 4)"
      ]
     },
     "execution_count": 140,
     "metadata": {},
     "output_type": "execute_result"
    }
   ],
   "source": [
    "ml_df.shape"
   ]
  },
  {
   "cell_type": "code",
   "execution_count": 143,
   "metadata": {},
   "outputs": [],
   "source": [
    "ml_df.drop_duplicates('title', inplace=True)"
   ]
  },
  {
   "cell_type": "code",
   "execution_count": 144,
   "metadata": {},
   "outputs": [
    {
     "data": {
      "text/plain": [
       "(198, 4)"
      ]
     },
     "execution_count": 144,
     "metadata": {},
     "output_type": "execute_result"
    }
   ],
   "source": [
    "ml_df.shape"
   ]
  },
  {
   "cell_type": "code",
   "execution_count": 147,
   "metadata": {},
   "outputs": [],
   "source": [
    "bs_df = dfize_cat_articles_only('Category:Business_software')"
   ]
  },
  {
   "cell_type": "code",
   "execution_count": 148,
   "metadata": {
    "collapsed": true
   },
   "outputs": [],
   "source": [
    "bs_df.drop_duplicates('title', inplace=True)"
   ]
  },
  {
   "cell_type": "code",
   "execution_count": 149,
   "metadata": {},
   "outputs": [
    {
     "data": {
      "text/plain": [
       "(299, 4)"
      ]
     },
     "execution_count": 149,
     "metadata": {},
     "output_type": "execute_result"
    }
   ],
   "source": [
    "bs_df.shape"
   ]
  },
  {
   "cell_type": "code",
   "execution_count": 102,
   "metadata": {
    "collapsed": true
   },
   "outputs": [],
   "source": [
    "def list_subcategories (category_name):\n",
    "    category_name_df = dfize_category_names(category_name)\n",
    "    subcat_list = []\n",
    "    \n",
    "    category_mask = category_name_df['title'].str.contains('Category:')\n",
    "    subcat_df = category_name_df[category_mask]\n",
    "    subcat_list.append(subcat_df)\n",
    "    #category_name_df = pd.concat(subcat_list)\n",
    "    subcat_list = subcat_df['title'].tolist()\n",
    "    \n",
    "    return subcat_list"
   ]
  },
  {
   "cell_type": "code",
   "execution_count": 104,
   "metadata": {
    "collapsed": true
   },
   "outputs": [],
   "source": [
    "def dfize_subcategory_article (category_name):\n",
    "    subcat_list = list_subcategories(category_name)\n",
    "    subcat_temp = []\n",
    "    \n",
    "    for subcat in subcat_list:\n",
    "        df = dfize_category_names(subcat)\n",
    "        category_mask = df['title'].str.contains('Category:')\n",
    "        \n",
    "        df_articles_only = df[~category_mask]\n",
    "        \n",
    "        subcat_temp.append(df_articles_only)\n",
    "        df = pd.concat(subcat_temp)    \n",
    "\n",
    "    return df\n",
    "    "
   ]
  },
  {
   "cell_type": "code",
   "execution_count": 105,
   "metadata": {},
   "outputs": [],
   "source": [
    "ml_subcat_df = dfize_subcategory_article('Category:Machine_learning')"
   ]
  },
  {
   "cell_type": "code",
   "execution_count": 108,
   "metadata": {},
   "outputs": [],
   "source": [
    "ml_df = ml_df.merge(ml_subcat_df, how='outer')"
   ]
  },
  {
   "cell_type": "code",
   "execution_count": 109,
   "metadata": {},
   "outputs": [
    {
     "data": {
      "text/plain": [
       "(1024, 4)"
      ]
     },
     "execution_count": 109,
     "metadata": {},
     "output_type": "execute_result"
    }
   ],
   "source": [
    "ml_df.shape"
   ]
  },
  {
   "cell_type": "code",
   "execution_count": 106,
   "metadata": {},
   "outputs": [],
   "source": [
    "bs_subcat_df = dfize_subcategory_article('Category:Business software')"
   ]
  },
  {
   "cell_type": "code",
   "execution_count": 132,
   "metadata": {},
   "outputs": [
    {
     "ename": "AttributeError",
     "evalue": "'NoneType' object has no attribute 'merge'",
     "output_type": "error",
     "traceback": [
      "\u001b[0;31m---------------------------------------------------------------------------\u001b[0m",
      "\u001b[0;31mAttributeError\u001b[0m                            Traceback (most recent call last)",
      "\u001b[0;32m<ipython-input-132-e1ef2cb5f05e>\u001b[0m in \u001b[0;36m<module>\u001b[0;34m()\u001b[0m\n\u001b[0;32m----> 1\u001b[0;31m \u001b[0mbs_df\u001b[0m \u001b[0;34m=\u001b[0m \u001b[0mbs_df\u001b[0m\u001b[0;34m.\u001b[0m\u001b[0mmerge\u001b[0m\u001b[0;34m(\u001b[0m\u001b[0mbs_subcat_df\u001b[0m\u001b[0;34m,\u001b[0m \u001b[0mhow\u001b[0m\u001b[0;34m=\u001b[0m\u001b[0;34m'outer'\u001b[0m\u001b[0;34m)\u001b[0m\u001b[0;34m\u001b[0m\u001b[0m\n\u001b[0m\u001b[1;32m      2\u001b[0m \u001b[0mbs_df\u001b[0m\u001b[0;34m.\u001b[0m\u001b[0mdrop_duplicates\u001b[0m\u001b[0;34m(\u001b[0m\u001b[0;34m'title'\u001b[0m\u001b[0;34m,\u001b[0m \u001b[0minplace\u001b[0m\u001b[0;34m=\u001b[0m\u001b[0;32mTrue\u001b[0m\u001b[0;34m)\u001b[0m\u001b[0;34m\u001b[0m\u001b[0m\n",
      "\u001b[0;31mAttributeError\u001b[0m: 'NoneType' object has no attribute 'merge'"
     ]
    }
   ],
   "source": [
    "bs_df = bs_df.merge(bs_subcat_df, how='outer')\n",
    "bs_df.drop_duplicates('title', inplace=True)"
   ]
  },
  {
   "cell_type": "code",
   "execution_count": 111,
   "metadata": {},
   "outputs": [
    {
     "data": {
      "text/plain": [
       "(1766, 4)"
      ]
     },
     "execution_count": 111,
     "metadata": {},
     "output_type": "execute_result"
    }
   ],
   "source": [
    "bs_df.shape"
   ]
  },
  {
   "cell_type": "code",
   "execution_count": 24,
   "metadata": {
    "collapsed": true
   },
   "outputs": [],
   "source": [
    "# write a function that jsonifies the articles\n",
    "\n",
    "def jsonify_wiki_article (article_name): \n",
    "    '''\n",
    "    Insert category name as a string, note that this is case sensitive\n",
    "    Make sure to import requests first before using this functiona\n",
    "    '''\n",
    "    base_url = 'https://en.wikipedia.org/w/api.php'\n",
    "    action = '?action=parse'\n",
    "    prop = '&page='\n",
    "    form = '&format=json'\n",
    "    \n",
    "    article_name_url = base_url + action + prop + article_name + form\n",
    "    article_name_response = requests.get(article_name_url)\n",
    "    article_name_json = article_name_response.json()\n",
    "    return article_name_json\n",
    "    "
   ]
  },
  {
   "cell_type": "code",
   "execution_count": 25,
   "metadata": {
    "collapsed": true
   },
   "outputs": [
    {
     "data": {
      "text/plain": [
       "{'parse': {'categories': [{'*': 'Articles_needing_additional_references_from_July_2017',\n",
       "    'hidden': '',\n",
       "    'sortkey': ''},\n",
       "   {'*': 'All_articles_needing_additional_references',\n",
       "    'hidden': '',\n",
       "    'sortkey': ''},\n",
       "   {'*': 'Articles_lacking_in-text_citations_from_July_2017',\n",
       "    'hidden': '',\n",
       "    'sortkey': ''},\n",
       "   {'*': 'All_articles_lacking_in-text_citations',\n",
       "    'hidden': '',\n",
       "    'sortkey': ''},\n",
       "   {'*': 'Machine_learning', 'sortkey': ' '},\n",
       "   {'*': 'Data_analysis', 'sortkey': ''},\n",
       "   {'*': 'Data_management', 'sortkey': ''},\n",
       "   {'*': 'Data_quality', 'sortkey': ''}],\n",
       "  'displaytitle': 'Data exploration',\n",
       "  'externallinks': ['https://www.fosteropenscience.eu/sites/default/files/pdf/2933.pdf',\n",
       "   'http://vis.stanford.edu/files/2011-Wrangler-CHI.pdf',\n",
       "   'http://vis.stanford.edu/files/2012-EnterpriseAnalysisInterviews-VAST.pdf'],\n",
       "  'images': ['Ambox_important.svg',\n",
       "   'Question_book-new.svg',\n",
       "   'Text_document_with_red_question_mark.svg',\n",
       "   'Desktop_computer_clipart_-_Yellow_theme.svg'],\n",
       "  'iwlinks': [],\n",
       "  'langlinks': [],\n",
       "  'links': [{'*': 'Category:Articles needing additional references from July 2017',\n",
       "    'exists': '',\n",
       "    'ns': 14},\n",
       "   {'*': 'Category:Articles lacking in-text citations from July 2017',\n",
       "    'exists': '',\n",
       "    'ns': 14},\n",
       "   {'*': 'Alteryx', 'exists': '', 'ns': 0},\n",
       "   {'*': 'Data Visualization', 'exists': '', 'ns': 0},\n",
       "   {'*': 'Data profiling', 'exists': '', 'ns': 0},\n",
       "   {'*': 'Data quality', 'exists': '', 'ns': 0},\n",
       "   {'*': 'Data scientists', 'exists': '', 'ns': 0},\n",
       "   {'*': 'Exploratory Data Analysis', 'exists': '', 'ns': 0},\n",
       "   {'*': 'John Tukey', 'exists': '', 'ns': 0},\n",
       "   {'*': 'Machine Learning', 'exists': '', 'ns': 0},\n",
       "   {'*': 'OpenRefine', 'exists': '', 'ns': 0},\n",
       "   {'*': 'Paxata', 'exists': '', 'ns': 0},\n",
       "   {'*': 'Power BI', 'exists': '', 'ns': 0},\n",
       "   {'*': 'Tableau software', 'exists': '', 'ns': 0},\n",
       "   {'*': 'Trifacta', 'exists': '', 'ns': 0},\n",
       "   {'*': 'Talk:Data exploration', 'exists': '', 'ns': 1},\n",
       "   {'*': 'Wikipedia:Citing sources', 'exists': '', 'ns': 4},\n",
       "   {'*': 'Wikipedia:Verifiability', 'exists': '', 'ns': 4},\n",
       "   {'*': 'Wikipedia:When to cite', 'exists': '', 'ns': 4},\n",
       "   {'*': 'Wikipedia:WikiProject Fact and Reference Check',\n",
       "    'exists': '',\n",
       "    'ns': 4},\n",
       "   {'*': 'Help:Introduction to referencing with Wiki Markup/1',\n",
       "    'exists': '',\n",
       "    'ns': 12},\n",
       "   {'*': 'Help:Maintenance template removal', 'exists': '', 'ns': 12},\n",
       "   {'*': 'Portal:Information technology', 'exists': '', 'ns': 100}],\n",
       "  'pageid': 43385931,\n",
       "  'parsewarnings': [],\n",
       "  'properties': [],\n",
       "  'revid': 791149245,\n",
       "  'sections': [{'anchor': 'Interactive_Data_Exploration',\n",
       "    'byteoffset': 3221,\n",
       "    'fromtitle': 'Data_exploration',\n",
       "    'index': '1',\n",
       "    'level': '2',\n",
       "    'line': 'Interactive Data Exploration',\n",
       "    'number': '1',\n",
       "    'toclevel': 1},\n",
       "   {'anchor': 'Software',\n",
       "    'byteoffset': 4093,\n",
       "    'fromtitle': 'Data_exploration',\n",
       "    'index': '2',\n",
       "    'level': '2',\n",
       "    'line': 'Software',\n",
       "    'number': '2',\n",
       "    'toclevel': 1},\n",
       "   {'anchor': 'See_also',\n",
       "    'byteoffset': 4586,\n",
       "    'fromtitle': 'Data_exploration',\n",
       "    'index': '3',\n",
       "    'level': '2',\n",
       "    'line': 'See also',\n",
       "    'number': '3',\n",
       "    'toclevel': 1},\n",
       "   {'anchor': 'References',\n",
       "    'byteoffset': 4741,\n",
       "    'fromtitle': 'Data_exploration',\n",
       "    'index': '4',\n",
       "    'level': '2',\n",
       "    'line': 'References',\n",
       "    'number': '4',\n",
       "    'toclevel': 1}],\n",
       "  'templates': [{'*': 'Template:Multiple issues', 'exists': '', 'ns': 10},\n",
       "   {'*': 'Template:Ambox', 'exists': '', 'ns': 10},\n",
       "   {'*': 'Template:Refimprove', 'exists': '', 'ns': 10},\n",
       "   {'*': 'Template:More footnotes', 'exists': '', 'ns': 10},\n",
       "   {'*': 'Template:Main other', 'exists': '', 'ns': 10},\n",
       "   {'*': 'Template:Portal', 'exists': '', 'ns': 10},\n",
       "   {'*': 'Template:-', 'exists': '', 'ns': 10},\n",
       "   {'*': 'Template:Clear', 'exists': '', 'ns': 10},\n",
       "   {'*': 'Template:Reflist', 'exists': '', 'ns': 10},\n",
       "   {'*': 'Module:Message box', 'exists': '', 'ns': 828},\n",
       "   {'*': 'Module:No globals', 'exists': '', 'ns': 828},\n",
       "   {'*': 'Module:Category handler', 'exists': '', 'ns': 828},\n",
       "   {'*': 'Module:Yesno', 'exists': '', 'ns': 828},\n",
       "   {'*': 'Module:Arguments', 'exists': '', 'ns': 828},\n",
       "   {'*': 'Module:Message box/configuration', 'exists': '', 'ns': 828},\n",
       "   {'*': 'Module:Unsubst', 'exists': '', 'ns': 828},\n",
       "   {'*': 'Module:Category handler/data', 'exists': '', 'ns': 828},\n",
       "   {'*': 'Module:Category handler/config', 'exists': '', 'ns': 828},\n",
       "   {'*': 'Module:Category handler/shared', 'exists': '', 'ns': 828},\n",
       "   {'*': 'Module:Category handler/blacklist', 'exists': '', 'ns': 828},\n",
       "   {'*': 'Module:Namespace detect/data', 'exists': '', 'ns': 828},\n",
       "   {'*': 'Module:Namespace detect/config', 'exists': '', 'ns': 828},\n",
       "   {'*': 'Module:Check for unknown parameters', 'exists': '', 'ns': 828},\n",
       "   {'*': 'Module:String', 'exists': '', 'ns': 828},\n",
       "   {'*': 'Module:Portal', 'exists': '', 'ns': 828},\n",
       "   {'*': 'Module:Portal/images/i', 'exists': '', 'ns': 828}],\n",
       "  'text': {'*': '<div class=\"mw-parser-output\"><table class=\"plainlinks metadata ambox ambox-content ambox-multiple_issues compact-ambox\" role=\"presentation\">\\n<tr>\\n<td class=\"mbox-image\">\\n<div style=\"width:52px\"><img alt=\"\" src=\"//upload.wikimedia.org/wikipedia/commons/thumb/b/b4/Ambox_important.svg/40px-Ambox_important.svg.png\" width=\"40\" height=\"40\" srcset=\"//upload.wikimedia.org/wikipedia/commons/thumb/b/b4/Ambox_important.svg/60px-Ambox_important.svg.png 1.5x, //upload.wikimedia.org/wikipedia/commons/thumb/b/b4/Ambox_important.svg/80px-Ambox_important.svg.png 2x\" data-file-width=\"40\" data-file-height=\"40\" /></div>\\n</td>\\n<td class=\"mbox-text\">\\n<div class=\"mw-collapsible\" style=\"width:95%; margin: 0.2em 0;\"><span class=\"mbox-text-span\"><b>This article has multiple issues.</b> Please help <b><a class=\"external text\" href=\"//en.wikipedia.org/w/index.php?title=Data_exploration&amp;action=edit\">improve it</a></b> or discuss these issues on the <b><a href=\"/wiki/Talk:Data_exploration\" title=\"Talk:Data exploration\">talk page</a></b>. <small><i>(<a href=\"/wiki/Help:Maintenance_template_removal\" title=\"Help:Maintenance template removal\">Learn how and when to remove these template messages</a>)</i></small></span>\\n<div class=\"mw-collapsible-content\" style=\"margin-top: 0.3em;\">\\n<table class=\"plainlinks metadata ambox ambox-content ambox-Refimprove\" role=\"presentation\">\\n<tr>\\n<td class=\"mbox-image\">\\n<div style=\"width:52px\"><a href=\"/wiki/File:Question_book-new.svg\" class=\"image\"><img alt=\"\" src=\"//upload.wikimedia.org/wikipedia/en/thumb/9/99/Question_book-new.svg/50px-Question_book-new.svg.png\" width=\"50\" height=\"39\" srcset=\"//upload.wikimedia.org/wikipedia/en/thumb/9/99/Question_book-new.svg/75px-Question_book-new.svg.png 1.5x, //upload.wikimedia.org/wikipedia/en/thumb/9/99/Question_book-new.svg/100px-Question_book-new.svg.png 2x\" data-file-width=\"512\" data-file-height=\"399\" /></a></div>\\n</td>\\n<td class=\"mbox-text\"><span class=\"mbox-text-span\">This article <b>needs additional citations for <a href=\"/wiki/Wikipedia:Verifiability\" title=\"Wikipedia:Verifiability\">verification</a></b>. <span class=\"hide-when-compact\">Please help <a class=\"external text\" href=\"//en.wikipedia.org/w/index.php?title=Data_exploration&amp;action=edit\">improve this article</a> by <a href=\"/wiki/Help:Introduction_to_referencing_with_Wiki_Markup/1\" title=\"Help:Introduction to referencing with Wiki Markup/1\">adding citations to reliable sources</a>. Unsourced material may be challenged and removed.</span> <small><i>(July 2017)</i></small> <small class=\"hide-when-compact\"><i>(<a href=\"/wiki/Help:Maintenance_template_removal\" title=\"Help:Maintenance template removal\">Learn how and when to remove this template message</a>)</i></small></span></td>\\n</tr>\\n</table>\\n<table class=\"plainlinks metadata ambox ambox-style ambox-More_footnotes\" role=\"presentation\">\\n<tr>\\n<td class=\"mbox-image\">\\n<div style=\"width:52px\"><img alt=\"\" src=\"//upload.wikimedia.org/wikipedia/commons/thumb/a/a4/Text_document_with_red_question_mark.svg/40px-Text_document_with_red_question_mark.svg.png\" width=\"40\" height=\"40\" srcset=\"//upload.wikimedia.org/wikipedia/commons/thumb/a/a4/Text_document_with_red_question_mark.svg/60px-Text_document_with_red_question_mark.svg.png 1.5x, //upload.wikimedia.org/wikipedia/commons/thumb/a/a4/Text_document_with_red_question_mark.svg/80px-Text_document_with_red_question_mark.svg.png 2x\" data-file-width=\"48\" data-file-height=\"48\" /></div>\\n</td>\\n<td class=\"mbox-text\"><span class=\"mbox-text-span\">This article includes a <a href=\"/wiki/Wikipedia:Citing_sources\" title=\"Wikipedia:Citing sources\">list of references</a>, but <b>its sources remain unclear</b> because it has <b>insufficient <a href=\"/wiki/Wikipedia:Citing_sources#Inline_citations\" title=\"Wikipedia:Citing sources\">inline citations</a></b>. <span class=\"hide-when-compact\">Please help to <a href=\"/wiki/Wikipedia:WikiProject_Fact_and_Reference_Check\" title=\"Wikipedia:WikiProject Fact and Reference Check\">improve</a> this article by <a href=\"/wiki/Wikipedia:When_to_cite\" title=\"Wikipedia:When to cite\">introducing</a> more precise citations.</span> <small><i>(July 2017)</i></small> <small class=\"hide-when-compact\"><i>(<a href=\"/wiki/Help:Maintenance_template_removal\" title=\"Help:Maintenance template removal\">Learn how and when to remove this template message</a>)</i></small></span></td>\\n</tr>\\n</table>\\n</div>\\n</div>\\n<small class=\"hide-when-compact\"><i>(<a href=\"/wiki/Help:Maintenance_template_removal\" title=\"Help:Maintenance template removal\">Learn how and when to remove this template message</a>)</i></small></td>\\n</tr>\\n</table>\\n<p><b>Data exploration</b> is an approach similar to initial data analysis, whereby a data analyst uses visual exploration to understand what is in a dataset and the characteristics of the data, rather than through traditional data management systems<sup id=\"cite_ref-Foster_1-0\" class=\"reference\"><a href=\"#cite_note-Foster-1\">[1]</a></sup>. These characteristics can include size or amount of data, completeness of the data, correctness of the data, possible relationships amongst data elements or files/tables in the data.</p>\\n<p>Data exploration is typically conducted using a combination of automated and manual activities.<sup id=\"cite_ref-Foster_1-1\" class=\"reference\"><a href=\"#cite_note-Foster-1\">[1]</a></sup><sup id=\"cite_ref-Stanford2011_2-0\" class=\"reference\"><a href=\"#cite_note-Stanford2011-2\">[2]</a></sup> Automated activities can include data profiling or data visualization or tabular reports to give the analyst an initial view into the data and an understanding of key characteristics.</p>\\n<p>This is often followed by manual drill-down or filtering of the data to identify anomalies or patterns identified through the automated actions. Data exploration can also require manual scripting and queries into the data (e.g. using languages such as SQL or R) or using Excel or similar tools to view the raw data.<sup id=\"cite_ref-Stanford2012_3-0\" class=\"reference\"><a href=\"#cite_note-Stanford2012-3\">[3]</a></sup></p>\\n<p>All of these activities are aimed at creating a clear mental model and understanding of the data in the mind of the analyst, and defining basic metadata (statistics, structure, relationships) for the data set that can be used in further analysis.</p>\\n<p>Once this initial understanding of the data is had, the data can be pruned or refined by removing unusable parts of the data, correcting poorly formatted elements and defining relevant relationships across datasets<sup id=\"cite_ref-Stanford2011_2-1\" class=\"reference\"><a href=\"#cite_note-Stanford2011-2\">[2]</a></sup>. This process is also known as determining <a href=\"/wiki/Data_quality\" title=\"Data quality\">data quality</a><sup id=\"cite_ref-Stanford2012_3-1\" class=\"reference\"><a href=\"#cite_note-Stanford2012-3\">[3]</a></sup>.</p>\\n<p>At this stage, the data can be considered ready for deeper analysis or be handed off to other analysts or users who have specific needs for the data.</p>\\n<p>Data exploration can also refer to the adhoc querying and visualization of data to identify potential relationships or insights that may be hidden in the data<sup id=\"cite_ref-Foster_1-2\" class=\"reference\"><a href=\"#cite_note-Foster-1\">[1]</a></sup>. In this scenario, hypotheses may be created and then the data is explored to identify whether those hypotheses are correct.</p>\\n<p>Traditionally, this had been a key area of focus for statisticians, with <a href=\"/wiki/John_Tukey\" title=\"John Tukey\">John Tukey</a> being a key evangelist in the field. Today, data exploration is more widespread and is the focus of data analysts and <a href=\"/wiki/Data_scientists\" class=\"mw-redirect\" title=\"Data scientists\">data scientists</a>; the latter being a relatively new role within enterprises and larger organizations.</p>\\n<p></p>\\n<div id=\"toc\" class=\"toc\">\\n<div class=\"toctitle\">\\n<h2>Contents</h2>\\n</div>\\n<ul>\\n<li class=\"toclevel-1 tocsection-1\"><a href=\"#Interactive_Data_Exploration\"><span class=\"tocnumber\">1</span> <span class=\"toctext\">Interactive Data Exploration</span></a></li>\\n<li class=\"toclevel-1 tocsection-2\"><a href=\"#Software\"><span class=\"tocnumber\">2</span> <span class=\"toctext\">Software</span></a></li>\\n<li class=\"toclevel-1 tocsection-3\"><a href=\"#See_also\"><span class=\"tocnumber\">3</span> <span class=\"toctext\">See also</span></a></li>\\n<li class=\"toclevel-1 tocsection-4\"><a href=\"#References\"><span class=\"tocnumber\">4</span> <span class=\"toctext\">References</span></a></li>\\n</ul>\\n</div>\\n<p></p>\\n<h2><span class=\"mw-headline\" id=\"Interactive_Data_Exploration\">Interactive Data Exploration</span><span class=\"mw-editsection\"><span class=\"mw-editsection-bracket\">[</span><a href=\"/w/index.php?title=Data_exploration&amp;action=edit&amp;section=1\" title=\"Edit section: Interactive Data Exploration\">edit</a><span class=\"mw-editsection-bracket\">]</span></span></h2>\\n<p>This area of data exploration has become an area of interest in the field of machine learning. This is a relatively new field and is still evolving.<sup id=\"cite_ref-Stanford2012_3-2\" class=\"reference\"><a href=\"#cite_note-Stanford2012-3\">[3]</a></sup> As it’s most basic level, a machine-learning algorithm can be fed a data set and can be used to identify whether a hypothesis is true based on the dataset. Common machine learning algorithms can focus on identifying specific patterns in the data.<sup id=\"cite_ref-Stanford2011_2-2\" class=\"reference\"><a href=\"#cite_note-Stanford2011-2\">[2]</a></sup> Common patterns include regression, classification or clustering, but there are many possible patterns and algorithms that can be applied to data via machine learning.</p>\\n<p>By employing machine learning, it is possible to find patterns or relationships in the data that would be difficult or impossible to find via manual inspection, trial and error or traditional exploration techniques.</p>\\n<h2><span class=\"mw-headline\" id=\"Software\">Software</span><span class=\"mw-editsection\"><span class=\"mw-editsection-bracket\">[</span><a href=\"/w/index.php?title=Data_exploration&amp;action=edit&amp;section=2\" title=\"Edit section: Software\">edit</a><span class=\"mw-editsection-bracket\">]</span></span></h2>\\n<ul>\\n<li><a href=\"/wiki/Trifacta\" title=\"Trifacta\">Trifacta</a> – a data preparation and analysis platform</li>\\n<li><a href=\"/wiki/Paxata\" title=\"Paxata\">Paxata</a> – self-service data preparation software</li>\\n<li><a href=\"/wiki/Alteryx\" title=\"Alteryx\">Alteryx</a> – data blending and advanced data analytics software</li>\\n<li>IBM Infosphere Analyzer – a data profiling tool</li>\\n<li>Microsoft <a href=\"/wiki/Power_BI\" title=\"Power BI\">Power BI</a> - interactive visualization and data analysis tool</li>\\n<li><a href=\"/wiki/OpenRefine\" title=\"OpenRefine\">OpenRefine</a> - a standalone open source desktop application for data clean-up and data transformation</li>\\n<li><a href=\"/wiki/Tableau_software\" class=\"mw-redirect\" title=\"Tableau software\">Tableau software</a> – interactive data visualization software</li>\\n</ul>\\n<h2><span class=\"mw-headline\" id=\"See_also\">See also</span><span class=\"mw-editsection\"><span class=\"mw-editsection-bracket\">[</span><a href=\"/w/index.php?title=Data_exploration&amp;action=edit&amp;section=3\" title=\"Edit section: See also\">edit</a><span class=\"mw-editsection-bracket\">]</span></span></h2>\\n<div role=\"navigation\" aria-label=\"Portals\" class=\"noprint portal plainlist tright\" style=\"margin:0.5em 0 0.5em 1em;border:solid #aaa 1px\">\\n<ul style=\"display:table;box-sizing:border-box;padding:0.1em;max-width:175px;background:#f9f9f9;font-size:85%;line-height:110%;font-style:italic;font-weight:bold\">\\n<li style=\"display:table-row\"><span style=\"display:table-cell;padding:0.2em;vertical-align:middle;text-align:center\"><img alt=\"\" src=\"//upload.wikimedia.org/wikipedia/commons/thumb/d/d7/Desktop_computer_clipart_-_Yellow_theme.svg/32px-Desktop_computer_clipart_-_Yellow_theme.svg.png\" width=\"32\" height=\"23\" class=\"noviewer\" srcset=\"//upload.wikimedia.org/wikipedia/commons/thumb/d/d7/Desktop_computer_clipart_-_Yellow_theme.svg/48px-Desktop_computer_clipart_-_Yellow_theme.svg.png 1.5x, //upload.wikimedia.org/wikipedia/commons/thumb/d/d7/Desktop_computer_clipart_-_Yellow_theme.svg/64px-Desktop_computer_clipart_-_Yellow_theme.svg.png 2x\" data-file-width=\"281\" data-file-height=\"203\" /></span><span style=\"display:table-cell;padding:0.2em 0.2em 0.2em 0.3em;vertical-align:middle\"><a href=\"/wiki/Portal:Information_technology\" title=\"Portal:Information technology\">Information technology portal</a></span></li>\\n</ul>\\n</div>\\n<ul>\\n<li><a href=\"/wiki/Exploratory_Data_Analysis\" class=\"mw-redirect\" title=\"Exploratory Data Analysis\">Exploratory Data Analysis</a></li>\\n<li><a href=\"/wiki/Machine_Learning\" class=\"mw-redirect\" title=\"Machine Learning\">Machine Learning</a></li>\\n<li><a href=\"/wiki/Data_profiling\" title=\"Data profiling\">Data profiling</a></li>\\n<li><a href=\"/wiki/Data_Visualization\" class=\"mw-redirect\" title=\"Data Visualization\">Data Visualization</a></li>\\n</ul>\\n<div style=\"clear:both;\"></div>\\n<h2><span class=\"mw-headline\" id=\"References\">References</span><span class=\"mw-editsection\"><span class=\"mw-editsection-bracket\">[</span><a href=\"/w/index.php?title=Data_exploration&amp;action=edit&amp;section=4\" title=\"Edit section: References\">edit</a><span class=\"mw-editsection-bracket\">]</span></span></h2>\\n<div class=\"reflist\" style=\"list-style-type: decimal;\">\\n<div class=\"mw-references-wrap\">\\n<ol class=\"references\">\\n<li id=\"cite_note-Foster-1\"><span class=\"mw-cite-backlink\">^ <a href=\"#cite_ref-Foster_1-0\"><sup><i><b>a</b></i></sup></a> <a href=\"#cite_ref-Foster_1-1\"><sup><i><b>b</b></i></sup></a> <a href=\"#cite_ref-Foster_1-2\"><sup><i><b>c</b></i></sup></a></span> <span class=\"reference-text\"><a rel=\"nofollow\" class=\"external text\" href=\"https://www.fosteropenscience.eu/sites/default/files/pdf/2933.pdf\">FOSTER Open Science</a>, Overview of Data Exploration Techniques: Stratos Idreos, Olga Papaemmonouil, Surajit Chaudhuri.</span></li>\\n<li id=\"cite_note-Stanford2011-2\"><span class=\"mw-cite-backlink\">^ <a href=\"#cite_ref-Stanford2011_2-0\"><sup><i><b>a</b></i></sup></a> <a href=\"#cite_ref-Stanford2011_2-1\"><sup><i><b>b</b></i></sup></a> <a href=\"#cite_ref-Stanford2011_2-2\"><sup><i><b>c</b></i></sup></a></span> <span class=\"reference-text\"><a rel=\"nofollow\" class=\"external text\" href=\"http://vis.stanford.edu/files/2011-Wrangler-CHI.pdf\">Stanford.edu</a>, 2011 Wrangler: Interactive Visual Specification of Data Transformation Scripts, Kandel, Paepcke, Hellerstein Heer.</span></li>\\n<li id=\"cite_note-Stanford2012-3\"><span class=\"mw-cite-backlink\">^ <a href=\"#cite_ref-Stanford2012_3-0\"><sup><i><b>a</b></i></sup></a> <a href=\"#cite_ref-Stanford2012_3-1\"><sup><i><b>b</b></i></sup></a> <a href=\"#cite_ref-Stanford2012_3-2\"><sup><i><b>c</b></i></sup></a></span> <span class=\"reference-text\"><a rel=\"nofollow\" class=\"external text\" href=\"http://vis.stanford.edu/files/2012-EnterpriseAnalysisInterviews-VAST.pdf\">Stanford.edu</a>, IEEE Visual Analytics Science &amp; Technology (VAST), Oct 2012 Enterprise Data Analysis and Visualization: An Interview Study., Sean Kandel, Andreas Paepcke, Joseph Hellerstein, Jeffrey Heer Proc.</span></li>\\n</ol>\\n</div>\\n</div>\\n\\n\\n<!-- \\nNewPP limit report\\nParsed by mw1251\\nCached time: 20170810063011\\nCache expiry: 1900800\\nDynamic content: false\\nCPU time usage: 0.068 seconds\\nReal time usage: 0.106 seconds\\nPreprocessor visited node count: 418/1000000\\nPreprocessor generated node count: 0/1500000\\nPost‐expand include size: 22528/2097152 bytes\\nTemplate argument size: 6051/2097152 bytes\\nHighest expansion depth: 11/40\\nExpensive parser function count: 2/500\\nLua time usage: 0.026/10.000 seconds\\nLua memory usage: 1.5 MB/50 MB\\n-->\\n<!--\\nTransclusion expansion time report (%,ms,calls,template)\\n100.00%   86.927      1 -total\\n 93.87%   81.594      3 Template:Ambox\\n 74.49%   64.755      1 Template:Multiple_issues\\n 22.40%   19.474      1 Template:Refimprove\\n 15.40%   13.390      1 Template:More_footnotes\\n  7.90%    6.870      1 Template:Reflist\\n  7.38%    6.418      1 Template:Portal\\n  2.63%    2.283      3 Template:Main_other\\n  2.16%    1.875      1 Template:-\\n-->\\n</div>\\n<!-- Saved in parser cache with key enwiki:pcache:idhash:43385931-0!canonical and timestamp 20170810063011 and revision id 791149245\\n -->\\n'},\n",
       "  'title': 'Data exploration'}}"
      ]
     },
     "execution_count": 25,
     "metadata": {},
     "output_type": "execute_result"
    }
   ],
   "source": [
    "jsonify_wiki_article('Data exploration')"
   ]
  },
  {
   "cell_type": "code",
   "execution_count": 26,
   "metadata": {
    "collapsed": true
   },
   "outputs": [],
   "source": [
    "# get the article in html format\n",
    "\n",
    "def htmlify_wiki_article (article_name):\n",
    "    article_name_json = jsonify_wiki_article(article_name)\n",
    "    article_name_html = article_name_json['parse']['text']['*']\n",
    "    return article_name_html"
   ]
  },
  {
   "cell_type": "code",
   "execution_count": 27,
   "metadata": {
    "collapsed": true
   },
   "outputs": [
    {
     "data": {
      "text/plain": [
       "'<div class=\"mw-parser-output\"><table class=\"plainlinks metadata ambox ambox-content ambox-multiple_issues compact-ambox\" role=\"presentation\">\\n<tr>\\n<td class=\"mbox-image\">\\n<div style=\"width:52px\"><img alt=\"\" src=\"//upload.wikimedia.org/wikipedia/commons/thumb/b/b4/Ambox_important.svg/40px-Ambox_important.svg.png\" width=\"40\" height=\"40\" srcset=\"//upload.wikimedia.org/wikipedia/commons/thumb/b/b4/Ambox_important.svg/60px-Ambox_important.svg.png 1.5x, //upload.wikimedia.org/wikipedia/commons/thumb/b/b4/Ambox_important.svg/80px-Ambox_important.svg.png 2x\" data-file-width=\"40\" data-file-height=\"40\" /></div>\\n</td>\\n<td class=\"mbox-text\">\\n<div class=\"mw-collapsible\" style=\"width:95%; margin: 0.2em 0;\"><span class=\"mbox-text-span\"><b>This article has multiple issues.</b> Please help <b><a class=\"external text\" href=\"//en.wikipedia.org/w/index.php?title=Data_exploration&amp;action=edit\">improve it</a></b> or discuss these issues on the <b><a href=\"/wiki/Talk:Data_exploration\" title=\"Talk:Data exploration\">talk page</a></b>. <small><i>(<a href=\"/wiki/Help:Maintenance_template_removal\" title=\"Help:Maintenance template removal\">Learn how and when to remove these template messages</a>)</i></small></span>\\n<div class=\"mw-collapsible-content\" style=\"margin-top: 0.3em;\">\\n<table class=\"plainlinks metadata ambox ambox-content ambox-Refimprove\" role=\"presentation\">\\n<tr>\\n<td class=\"mbox-image\">\\n<div style=\"width:52px\"><a href=\"/wiki/File:Question_book-new.svg\" class=\"image\"><img alt=\"\" src=\"//upload.wikimedia.org/wikipedia/en/thumb/9/99/Question_book-new.svg/50px-Question_book-new.svg.png\" width=\"50\" height=\"39\" srcset=\"//upload.wikimedia.org/wikipedia/en/thumb/9/99/Question_book-new.svg/75px-Question_book-new.svg.png 1.5x, //upload.wikimedia.org/wikipedia/en/thumb/9/99/Question_book-new.svg/100px-Question_book-new.svg.png 2x\" data-file-width=\"512\" data-file-height=\"399\" /></a></div>\\n</td>\\n<td class=\"mbox-text\"><span class=\"mbox-text-span\">This article <b>needs additional citations for <a href=\"/wiki/Wikipedia:Verifiability\" title=\"Wikipedia:Verifiability\">verification</a></b>. <span class=\"hide-when-compact\">Please help <a class=\"external text\" href=\"//en.wikipedia.org/w/index.php?title=Data_exploration&amp;action=edit\">improve this article</a> by <a href=\"/wiki/Help:Introduction_to_referencing_with_Wiki_Markup/1\" title=\"Help:Introduction to referencing with Wiki Markup/1\">adding citations to reliable sources</a>. Unsourced material may be challenged and removed.</span> <small><i>(July 2017)</i></small> <small class=\"hide-when-compact\"><i>(<a href=\"/wiki/Help:Maintenance_template_removal\" title=\"Help:Maintenance template removal\">Learn how and when to remove this template message</a>)</i></small></span></td>\\n</tr>\\n</table>\\n<table class=\"plainlinks metadata ambox ambox-style ambox-More_footnotes\" role=\"presentation\">\\n<tr>\\n<td class=\"mbox-image\">\\n<div style=\"width:52px\"><img alt=\"\" src=\"//upload.wikimedia.org/wikipedia/commons/thumb/a/a4/Text_document_with_red_question_mark.svg/40px-Text_document_with_red_question_mark.svg.png\" width=\"40\" height=\"40\" srcset=\"//upload.wikimedia.org/wikipedia/commons/thumb/a/a4/Text_document_with_red_question_mark.svg/60px-Text_document_with_red_question_mark.svg.png 1.5x, //upload.wikimedia.org/wikipedia/commons/thumb/a/a4/Text_document_with_red_question_mark.svg/80px-Text_document_with_red_question_mark.svg.png 2x\" data-file-width=\"48\" data-file-height=\"48\" /></div>\\n</td>\\n<td class=\"mbox-text\"><span class=\"mbox-text-span\">This article includes a <a href=\"/wiki/Wikipedia:Citing_sources\" title=\"Wikipedia:Citing sources\">list of references</a>, but <b>its sources remain unclear</b> because it has <b>insufficient <a href=\"/wiki/Wikipedia:Citing_sources#Inline_citations\" title=\"Wikipedia:Citing sources\">inline citations</a></b>. <span class=\"hide-when-compact\">Please help to <a href=\"/wiki/Wikipedia:WikiProject_Fact_and_Reference_Check\" title=\"Wikipedia:WikiProject Fact and Reference Check\">improve</a> this article by <a href=\"/wiki/Wikipedia:When_to_cite\" title=\"Wikipedia:When to cite\">introducing</a> more precise citations.</span> <small><i>(July 2017)</i></small> <small class=\"hide-when-compact\"><i>(<a href=\"/wiki/Help:Maintenance_template_removal\" title=\"Help:Maintenance template removal\">Learn how and when to remove this template message</a>)</i></small></span></td>\\n</tr>\\n</table>\\n</div>\\n</div>\\n<small class=\"hide-when-compact\"><i>(<a href=\"/wiki/Help:Maintenance_template_removal\" title=\"Help:Maintenance template removal\">Learn how and when to remove this template message</a>)</i></small></td>\\n</tr>\\n</table>\\n<p><b>Data exploration</b> is an approach similar to initial data analysis, whereby a data analyst uses visual exploration to understand what is in a dataset and the characteristics of the data, rather than through traditional data management systems<sup id=\"cite_ref-Foster_1-0\" class=\"reference\"><a href=\"#cite_note-Foster-1\">[1]</a></sup>. These characteristics can include size or amount of data, completeness of the data, correctness of the data, possible relationships amongst data elements or files/tables in the data.</p>\\n<p>Data exploration is typically conducted using a combination of automated and manual activities.<sup id=\"cite_ref-Foster_1-1\" class=\"reference\"><a href=\"#cite_note-Foster-1\">[1]</a></sup><sup id=\"cite_ref-Stanford2011_2-0\" class=\"reference\"><a href=\"#cite_note-Stanford2011-2\">[2]</a></sup> Automated activities can include data profiling or data visualization or tabular reports to give the analyst an initial view into the data and an understanding of key characteristics.</p>\\n<p>This is often followed by manual drill-down or filtering of the data to identify anomalies or patterns identified through the automated actions. Data exploration can also require manual scripting and queries into the data (e.g. using languages such as SQL or R) or using Excel or similar tools to view the raw data.<sup id=\"cite_ref-Stanford2012_3-0\" class=\"reference\"><a href=\"#cite_note-Stanford2012-3\">[3]</a></sup></p>\\n<p>All of these activities are aimed at creating a clear mental model and understanding of the data in the mind of the analyst, and defining basic metadata (statistics, structure, relationships) for the data set that can be used in further analysis.</p>\\n<p>Once this initial understanding of the data is had, the data can be pruned or refined by removing unusable parts of the data, correcting poorly formatted elements and defining relevant relationships across datasets<sup id=\"cite_ref-Stanford2011_2-1\" class=\"reference\"><a href=\"#cite_note-Stanford2011-2\">[2]</a></sup>. This process is also known as determining <a href=\"/wiki/Data_quality\" title=\"Data quality\">data quality</a><sup id=\"cite_ref-Stanford2012_3-1\" class=\"reference\"><a href=\"#cite_note-Stanford2012-3\">[3]</a></sup>.</p>\\n<p>At this stage, the data can be considered ready for deeper analysis or be handed off to other analysts or users who have specific needs for the data.</p>\\n<p>Data exploration can also refer to the adhoc querying and visualization of data to identify potential relationships or insights that may be hidden in the data<sup id=\"cite_ref-Foster_1-2\" class=\"reference\"><a href=\"#cite_note-Foster-1\">[1]</a></sup>. In this scenario, hypotheses may be created and then the data is explored to identify whether those hypotheses are correct.</p>\\n<p>Traditionally, this had been a key area of focus for statisticians, with <a href=\"/wiki/John_Tukey\" title=\"John Tukey\">John Tukey</a> being a key evangelist in the field. Today, data exploration is more widespread and is the focus of data analysts and <a href=\"/wiki/Data_scientists\" class=\"mw-redirect\" title=\"Data scientists\">data scientists</a>; the latter being a relatively new role within enterprises and larger organizations.</p>\\n<p></p>\\n<div id=\"toc\" class=\"toc\">\\n<div class=\"toctitle\">\\n<h2>Contents</h2>\\n</div>\\n<ul>\\n<li class=\"toclevel-1 tocsection-1\"><a href=\"#Interactive_Data_Exploration\"><span class=\"tocnumber\">1</span> <span class=\"toctext\">Interactive Data Exploration</span></a></li>\\n<li class=\"toclevel-1 tocsection-2\"><a href=\"#Software\"><span class=\"tocnumber\">2</span> <span class=\"toctext\">Software</span></a></li>\\n<li class=\"toclevel-1 tocsection-3\"><a href=\"#See_also\"><span class=\"tocnumber\">3</span> <span class=\"toctext\">See also</span></a></li>\\n<li class=\"toclevel-1 tocsection-4\"><a href=\"#References\"><span class=\"tocnumber\">4</span> <span class=\"toctext\">References</span></a></li>\\n</ul>\\n</div>\\n<p></p>\\n<h2><span class=\"mw-headline\" id=\"Interactive_Data_Exploration\">Interactive Data Exploration</span><span class=\"mw-editsection\"><span class=\"mw-editsection-bracket\">[</span><a href=\"/w/index.php?title=Data_exploration&amp;action=edit&amp;section=1\" title=\"Edit section: Interactive Data Exploration\">edit</a><span class=\"mw-editsection-bracket\">]</span></span></h2>\\n<p>This area of data exploration has become an area of interest in the field of machine learning. This is a relatively new field and is still evolving.<sup id=\"cite_ref-Stanford2012_3-2\" class=\"reference\"><a href=\"#cite_note-Stanford2012-3\">[3]</a></sup> As it’s most basic level, a machine-learning algorithm can be fed a data set and can be used to identify whether a hypothesis is true based on the dataset. Common machine learning algorithms can focus on identifying specific patterns in the data.<sup id=\"cite_ref-Stanford2011_2-2\" class=\"reference\"><a href=\"#cite_note-Stanford2011-2\">[2]</a></sup> Common patterns include regression, classification or clustering, but there are many possible patterns and algorithms that can be applied to data via machine learning.</p>\\n<p>By employing machine learning, it is possible to find patterns or relationships in the data that would be difficult or impossible to find via manual inspection, trial and error or traditional exploration techniques.</p>\\n<h2><span class=\"mw-headline\" id=\"Software\">Software</span><span class=\"mw-editsection\"><span class=\"mw-editsection-bracket\">[</span><a href=\"/w/index.php?title=Data_exploration&amp;action=edit&amp;section=2\" title=\"Edit section: Software\">edit</a><span class=\"mw-editsection-bracket\">]</span></span></h2>\\n<ul>\\n<li><a href=\"/wiki/Trifacta\" title=\"Trifacta\">Trifacta</a> – a data preparation and analysis platform</li>\\n<li><a href=\"/wiki/Paxata\" title=\"Paxata\">Paxata</a> – self-service data preparation software</li>\\n<li><a href=\"/wiki/Alteryx\" title=\"Alteryx\">Alteryx</a> – data blending and advanced data analytics software</li>\\n<li>IBM Infosphere Analyzer – a data profiling tool</li>\\n<li>Microsoft <a href=\"/wiki/Power_BI\" title=\"Power BI\">Power BI</a> - interactive visualization and data analysis tool</li>\\n<li><a href=\"/wiki/OpenRefine\" title=\"OpenRefine\">OpenRefine</a> - a standalone open source desktop application for data clean-up and data transformation</li>\\n<li><a href=\"/wiki/Tableau_software\" class=\"mw-redirect\" title=\"Tableau software\">Tableau software</a> – interactive data visualization software</li>\\n</ul>\\n<h2><span class=\"mw-headline\" id=\"See_also\">See also</span><span class=\"mw-editsection\"><span class=\"mw-editsection-bracket\">[</span><a href=\"/w/index.php?title=Data_exploration&amp;action=edit&amp;section=3\" title=\"Edit section: See also\">edit</a><span class=\"mw-editsection-bracket\">]</span></span></h2>\\n<div role=\"navigation\" aria-label=\"Portals\" class=\"noprint portal plainlist tright\" style=\"margin:0.5em 0 0.5em 1em;border:solid #aaa 1px\">\\n<ul style=\"display:table;box-sizing:border-box;padding:0.1em;max-width:175px;background:#f9f9f9;font-size:85%;line-height:110%;font-style:italic;font-weight:bold\">\\n<li style=\"display:table-row\"><span style=\"display:table-cell;padding:0.2em;vertical-align:middle;text-align:center\"><img alt=\"\" src=\"//upload.wikimedia.org/wikipedia/commons/thumb/d/d7/Desktop_computer_clipart_-_Yellow_theme.svg/32px-Desktop_computer_clipart_-_Yellow_theme.svg.png\" width=\"32\" height=\"23\" class=\"noviewer\" srcset=\"//upload.wikimedia.org/wikipedia/commons/thumb/d/d7/Desktop_computer_clipart_-_Yellow_theme.svg/48px-Desktop_computer_clipart_-_Yellow_theme.svg.png 1.5x, //upload.wikimedia.org/wikipedia/commons/thumb/d/d7/Desktop_computer_clipart_-_Yellow_theme.svg/64px-Desktop_computer_clipart_-_Yellow_theme.svg.png 2x\" data-file-width=\"281\" data-file-height=\"203\" /></span><span style=\"display:table-cell;padding:0.2em 0.2em 0.2em 0.3em;vertical-align:middle\"><a href=\"/wiki/Portal:Information_technology\" title=\"Portal:Information technology\">Information technology portal</a></span></li>\\n</ul>\\n</div>\\n<ul>\\n<li><a href=\"/wiki/Exploratory_Data_Analysis\" class=\"mw-redirect\" title=\"Exploratory Data Analysis\">Exploratory Data Analysis</a></li>\\n<li><a href=\"/wiki/Machine_Learning\" class=\"mw-redirect\" title=\"Machine Learning\">Machine Learning</a></li>\\n<li><a href=\"/wiki/Data_profiling\" title=\"Data profiling\">Data profiling</a></li>\\n<li><a href=\"/wiki/Data_Visualization\" class=\"mw-redirect\" title=\"Data Visualization\">Data Visualization</a></li>\\n</ul>\\n<div style=\"clear:both;\"></div>\\n<h2><span class=\"mw-headline\" id=\"References\">References</span><span class=\"mw-editsection\"><span class=\"mw-editsection-bracket\">[</span><a href=\"/w/index.php?title=Data_exploration&amp;action=edit&amp;section=4\" title=\"Edit section: References\">edit</a><span class=\"mw-editsection-bracket\">]</span></span></h2>\\n<div class=\"reflist\" style=\"list-style-type: decimal;\">\\n<div class=\"mw-references-wrap\">\\n<ol class=\"references\">\\n<li id=\"cite_note-Foster-1\"><span class=\"mw-cite-backlink\">^ <a href=\"#cite_ref-Foster_1-0\"><sup><i><b>a</b></i></sup></a> <a href=\"#cite_ref-Foster_1-1\"><sup><i><b>b</b></i></sup></a> <a href=\"#cite_ref-Foster_1-2\"><sup><i><b>c</b></i></sup></a></span> <span class=\"reference-text\"><a rel=\"nofollow\" class=\"external text\" href=\"https://www.fosteropenscience.eu/sites/default/files/pdf/2933.pdf\">FOSTER Open Science</a>, Overview of Data Exploration Techniques: Stratos Idreos, Olga Papaemmonouil, Surajit Chaudhuri.</span></li>\\n<li id=\"cite_note-Stanford2011-2\"><span class=\"mw-cite-backlink\">^ <a href=\"#cite_ref-Stanford2011_2-0\"><sup><i><b>a</b></i></sup></a> <a href=\"#cite_ref-Stanford2011_2-1\"><sup><i><b>b</b></i></sup></a> <a href=\"#cite_ref-Stanford2011_2-2\"><sup><i><b>c</b></i></sup></a></span> <span class=\"reference-text\"><a rel=\"nofollow\" class=\"external text\" href=\"http://vis.stanford.edu/files/2011-Wrangler-CHI.pdf\">Stanford.edu</a>, 2011 Wrangler: Interactive Visual Specification of Data Transformation Scripts, Kandel, Paepcke, Hellerstein Heer.</span></li>\\n<li id=\"cite_note-Stanford2012-3\"><span class=\"mw-cite-backlink\">^ <a href=\"#cite_ref-Stanford2012_3-0\"><sup><i><b>a</b></i></sup></a> <a href=\"#cite_ref-Stanford2012_3-1\"><sup><i><b>b</b></i></sup></a> <a href=\"#cite_ref-Stanford2012_3-2\"><sup><i><b>c</b></i></sup></a></span> <span class=\"reference-text\"><a rel=\"nofollow\" class=\"external text\" href=\"http://vis.stanford.edu/files/2012-EnterpriseAnalysisInterviews-VAST.pdf\">Stanford.edu</a>, IEEE Visual Analytics Science &amp; Technology (VAST), Oct 2012 Enterprise Data Analysis and Visualization: An Interview Study., Sean Kandel, Andreas Paepcke, Joseph Hellerstein, Jeffrey Heer Proc.</span></li>\\n</ol>\\n</div>\\n</div>\\n\\n\\n<!-- \\nNewPP limit report\\nParsed by mw1251\\nCached time: 20170810063011\\nCache expiry: 1900800\\nDynamic content: false\\nCPU time usage: 0.068 seconds\\nReal time usage: 0.106 seconds\\nPreprocessor visited node count: 418/1000000\\nPreprocessor generated node count: 0/1500000\\nPost‐expand include size: 22528/2097152 bytes\\nTemplate argument size: 6051/2097152 bytes\\nHighest expansion depth: 11/40\\nExpensive parser function count: 2/500\\nLua time usage: 0.026/10.000 seconds\\nLua memory usage: 1.5 MB/50 MB\\n-->\\n<!--\\nTransclusion expansion time report (%,ms,calls,template)\\n100.00%   86.927      1 -total\\n 93.87%   81.594      3 Template:Ambox\\n 74.49%   64.755      1 Template:Multiple_issues\\n 22.40%   19.474      1 Template:Refimprove\\n 15.40%   13.390      1 Template:More_footnotes\\n  7.90%    6.870      1 Template:Reflist\\n  7.38%    6.418      1 Template:Portal\\n  2.63%    2.283      3 Template:Main_other\\n  2.16%    1.875      1 Template:-\\n-->\\n</div>\\n<!-- Saved in parser cache with key enwiki:pcache:idhash:43385931-0!canonical and timestamp 20170810063011 and revision id 791149245\\n -->\\n'"
      ]
     },
     "execution_count": 27,
     "metadata": {},
     "output_type": "execute_result"
    }
   ],
   "source": [
    "htmlify_wiki_article('Data exploration')"
   ]
  },
  {
   "cell_type": "code",
   "execution_count": 28,
   "metadata": {
    "collapsed": true
   },
   "outputs": [],
   "source": [
    "# run beautiful soup on the html format to do a 1st pass at cleaning the html to just text\n",
    "\n",
    "def beautify_html_article (article_name):\n",
    "    article_name_html = htmlify_wiki_article(article_name)\n",
    "    soup = BeautifulSoup(article_name_html, 'html.parser')\n",
    "    article_text = soup.get_text().replace('\\n', '')\n",
    "    return article_text"
   ]
  },
  {
   "cell_type": "code",
   "execution_count": 29,
   "metadata": {
    "collapsed": true
   },
   "outputs": [
    {
     "data": {
      "text/plain": [
       "'This article has multiple issues. Please help improve it or discuss these issues on the talk page. (Learn how and when to remove these template messages)This article needs additional citations for verification. Please help improve this article by adding citations to reliable sources. Unsourced material may be challenged and removed. (July 2017) (Learn how and when to remove this template message)This article includes a list of references, but its sources remain unclear because it has insufficient inline citations. Please help to improve this article by introducing more precise citations. (July 2017) (Learn how and when to remove this template message)(Learn how and when to remove this template message)Data exploration is an approach similar to initial data analysis, whereby a data analyst uses visual exploration to understand what is in a dataset and the characteristics of the data, rather than through traditional data management systems[1]. These characteristics can include size or amount of data, completeness of the data, correctness of the data, possible relationships amongst data elements or files/tables in the data.Data exploration is typically conducted using a combination of automated and manual activities.[1][2] Automated activities can include data profiling or data visualization or tabular reports to give the analyst an initial view into the data and an understanding of key characteristics.This is often followed by manual drill-down or filtering of the data to identify anomalies or patterns identified through the automated actions. Data exploration can also require manual scripting and queries into the data (e.g. using languages such as SQL or R) or using Excel or similar tools to view the raw data.[3]All of these activities are aimed at creating a clear mental model and understanding of the data in the mind of the analyst, and defining basic metadata (statistics, structure, relationships) for the data set that can be used in further analysis.Once this initial understanding of the data is had, the data can be pruned or refined by removing unusable parts of the data, correcting poorly formatted elements and defining relevant relationships across datasets[2]. This process is also known as determining data quality[3].At this stage, the data can be considered ready for deeper analysis or be handed off to other analysts or users who have specific needs for the data.Data exploration can also refer to the adhoc querying and visualization of data to identify potential relationships or insights that may be hidden in the data[1]. In this scenario, hypotheses may be created and then the data is explored to identify whether those hypotheses are correct.Traditionally, this had been a key area of focus for statisticians, with John Tukey being a key evangelist in the field. Today, data exploration is more widespread and is the focus of data analysts and data scientists; the latter being a relatively new role within enterprises and larger organizations.Contents1 Interactive Data Exploration2 Software3 See also4 ReferencesInteractive Data Exploration[edit]This area of data exploration has become an area of interest in the field of machine learning. This is a relatively new field and is still evolving.[3] As it’s most basic level, a machine-learning algorithm can be fed a data set and can be used to identify whether a hypothesis is true based on the dataset. Common machine learning algorithms can focus on identifying specific patterns in the data.[2] Common patterns include regression, classification or clustering, but there are many possible patterns and algorithms that can be applied to data via machine learning.By employing machine learning, it is possible to find patterns or relationships in the data that would be difficult or impossible to find via manual inspection, trial and error or traditional exploration techniques.Software[edit]Trifacta – a data preparation and analysis platformPaxata – self-service data preparation softwareAlteryx – data blending and advanced data analytics softwareIBM Infosphere Analyzer – a data profiling toolMicrosoft Power BI - interactive visualization and data analysis toolOpenRefine - a standalone open source desktop application for data clean-up and data transformationTableau software – interactive data visualization softwareSee also[edit]Information technology portalExploratory Data AnalysisMachine LearningData profilingData VisualizationReferences[edit]^ a b c FOSTER Open Science, Overview of Data Exploration Techniques: Stratos Idreos, Olga Papaemmonouil, Surajit Chaudhuri.^ a b c Stanford.edu, 2011 Wrangler: Interactive Visual Specification of Data Transformation Scripts, Kandel, Paepcke, Hellerstein Heer.^ a b c Stanford.edu, IEEE Visual Analytics Science & Technology (VAST), Oct 2012 Enterprise Data Analysis and Visualization: An Interview Study., Sean Kandel, Andreas Paepcke, Joseph Hellerstein, Jeffrey Heer Proc.'"
      ]
     },
     "execution_count": 29,
     "metadata": {},
     "output_type": "execute_result"
    }
   ],
   "source": [
    "beautify_html_article('Data exploration')"
   ]
  },
  {
   "cell_type": "code",
   "execution_count": 30,
   "metadata": {
    "collapsed": true
   },
   "outputs": [],
   "source": [
    "\n",
    "ml_article_content = []\n",
    "\n",
    "for article in ml_articles_list:\n",
    "    page = beautify_html_article(article)\n",
    "    ml_article_content.append(page)\n"
   ]
  },
  {
   "cell_type": "code",
   "execution_count": 129,
   "metadata": {},
   "outputs": [
    {
     "ename": "NameError",
     "evalue": "name 'ml_article_content' is not defined",
     "output_type": "error",
     "traceback": [
      "\u001b[0;31m---------------------------------------------------------------------------\u001b[0m",
      "\u001b[0;31mNameError\u001b[0m                                 Traceback (most recent call last)",
      "\u001b[0;32m<ipython-input-129-d453d21ba0d4>\u001b[0m in \u001b[0;36m<module>\u001b[0;34m()\u001b[0m\n\u001b[0;32m----> 1\u001b[0;31m \u001b[0mml_article_content\u001b[0m\u001b[0;34m[\u001b[0m\u001b[0;34m:\u001b[0m\u001b[0;36m5\u001b[0m\u001b[0;34m]\u001b[0m\u001b[0;34m\u001b[0m\u001b[0m\n\u001b[0m",
      "\u001b[0;31mNameError\u001b[0m: name 'ml_article_content' is not defined"
     ]
    }
   ],
   "source": [
    "ml_article_content"
   ]
  },
  {
   "cell_type": "code",
   "execution_count": 35,
   "metadata": {},
   "outputs": [
    {
     "data": {
      "text/plain": [
       "198"
      ]
     },
     "execution_count": 35,
     "metadata": {},
     "output_type": "execute_result"
    }
   ],
   "source": [
    "len(ml_article_content)"
   ]
  },
  {
   "cell_type": "code",
   "execution_count": 50,
   "metadata": {
    "collapsed": true
   },
   "outputs": [],
   "source": [
    "ml_page_df['text'] = ml_article_content"
   ]
  },
  {
   "cell_type": "code",
   "execution_count": 36,
   "metadata": {
    "collapsed": true
   },
   "outputs": [],
   "source": [
    "bs_article_content = []\n",
    "\n",
    "for article in bs_articles_list:\n",
    "    page = beautify_html_article(article)\n",
    "    bs_article_content.append(page)\n"
   ]
  },
  {
   "cell_type": "code",
   "execution_count": 37,
   "metadata": {},
   "outputs": [
    {
     "data": {
      "text/plain": [
       "298"
      ]
     },
     "execution_count": 37,
     "metadata": {},
     "output_type": "execute_result"
    }
   ],
   "source": [
    "len(bs_article_content)"
   ]
  },
  {
   "cell_type": "code",
   "execution_count": 51,
   "metadata": {
    "collapsed": true
   },
   "outputs": [],
   "source": [
    "bs_page_df['text'] = bs_article_content"
   ]
  },
  {
   "cell_type": "code",
   "execution_count": 52,
   "metadata": {
    "collapsed": true
   },
   "outputs": [],
   "source": [
    "PAGE_df = ml_page_df.merge(bs_page_df, how='outer')"
   ]
  },
  {
   "cell_type": "code",
   "execution_count": 55,
   "metadata": {},
   "outputs": [
    {
     "data": {
      "text/html": [
       "<div>\n",
       "<table border=\"1\" class=\"dataframe\">\n",
       "  <thead>\n",
       "    <tr style=\"text-align: right;\">\n",
       "      <th></th>\n",
       "      <th>ns</th>\n",
       "      <th>pageid</th>\n",
       "      <th>title</th>\n",
       "      <th>category</th>\n",
       "      <th>text</th>\n",
       "    </tr>\n",
       "  </thead>\n",
       "  <tbody>\n",
       "    <tr>\n",
       "      <th>0</th>\n",
       "      <td>0</td>\n",
       "      <td>43385931</td>\n",
       "      <td>Data exploration</td>\n",
       "      <td>Category:Machine_learning</td>\n",
       "      <td>This article has multiple issues. Please help ...</td>\n",
       "    </tr>\n",
       "    <tr>\n",
       "      <th>1</th>\n",
       "      <td>0</td>\n",
       "      <td>49082762</td>\n",
       "      <td>List of datasets for machine learning research</td>\n",
       "      <td>Category:Machine_learning</td>\n",
       "      <td>Machine learning anddata miningProblemsClassif...</td>\n",
       "    </tr>\n",
       "    <tr>\n",
       "      <th>2</th>\n",
       "      <td>0</td>\n",
       "      <td>233488</td>\n",
       "      <td>Machine learning</td>\n",
       "      <td>Category:Machine_learning</td>\n",
       "      <td>For the journal, see Machine Learning (journal...</td>\n",
       "    </tr>\n",
       "    <tr>\n",
       "      <th>3</th>\n",
       "      <td>0</td>\n",
       "      <td>53587467</td>\n",
       "      <td>Outline of machine learning</td>\n",
       "      <td>Category:Machine_learning</td>\n",
       "      <td>The following outline is provided as an overvi...</td>\n",
       "    </tr>\n",
       "    <tr>\n",
       "      <th>4</th>\n",
       "      <td>0</td>\n",
       "      <td>53198248</td>\n",
       "      <td>Singular statistical model</td>\n",
       "      <td>Category:Machine_learning</td>\n",
       "      <td>This article needs more links to other article...</td>\n",
       "    </tr>\n",
       "  </tbody>\n",
       "</table>\n",
       "</div>"
      ],
      "text/plain": [
       "   ns    pageid                                           title  \\\n",
       "0   0  43385931                                Data exploration   \n",
       "1   0  49082762  List of datasets for machine learning research   \n",
       "2   0    233488                                Machine learning   \n",
       "3   0  53587467                     Outline of machine learning   \n",
       "4   0  53198248                      Singular statistical model   \n",
       "\n",
       "                    category  \\\n",
       "0  Category:Machine_learning   \n",
       "1  Category:Machine_learning   \n",
       "2  Category:Machine_learning   \n",
       "3  Category:Machine_learning   \n",
       "4  Category:Machine_learning   \n",
       "\n",
       "                                                text  \n",
       "0  This article has multiple issues. Please help ...  \n",
       "1  Machine learning anddata miningProblemsClassif...  \n",
       "2  For the journal, see Machine Learning (journal...  \n",
       "3  The following outline is provided as an overvi...  \n",
       "4  This article needs more links to other article...  "
      ]
     },
     "execution_count": 55,
     "metadata": {},
     "output_type": "execute_result"
    }
   ],
   "source": [
    "PAGE_df.head()"
   ]
  },
  {
   "cell_type": "code",
   "execution_count": 84,
   "metadata": {},
   "outputs": [
    {
     "data": {
      "text/plain": [
       "(496, 5)"
      ]
     },
     "execution_count": 84,
     "metadata": {},
     "output_type": "execute_result"
    }
   ],
   "source": [
    "PAGE_df.shape"
   ]
  },
  {
   "cell_type": "code",
   "execution_count": 32,
   "metadata": {
    "collapsed": true
   },
   "outputs": [],
   "source": [
    "import re"
   ]
  },
  {
   "cell_type": "code",
   "execution_count": 33,
   "metadata": {
    "collapsed": true
   },
   "outputs": [],
   "source": [
    "def text_cleaner(text):\n",
    "    text = re.sub('[\\.]',' ',text)\n",
    "#     text = re.sub('\\W',' ',text.lower())\n",
    "#     text = re.sub('\\s+',' ',text)\n",
    "    return text"
   ]
  },
  {
   "cell_type": "code",
   "execution_count": 34,
   "metadata": {},
   "outputs": [
    {
     "ename": "NameError",
     "evalue": "name 'test' is not defined",
     "output_type": "error",
     "traceback": [
      "\u001b[0;31m---------------------------------------------------------------------------\u001b[0m",
      "\u001b[0;31mNameError\u001b[0m                                 Traceback (most recent call last)",
      "\u001b[0;32m<ipython-input-34-4a626a2eaad1>\u001b[0m in \u001b[0;36m<module>\u001b[0;34m()\u001b[0m\n\u001b[0;32m----> 1\u001b[0;31m \u001b[0mtext_cleaner\u001b[0m\u001b[0;34m(\u001b[0m\u001b[0mtest\u001b[0m\u001b[0;34m)\u001b[0m\u001b[0;34m\u001b[0m\u001b[0m\n\u001b[0m",
      "\u001b[0;31mNameError\u001b[0m: name 'test' is not defined"
     ]
    }
   ],
   "source": [
    "text_cleaner(test)"
   ]
  },
  {
   "cell_type": "code",
   "execution_count": null,
   "metadata": {
    "collapsed": true
   },
   "outputs": [],
   "source": []
  }
 ],
 "metadata": {
  "kernelspec": {
   "display_name": "Python 3",
   "language": "python",
   "name": "python3"
  },
  "language_info": {
   "codemirror_mode": {
    "name": "ipython",
    "version": 3
   },
   "file_extension": ".py",
   "mimetype": "text/x-python",
   "name": "python",
   "nbconvert_exporter": "python",
   "pygments_lexer": "ipython3",
   "version": "3.5.2"
  }
 },
 "nbformat": 4,
 "nbformat_minor": 2
}
