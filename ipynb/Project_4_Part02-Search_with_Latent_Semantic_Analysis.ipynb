{
 "cells": [
  {
   "cell_type": "markdown",
   "metadata": {},
   "source": [
    "## Part II - Latent Semantic Analysis to Grab Related Articles Given a Query"
   ]
  },
  {
   "cell_type": "code",
   "execution_count": 1,
   "metadata": {
    "collapsed": true
   },
   "outputs": [],
   "source": [
    "import matplotlib.pyplot as plt\n",
    "import numpy as np\n",
    "import pandas as pd\n",
    "import seaborn as sns\n",
    "\n",
    "%matplotlib inline"
   ]
  },
  {
   "cell_type": "markdown",
   "metadata": {},
   "source": [
    "### Apply the same text cleaner used to clean the data to the search query"
   ]
  },
  {
   "cell_type": "code",
   "execution_count": 2,
   "metadata": {},
   "outputs": [],
   "source": [
    "from os import chdir\n",
    "chdir('/home/jovyan/')"
   ]
  },
  {
   "cell_type": "code",
   "execution_count": 3,
   "metadata": {
    "scrolled": false
   },
   "outputs": [],
   "source": [
    "import library.db_helper as db\n",
    "import library.functions as fy"
   ]
  },
  {
   "cell_type": "markdown",
   "metadata": {},
   "source": [
    "### Grab Text from the Page table"
   ]
  },
  {
   "cell_type": "code",
   "execution_count": 7,
   "metadata": {},
   "outputs": [],
   "source": [
    "query = '''\n",
    "SELECT text\n",
    "FROM page\n",
    "'''\n",
    "\n",
    "X = db.query_to_dataframe(query)"
   ]
  },
  {
   "cell_type": "code",
   "execution_count": 8,
   "metadata": {
    "scrolled": true
   },
   "outputs": [
    {
     "data": {
      "text/html": [
       "<div>\n",
       "<table border=\"1\" class=\"dataframe\">\n",
       "  <thead>\n",
       "    <tr style=\"text-align: right;\">\n",
       "      <th></th>\n",
       "      <th>text</th>\n",
       "    </tr>\n",
       "  </thead>\n",
       "  <tbody>\n",
       "    <tr>\n",
       "      <th>2523</th>\n",
       "      <td>fleet management software fms is computer soft...</td>\n",
       "    </tr>\n",
       "    <tr>\n",
       "      <th>2120</th>\n",
       "      <td>qlootype of siteprivatefoundedheadquartersnew ...</td>\n",
       "    </tr>\n",
       "    <tr>\n",
       "      <th>1518</th>\n",
       "      <td>apache openwebbeansdeveloper s apache software...</td>\n",
       "    </tr>\n",
       "    <tr>\n",
       "      <th>1085</th>\n",
       "      <td>numentatypeprivately heldindustryanalytics art...</td>\n",
       "    </tr>\n",
       "    <tr>\n",
       "      <th>1986</th>\n",
       "      <td>in machine learning and natural language proce...</td>\n",
       "    </tr>\n",
       "  </tbody>\n",
       "</table>\n",
       "</div>"
      ],
      "text/plain": [
       "                                                   text\n",
       "2523  fleet management software fms is computer soft...\n",
       "2120  qlootype of siteprivatefoundedheadquartersnew ...\n",
       "1518  apache openwebbeansdeveloper s apache software...\n",
       "1085  numentatypeprivately heldindustryanalytics art...\n",
       "1986  in machine learning and natural language proce..."
      ]
     },
     "execution_count": 8,
     "metadata": {},
     "output_type": "execute_result"
    }
   ],
   "source": [
    "X.sample(5)"
   ]
  },
  {
   "cell_type": "code",
   "execution_count": 10,
   "metadata": {},
   "outputs": [
    {
     "data": {
      "text/html": [
       "<div>\n",
       "<table border=\"1\" class=\"dataframe\">\n",
       "  <thead>\n",
       "    <tr style=\"text-align: right;\">\n",
       "      <th></th>\n",
       "      <th>pid</th>\n",
       "      <th>text</th>\n",
       "      <th>title</th>\n",
       "    </tr>\n",
       "  </thead>\n",
       "  <tbody>\n",
       "    <tr>\n",
       "      <th>2051</th>\n",
       "      <td>20027065</td>\n",
       "      <td>the structured support vector machine is a mac...</td>\n",
       "      <td>structured support vector machine</td>\n",
       "    </tr>\n",
       "    <tr>\n",
       "      <th>1422</th>\n",
       "      <td>9452661</td>\n",
       "      <td>tom clancy s ruthless comdeveloper s red storm...</td>\n",
       "      <td>tom clancy s ruthless com</td>\n",
       "    </tr>\n",
       "    <tr>\n",
       "      <th>1375</th>\n",
       "      <td>19172663</td>\n",
       "      <td>enns redirects here for other uses see enns t...</td>\n",
       "      <td>european neural network society</td>\n",
       "    </tr>\n",
       "    <tr>\n",
       "      <th>2418</th>\n",
       "      <td>36494971</td>\n",
       "      <td>this article is an orphan as no other articles...</td>\n",
       "      <td>mexican international conference on artificial...</td>\n",
       "    </tr>\n",
       "    <tr>\n",
       "      <th>1175</th>\n",
       "      <td>8220913</td>\n",
       "      <td>this article is about the neural network for o...</td>\n",
       "      <td>adaline</td>\n",
       "    </tr>\n",
       "  </tbody>\n",
       "</table>\n",
       "</div>"
      ],
      "text/plain": [
       "           pid                                               text  \\\n",
       "2051  20027065  the structured support vector machine is a mac...   \n",
       "1422   9452661  tom clancy s ruthless comdeveloper s red storm...   \n",
       "1375  19172663   enns redirects here for other uses see enns t...   \n",
       "2418  36494971  this article is an orphan as no other articles...   \n",
       "1175   8220913  this article is about the neural network for o...   \n",
       "\n",
       "                                                  title  \n",
       "2051                  structured support vector machine  \n",
       "1422                          tom clancy s ruthless com  \n",
       "1375                    european neural network society  \n",
       "2418  mexican international conference on artificial...  \n",
       "1175                                            adaline  "
      ]
     },
     "execution_count": 10,
     "metadata": {},
     "output_type": "execute_result"
    }
   ],
   "source": [
    "query = '''\n",
    "SELECT * \n",
    "FROM page\n",
    "'''\n",
    "page = db.query_to_dataframe(query)\n",
    "page.sample(5)"
   ]
  },
  {
   "cell_type": "code",
   "execution_count": 13,
   "metadata": {
    "collapsed": true
   },
   "outputs": [
    {
     "data": {
      "text/plain": [
       "0       user custintelmngt sandbox customer intelligen...\n",
       "1                                                   timit\n",
       "2           microsoft dynamics for finance and operations\n",
       "3                                          tag management\n",
       "4                                 milestones professional\n",
       "5                                        data exploration\n",
       "6                                dimensionality reduction\n",
       "7                                  microsoft dynamics erp\n",
       "8                                  team foundation server\n",
       "9                                                netpoint\n",
       "10         list of datasets for machine learning research\n",
       "11                      canonical correspondence analysis\n",
       "12                                    millennium software\n",
       "13                                               teamnote\n",
       "14                                               omniplan\n",
       "15                                       machine learning\n",
       "16                                correspondence analysis\n",
       "17                                          mindbody inc \n",
       "18                                                teamwox\n",
       "19                                           onepager pro\n",
       "20                            outline of machine learning\n",
       "21                      detrended correspondence analysis\n",
       "22                     mobile enterprise asset management\n",
       "23                       test automation management tools\n",
       "24                                             onlyoffice\n",
       "25                                       accuracy paradox\n",
       "26                                            elastic map\n",
       "27                                 mobile file management\n",
       "28                                          tom s planner\n",
       "29                                    oracle applications\n",
       "                              ...                        \n",
       "2757                              meeting scheduling tool\n",
       "2758                                  wolfram mathematica\n",
       "2759                                                 mcve\n",
       "2760                                       quip software \n",
       "2761                                   metacommunications\n",
       "2762                                              xgboost\n",
       "2763                                           media fone\n",
       "2764                                   rational clearcase\n",
       "2765                                  microplanner x pert\n",
       "2766                                             yooreeka\n",
       "2767                              meeting scheduling tool\n",
       "2768                                        resource guru\n",
       "2769            microsoft office project portfolio server\n",
       "2770                                     zeroth software \n",
       "2771                                      metis software \n",
       "2772                                             samepage\n",
       "2773                                    microsoft planner\n",
       "2774       list of datasets for machine learning research\n",
       "2775                                   microsoft dynamics\n",
       "2776                                              sipxecs\n",
       "2777                                    microsoft project\n",
       "2778                                 arabic speech corpus\n",
       "2779                                      slack software \n",
       "2780                             microsoft project server\n",
       "2781                                          spaces app \n",
       "2782                                 iris flower data set\n",
       "2783                               symphony communication\n",
       "2784                                persian speech corpus\n",
       "2785                                             test set\n",
       "2786                                  synovel collabsuite\n",
       "Name: title, dtype: object"
      ]
     },
     "execution_count": 13,
     "metadata": {},
     "output_type": "execute_result"
    }
   ],
   "source": [
    "page['title'].apply(lambda x : fy.text_cleaner(x))"
   ]
  },
  {
   "cell_type": "markdown",
   "metadata": {},
   "source": [
    "### Setup Latent Semantic Analysis - Article Modeling"
   ]
  },
  {
   "cell_type": "markdown",
   "metadata": {},
   "source": [
    "![](http://interactive.blockdiag.com/image?compression=deflate&encoding=base64&src=eJxLyslPzk7JTExXqOZSUFAqSixXSEksSVRS0LVTUCpILCpOhTCTc1IT85SsQWogTLBoSGpRrq5LfnJpbmpeiUJMnm9iSVFmBUQZDjmwvuAwFwjDM68ktaigKBWkICi1uDSnpBiouxYAYKwuOg)"
   ]
  },
  {
   "cell_type": "code",
   "execution_count": 14,
   "metadata": {
    "collapsed": true
   },
   "outputs": [],
   "source": [
    "from sklearn.feature_extraction.text import CountVectorizer, TfidfVectorizer, TfidfTransformer\n",
    "from sklearn.decomposition import TruncatedSVD\n",
    "from sklearn.naive_bayes import MultinomialNB\n",
    "from sklearn.pipeline import Pipeline\n",
    "from sklearn.metrics.pairwise import cosine_similarity"
   ]
  },
  {
   "cell_type": "markdown",
   "metadata": {},
   "source": [
    "#### 1. Vetorize the Search Term and the Corpus (X['text'])"
   ]
  },
  {
   "cell_type": "code",
   "execution_count": 12,
   "metadata": {
    "collapsed": true
   },
   "outputs": [],
   "source": [
    "def tfidf_vectorizer (search_query, min_df=1):\n",
    "    tfidf_vec = TfidfVectorizer(stop_words = 'english', min_df=min_df)\n",
    "    doc_term_matrix = tfidf_vec.fit_transform(X['text'])\n",
    "    search_query_vec = tfidf_vec.transform([search_query])\n",
    "    return doc_term_matrix, search_query_vec"
   ]
  },
  {
   "cell_type": "markdown",
   "metadata": {},
   "source": [
    "#### 2. Use SVD to reduce dimensionality for the sparse document matrix"
   ]
  },
  {
   "cell_type": "code",
   "execution_count": 13,
   "metadata": {
    "collapsed": true
   },
   "outputs": [],
   "source": [
    "def SVD_lsa (search_query, n_components=300, min_df=1):\n",
    "    SVD = TruncatedSVD(n_components=n_components)\n",
    "    doc_term_matrix, search_query_vec = tfidf_vectorizer (search_query, min_df = min_df)\n",
    "    \n",
    "    lsa_doc_term = SVD.fit_transform(doc_term_matrix)\n",
    "    search_query_lsa = SVD.transform(search_query_vec)\n",
    "    \n",
    "    return lsa_doc_term, search_query_lsa"
   ]
  },
  {
   "cell_type": "markdown",
   "metadata": {},
   "source": [
    "#### 3. Apply sklearn's cosine_similiarity to return article matches for the given search term"
   ]
  },
  {
   "cell_type": "code",
   "execution_count": 27,
   "metadata": {},
   "outputs": [
    {
     "data": {
      "text/plain": [
       "(2787, 1)"
      ]
     },
     "execution_count": 27,
     "metadata": {},
     "output_type": "execute_result"
    }
   ],
   "source": [
    "X.shape # corpus"
   ]
  },
  {
   "cell_type": "code",
   "execution_count": 15,
   "metadata": {
    "collapsed": true
   },
   "outputs": [],
   "source": [
    "def grab_related_articles (search_query, n_results=5, n_components = 300, min_df=1):\n",
    "    lsa_doc_term, search_query_lsa = SVD_lsa(search_query, n_components=n_components, min_df=min_df)\n",
    "    cos_sim_arr = cosine_similarity(lsa_doc_term, search_query_lsa).ravel()\n",
    "    \n",
    "    first_term = -1*(n_results) - 1 \n",
    "    indices = np.argsort(cos_sim_arr)[:first_term: -1]\n",
    "    \n",
    "    related_articles = list(page['title'].iloc[indices])\n",
    "    return related_articles   "
   ]
  },
  {
   "cell_type": "code",
   "execution_count": 51,
   "metadata": {
    "scrolled": false
   },
   "outputs": [
    {
     "data": {
      "text/plain": [
       "['oracle applications',\n",
       " 'oracle corporation',\n",
       " 'oracle soa suite',\n",
       " 'oracle application server',\n",
       " 'oracle fusion middleware',\n",
       " 'oracle enterprise resource planning cloud',\n",
       " 'oracle reports',\n",
       " 'oracle fusion applications',\n",
       " 'oracle fusion architecture',\n",
       " 'oracle policy automation',\n",
       " 'oracle beehive',\n",
       " 'oracle health sciences',\n",
       " 'proactive learning',\n",
       " 'oracle data mining',\n",
       " 'peoplesoft',\n",
       " 'oracle webcenter',\n",
       " 'hyperion planning',\n",
       " 'netsuite',\n",
       " 'oracle bi publisher',\n",
       " 'oracle weblogic server']"
      ]
     },
     "execution_count": 51,
     "metadata": {},
     "output_type": "execute_result"
    }
   ],
   "source": [
    "grab_related_articles(\"oracle\", n_results=20, n_components=400, min_df=2)"
   ]
  },
  {
   "cell_type": "markdown",
   "metadata": {},
   "source": [
    "### 4.A Write functions to perform this on all types of search queries\n",
    "#### 4.B Write a class to run these different steps \n",
    "    - tfidf (vectorize search term & create vectorized document)\n",
    "    - lsa (complete lsa)\n",
    "    - return the 5 most relevant articles (use a method like cosine similiarty, nearest neighbor if I have time to compare)\n",
    "#### 4.C Build a model pipeline to predict which Wikipedia articles are most relevant for the search query"
   ]
  },
  {
   "cell_type": "code",
   "execution_count": null,
   "metadata": {
    "collapsed": true
   },
   "outputs": [],
   "source": [
    "class tfidf_lsa:\n",
    "    \n",
    "    def __init__(self):\n",
    "        \n",
    "    def tfdif_vectorizor:\n",
    "        \n",
    "        \n",
    "        "
   ]
  },
  {
   "cell_type": "code",
   "execution_count": null,
   "metadata": {
    "collapsed": true
   },
   "outputs": [],
   "source": []
  },
  {
   "cell_type": "code",
   "execution_count": null,
   "metadata": {
    "collapsed": true
   },
   "outputs": [],
   "source": []
  },
  {
   "cell_type": "code",
   "execution_count": 4,
   "metadata": {
    "collapsed": true
   },
   "outputs": [],
   "source": [
    "def tokenize (text):\n",
    "    clean_text = text_cleaner(text)\n",
    "    return clean_text.lower().split()"
   ]
  },
  {
   "cell_type": "code",
   "execution_count": 6,
   "metadata": {
    "collapsed": true
   },
   "outputs": [],
   "source": [
    "tfidf_vectorizer = TfidfVectorizer(min_df = 1, stop_words = 'english')"
   ]
  },
  {
   "cell_type": "code",
   "execution_count": null,
   "metadata": {
    "collapsed": true
   },
   "outputs": [],
   "source": []
  }
 ],
 "metadata": {
  "kernelspec": {
   "display_name": "Python 3",
   "language": "python",
   "name": "python3"
  },
  "language_info": {
   "codemirror_mode": {
    "name": "ipython",
    "version": 3
   },
   "file_extension": ".py",
   "mimetype": "text/x-python",
   "name": "python",
   "nbconvert_exporter": "python",
   "pygments_lexer": "ipython3",
   "version": "3.5.2"
  }
 },
 "nbformat": 4,
 "nbformat_minor": 2
}
