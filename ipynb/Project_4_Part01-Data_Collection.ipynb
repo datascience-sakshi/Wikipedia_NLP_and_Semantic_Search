{
 "cells": [
  {
   "cell_type": "markdown",
   "metadata": {},
   "source": [
    "# Semantic Search"
   ]
  },
  {
   "cell_type": "markdown",
   "metadata": {},
   "source": [
    "## The Task\n",
    "The task has three parts -- data collection, data exploration / algorithm development, then finally predictive modeling.\n",
    "\n",
    "![](http://interactive.blockdiag.com/image?compression=deflate&encoding=base64&src=eJxdjrsOwjAMRXe-wlsmRhaQkDoiMSDxBW5slahtHDmGCiH-nfQxtKy-59zruhPfUsAGPjsA56XvMdIRSIbYCZKD_RncENqQuGBQ3S7TidCwxsynjZUZ1T8m4HqvJlXZnhrBJMHBbWlTDHEeSFravYUXQy_E3TKrwbioMKb5z16UmRxfXZurVY_GjegbhqJIjaXm-wNmzE4W)"
   ]
  },
  {
   "cell_type": "markdown",
   "metadata": {},
   "source": [
    "### Part I - Data Collection"
   ]
  },
  {
   "cell_type": "markdown",
   "metadata": {},
   "source": [
    "Query the wikipedia API and **collect all of the articles** under the following wikipedia categories:\n",
    "* [Machine Learning](https://en.wikipedia.org/wiki/Category:Machine_learning)\n",
    "* [Business Software](https://en.wikipedia.org/wiki/Category:Business_software)\n",
    "\n",
    "The code should be modular enough that any valid category from Wikipedia can be queried by the code.\n",
    "\n",
    "The results of the query should be written to PostgreSQL tables, `page` and `category`. \n",
    "Build some sort of reference between the pages and categories. \n",
    "(Keep in mind that a page can have many categories and a category can have many pages so a straight foreign key arrangement will not work.)"
   ]
  },
  {
   "cell_type": "code",
   "execution_count": null,
   "metadata": {},
   "outputs": [],
   "source": [
    "!pip install wikipedia"
   ]
  },
  {
   "cell_type": "code",
   "execution_count": 2,
   "metadata": {
    "collapsed": true
   },
   "outputs": [],
   "source": [
    "import wikipedia\n",
    "import requests\n",
    "from bs4 import BeautifulSoup\n",
    "import pandas as pd\n",
    "import numpy as np\n",
    "import re\n",
    "import string"
   ]
  },
  {
   "cell_type": "code",
   "execution_count": 3,
   "metadata": {
    "collapsed": true
   },
   "outputs": [],
   "source": [
    "# write a function to jsonify the category names for a category page\n",
    "\n",
    "def jsonify_wiki_category (category_name): \n",
    "    '''\n",
    "    Insert category name as a string, note that this is case sensitive\n",
    "    Make sure to import requests \n",
    "    Make sure to import pandas \n",
    "    '''\n",
    "    base_url = 'https://en.wikipedia.org/w/api.php'\n",
    "    action = '?action=query'\n",
    "    parameters = '&list=categorymembers' + '&cmtitle='\n",
    "    params = '&cmlimit=max'\n",
    "    form = '&format=json'\n",
    "    \n",
    "    category_name_url = base_url + action + parameters + category_name + params + form\n",
    "    category_name_response = requests.get(category_name_url)\n",
    "    category_name_json = category_name_response.json()\n",
    "    return category_name_json\n",
    "    "
   ]
  },
  {
   "cell_type": "code",
   "execution_count": 4,
   "metadata": {},
   "outputs": [],
   "source": [
    "def dfize_category_names (category_name):\n",
    "    '''\n",
    "    takes a category name formatted as 'Category:_____'\n",
    "    '''\n",
    "    category_name_json = jsonify_wiki_category(category_name)\n",
    "    category_name_df = pd.DataFrame(category_name_json['query']['categorymembers'])\n",
    "    category_name_df['category'] = [category_name for pageid in category_name_df['pageid'] if pageid!=0]\n",
    "    \n",
    "    return category_name_df"
   ]
  },
  {
   "cell_type": "code",
   "execution_count": 5,
   "metadata": {
    "collapsed": true
   },
   "outputs": [],
   "source": [
    "def dfize_cat_articles_only (category_name):\n",
    "    category_name_df = dfize_category_names(category_name)\n",
    "    articles_list = []\n",
    "    \n",
    "    category_mask = category_name_df['title'].str.contains('Category:')\n",
    "    articles_df = category_name_df[~category_mask]\n",
    "    articles_list.append(articles_df)\n",
    "    article_titles_list = articles_df['title'].tolist()\n",
    "    \n",
    "    return articles_df"
   ]
  },
  {
   "cell_type": "code",
   "execution_count": 6,
   "metadata": {},
   "outputs": [],
   "source": [
    "ml_df = dfize_cat_articles_only('Category:Machine_learning')"
   ]
  },
  {
   "cell_type": "code",
   "execution_count": 7,
   "metadata": {},
   "outputs": [
    {
     "data": {
      "text/plain": [
       "(198, 4)"
      ]
     },
     "execution_count": 7,
     "metadata": {},
     "output_type": "execute_result"
    }
   ],
   "source": [
    "ml_df.shape"
   ]
  },
  {
   "cell_type": "code",
   "execution_count": 8,
   "metadata": {},
   "outputs": [],
   "source": [
    "bs_df = dfize_cat_articles_only('Category:Business_software')"
   ]
  },
  {
   "cell_type": "code",
   "execution_count": 9,
   "metadata": {},
   "outputs": [
    {
     "data": {
      "text/plain": [
       "(298, 4)"
      ]
     },
     "execution_count": 9,
     "metadata": {},
     "output_type": "execute_result"
    }
   ],
   "source": [
    "bs_df.shape"
   ]
  },
  {
   "cell_type": "code",
   "execution_count": 10,
   "metadata": {
    "collapsed": true
   },
   "outputs": [],
   "source": [
    "def list_subcategories (category_name):\n",
    "    category_name_df = dfize_category_names(category_name)\n",
    "    subcat_list = []\n",
    "    \n",
    "    category_mask = category_name_df['title'].str.contains('Category:')\n",
    "    subcat_df = category_name_df[category_mask]\n",
    "    subcat_list.append(subcat_df)\n",
    "    #category_name_df = pd.concat(subcat_list)\n",
    "    subcat_list = subcat_df['title'].tolist()\n",
    "    \n",
    "    return subcat_list"
   ]
  },
  {
   "cell_type": "code",
   "execution_count": 11,
   "metadata": {
    "collapsed": true
   },
   "outputs": [],
   "source": [
    "def dfize_subcategory_article (category_name):\n",
    "    subcat_list = list_subcategories(category_name)\n",
    "    subcat_temp = []\n",
    "    \n",
    "    for subcat in subcat_list:\n",
    "        df = dfize_category_names(subcat)\n",
    "        category_mask = df['title'].str.contains('Category:')\n",
    "        \n",
    "        df_articles_only = df[~category_mask]\n",
    "        \n",
    "        subcat_temp.append(df_articles_only)\n",
    "        df = pd.concat(subcat_temp)    \n",
    "\n",
    "    return df\n",
    "    "
   ]
  },
  {
   "cell_type": "code",
   "execution_count": 12,
   "metadata": {},
   "outputs": [],
   "source": [
    "ml_subcat_df = dfize_subcategory_article('Category:Machine_learning')"
   ]
  },
  {
   "cell_type": "code",
   "execution_count": 13,
   "metadata": {},
   "outputs": [
    {
     "data": {
      "text/plain": [
       "(826, 4)"
      ]
     },
     "execution_count": 13,
     "metadata": {},
     "output_type": "execute_result"
    }
   ],
   "source": [
    "ml_subcat_df.shape"
   ]
  },
  {
   "cell_type": "code",
   "execution_count": 14,
   "metadata": {},
   "outputs": [
    {
     "data": {
      "text/plain": [
       "ns                                                  0\n",
       "pageid                                       32003319\n",
       "title       (1+ε)-approximate nearest neighbor search\n",
       "category           Category:Classification algorithms\n",
       "Name: 0, dtype: object"
      ]
     },
     "execution_count": 14,
     "metadata": {},
     "output_type": "execute_result"
    }
   ],
   "source": [
    "ml_subcat_df.iloc[174]"
   ]
  },
  {
   "cell_type": "code",
   "execution_count": 15,
   "metadata": {
    "collapsed": true
   },
   "outputs": [],
   "source": [
    "title_mask = ml_subcat_df['title'] == '(1+ε)-approximate nearest neighbor search'"
   ]
  },
  {
   "cell_type": "code",
   "execution_count": 16,
   "metadata": {},
   "outputs": [],
   "source": [
    "ml_subcat_clean_df = ml_subcat_df[~title_mask]"
   ]
  },
  {
   "cell_type": "code",
   "execution_count": 17,
   "metadata": {},
   "outputs": [],
   "source": [
    "ml_subcat_clean_df = ml_subcat_clean_df[~(ml_subcat_clean_df['title'] == 'MLPACK (C++ library)')]"
   ]
  },
  {
   "cell_type": "code",
   "execution_count": 18,
   "metadata": {},
   "outputs": [
    {
     "data": {
      "text/plain": [
       "(824, 4)"
      ]
     },
     "execution_count": 18,
     "metadata": {},
     "output_type": "execute_result"
    }
   ],
   "source": [
    "ml_subcat_clean_df.shape"
   ]
  },
  {
   "cell_type": "code",
   "execution_count": 19,
   "metadata": {},
   "outputs": [],
   "source": [
    "bs_subcat_df = dfize_subcategory_article('Category:Business software')"
   ]
  },
  {
   "cell_type": "code",
   "execution_count": 20,
   "metadata": {},
   "outputs": [
    {
     "data": {
      "text/plain": [
       "(1465, 4)"
      ]
     },
     "execution_count": 20,
     "metadata": {},
     "output_type": "execute_result"
    }
   ],
   "source": [
    "bs_subcat_df.shape"
   ]
  },
  {
   "cell_type": "code",
   "execution_count": 21,
   "metadata": {
    "collapsed": true
   },
   "outputs": [],
   "source": [
    "# write a function that jsonifies the articles\n",
    "\n",
    "def jsonify_wiki_article (article_name): \n",
    "    '''\n",
    "    Insert category name as a string, note that this is case sensitive\n",
    "    Make sure to import requests first before using this functiona\n",
    "    '''\n",
    "    base_url = 'https://en.wikipedia.org/w/api.php'\n",
    "    action = '?action=parse'\n",
    "    prop = '&page='\n",
    "    form = '&format=json'\n",
    "    \n",
    "    article_name_url = base_url + action + prop + article_name + form\n",
    "    article_name_response = requests.get(article_name_url)\n",
    "    article_name_json = article_name_response.json()\n",
    "    return article_name_json\n",
    "    "
   ]
  },
  {
   "cell_type": "code",
   "execution_count": 63,
   "metadata": {},
   "outputs": [],
   "source": [
    "# get the article in html format\n",
    "\n",
    "def htmlify_wiki_article (article_name):\n",
    "    article_name_json = jsonify_wiki_article(article_name)\n",
    "    article_name_html = article_name_json['parse']['text']['*'] if not article_name_json.get('error') else ''\n",
    "    return article_name_html"
   ]
  },
  {
   "cell_type": "code",
   "execution_count": 64,
   "metadata": {
    "collapsed": true
   },
   "outputs": [],
   "source": [
    "# run beautiful soup on the html format to do a 1st pass at cleaning the html to just text\n",
    "\n",
    "def beautify_html_article (article_name):\n",
    "    article_name_html = htmlify_wiki_article(article_name)\n",
    "    soup = BeautifulSoup(article_name_html, 'html.parser')\n",
    "    article_text = soup.get_text().replace('\\n', '')\n",
    "    return article_text"
   ]
  },
  {
   "cell_type": "code",
   "execution_count": 62,
   "metadata": {},
   "outputs": [
    {
     "data": {
      "text/plain": [
       "{'error': {'*': 'See https://en.wikipedia.org/w/api.php for API usage. Subscribe to the mediawiki-api-announce mailing list at &lt;https://lists.wikimedia.org/mailman/listinfo/mediawiki-api-announce&gt; for notice of API deprecations and breaking changes.',\n",
       "  'code': 'missingtitle',\n",
       "  'info': \"The page you specified doesn't exist.\"},\n",
       " 'servedby': 'mw1289'}"
      ]
     },
     "execution_count": 62,
     "metadata": {},
     "output_type": "execute_result"
    }
   ],
   "source": [
    "jsonify_wiki_article('(1+ε)-approximate nearest neighbor search')"
   ]
  },
  {
   "cell_type": "code",
   "execution_count": 65,
   "metadata": {
    "scrolled": true
   },
   "outputs": [
    {
     "data": {
      "text/plain": [
       "''"
      ]
     },
     "execution_count": 65,
     "metadata": {},
     "output_type": "execute_result"
    }
   ],
   "source": [
    "beautify_html_article('(1+ε)-approximate nearest neighbor search')"
   ]
  },
  {
   "cell_type": "code",
   "execution_count": 24,
   "metadata": {
    "collapsed": true
   },
   "outputs": [],
   "source": [
    "ml_article_content = []\n",
    "\n",
    "for article in ml_df['title'].tolist():\n",
    "    page = beautify_html_article(article)\n",
    "    ml_article_content.append(page)"
   ]
  },
  {
   "cell_type": "code",
   "execution_count": 25,
   "metadata": {
    "collapsed": true
   },
   "outputs": [],
   "source": [
    "ml_df['text'] = ml_article_content"
   ]
  },
  {
   "cell_type": "code",
   "execution_count": 26,
   "metadata": {},
   "outputs": [],
   "source": [
    "bs_article_content = []\n",
    "\n",
    "for article in bs_df['title'].tolist():\n",
    "    page = beautify_html_article(article)\n",
    "    bs_article_content.append(page)"
   ]
  },
  {
   "cell_type": "code",
   "execution_count": 27,
   "metadata": {
    "collapsed": true
   },
   "outputs": [],
   "source": [
    "bs_df['text'] = bs_article_content"
   ]
  },
  {
   "cell_type": "code",
   "execution_count": 66,
   "metadata": {
    "scrolled": false
   },
   "outputs": [],
   "source": [
    "ml_subcat_article_content = []\n",
    "\n",
    "for article in ml_subcat_df['title'].tolist()[:400]:\n",
    "    page = beautify_html_article(article)\n",
    "    ml_subcat_article_content.append(page)"
   ]
  },
  {
   "cell_type": "code",
   "execution_count": 67,
   "metadata": {
    "collapsed": true
   },
   "outputs": [],
   "source": [
    "for article in ml_subcat_df['title'].tolist()[400:600]:\n",
    "    page = beautify_html_article(article)\n",
    "    ml_subcat_article_content.append(page)"
   ]
  },
  {
   "cell_type": "code",
   "execution_count": 68,
   "metadata": {},
   "outputs": [],
   "source": [
    "for article in ml_subcat_df['title'].tolist()[600:]:\n",
    "    page = beautify_html_article(article)\n",
    "    ml_subcat_article_content.append(page)"
   ]
  },
  {
   "cell_type": "code",
   "execution_count": 69,
   "metadata": {},
   "outputs": [
    {
     "data": {
      "text/plain": [
       "826"
      ]
     },
     "execution_count": 69,
     "metadata": {},
     "output_type": "execute_result"
    }
   ],
   "source": [
    "len(ml_subcat_article_content)"
   ]
  },
  {
   "cell_type": "code",
   "execution_count": 71,
   "metadata": {},
   "outputs": [],
   "source": [
    "ml_subcat_df['text'] = ml_subcat_article_content"
   ]
  },
  {
   "cell_type": "code",
   "execution_count": 72,
   "metadata": {},
   "outputs": [
    {
     "data": {
      "text/html": [
       "<div>\n",
       "<table border=\"1\" class=\"dataframe\">\n",
       "  <thead>\n",
       "    <tr style=\"text-align: right;\">\n",
       "      <th></th>\n",
       "      <th>ns</th>\n",
       "      <th>pageid</th>\n",
       "      <th>title</th>\n",
       "      <th>category</th>\n",
       "      <th>text</th>\n",
       "    </tr>\n",
       "  </thead>\n",
       "  <tbody>\n",
       "    <tr>\n",
       "      <th>0</th>\n",
       "      <td>0</td>\n",
       "      <td>15795950</td>\n",
       "      <td>Activity recognition</td>\n",
       "      <td>Category:Applied machine learning</td>\n",
       "      <td>Activity recognition aims to recognize the act...</td>\n",
       "    </tr>\n",
       "    <tr>\n",
       "      <th>1</th>\n",
       "      <td>0</td>\n",
       "      <td>41916168</td>\n",
       "      <td>AlchemyAPI</td>\n",
       "      <td>Category:Applied machine learning</td>\n",
       "      <td>AlchemyAPITypeSubsidiaryIndustrynatural langua...</td>\n",
       "    </tr>\n",
       "    <tr>\n",
       "      <th>2</th>\n",
       "      <td>0</td>\n",
       "      <td>53631046</td>\n",
       "      <td>Caffe (software)</td>\n",
       "      <td>Category:Applied machine learning</td>\n",
       "      <td>CaffeOriginal author(s)Yangqing JiaDeveloper(s...</td>\n",
       "    </tr>\n",
       "    <tr>\n",
       "      <th>3</th>\n",
       "      <td>0</td>\n",
       "      <td>49119569</td>\n",
       "      <td>Comparison of deep learning software</td>\n",
       "      <td>Category:Applied machine learning</td>\n",
       "      <td>The following table compares some of the most ...</td>\n",
       "    </tr>\n",
       "    <tr>\n",
       "      <th>4</th>\n",
       "      <td>0</td>\n",
       "      <td>41916447</td>\n",
       "      <td>Cortica</td>\n",
       "      <td>Category:Applied machine learning</td>\n",
       "      <td>Cortica In Every ImageHeadquartered in Tel Avi...</td>\n",
       "    </tr>\n",
       "  </tbody>\n",
       "</table>\n",
       "</div>"
      ],
      "text/plain": [
       "   ns    pageid                                 title  \\\n",
       "0   0  15795950                  Activity recognition   \n",
       "1   0  41916168                            AlchemyAPI   \n",
       "2   0  53631046                      Caffe (software)   \n",
       "3   0  49119569  Comparison of deep learning software   \n",
       "4   0  41916447                               Cortica   \n",
       "\n",
       "                            category  \\\n",
       "0  Category:Applied machine learning   \n",
       "1  Category:Applied machine learning   \n",
       "2  Category:Applied machine learning   \n",
       "3  Category:Applied machine learning   \n",
       "4  Category:Applied machine learning   \n",
       "\n",
       "                                                text  \n",
       "0  Activity recognition aims to recognize the act...  \n",
       "1  AlchemyAPITypeSubsidiaryIndustrynatural langua...  \n",
       "2  CaffeOriginal author(s)Yangqing JiaDeveloper(s...  \n",
       "3  The following table compares some of the most ...  \n",
       "4  Cortica In Every ImageHeadquartered in Tel Avi...  "
      ]
     },
     "execution_count": 72,
     "metadata": {},
     "output_type": "execute_result"
    }
   ],
   "source": [
    "ml_subcat_df.head()"
   ]
  },
  {
   "cell_type": "code",
   "execution_count": 73,
   "metadata": {},
   "outputs": [
    {
     "data": {
      "text/plain": [
       "(826, 5)"
      ]
     },
     "execution_count": 73,
     "metadata": {},
     "output_type": "execute_result"
    }
   ],
   "source": [
    "ml_subcat_df.shape"
   ]
  },
  {
   "cell_type": "code",
   "execution_count": null,
   "metadata": {
    "collapsed": true
   },
   "outputs": [],
   "source": []
  },
  {
   "cell_type": "code",
   "execution_count": null,
   "metadata": {
    "collapsed": true
   },
   "outputs": [],
   "source": []
  },
  {
   "cell_type": "code",
   "execution_count": 36,
   "metadata": {},
   "outputs": [],
   "source": [
    "bs_subcat_clean_df = bs_subcat_df[~(bs_subcat_df['title'] == 'Port Royale 3: Pirates & Merchants')\n",
    "                                  & ~(bs_subcat_df['title'] == 'Cloud28+') \n",
    "                                  & ~(bs_subcat_df['title'] == 'GE Automation & Controls') \n",
    "                                  & ~(bs_subcat_df['title'] == 'SimpleRisk')]"
   ]
  },
  {
   "cell_type": "code",
   "execution_count": 37,
   "metadata": {},
   "outputs": [
    {
     "data": {
      "text/plain": [
       "(1462, 4)"
      ]
     },
     "execution_count": 37,
     "metadata": {},
     "output_type": "execute_result"
    }
   ],
   "source": [
    "bs_subcat_clean_df.shape"
   ]
  },
  {
   "cell_type": "code",
   "execution_count": 74,
   "metadata": {},
   "outputs": [],
   "source": [
    "bs_subcat_article_content = []\n",
    "\n",
    "for article in bs_subcat_df['title'].tolist()[:400]:\n",
    "    page = beautify_html_article(article)\n",
    "    bs_subcat_article_content.append(page)"
   ]
  },
  {
   "cell_type": "code",
   "execution_count": 76,
   "metadata": {},
   "outputs": [],
   "source": [
    "for article in bs_subcat_df['title'].tolist()[400:800]:\n",
    "    page = beautify_html_article(article)\n",
    "    bs_subcat_article_content.append(page)"
   ]
  },
  {
   "cell_type": "code",
   "execution_count": 77,
   "metadata": {
    "collapsed": true
   },
   "outputs": [],
   "source": [
    "for article in bs_subcat_df['title'].tolist()[800:1200]:\n",
    "    page = beautify_html_article(article)\n",
    "    bs_subcat_article_content.append(page)"
   ]
  },
  {
   "cell_type": "code",
   "execution_count": 78,
   "metadata": {
    "collapsed": true
   },
   "outputs": [],
   "source": [
    "for article in bs_subcat_df['title'].tolist()[1200:]:\n",
    "    page = beautify_html_article(article)\n",
    "    bs_subcat_article_content.append(page)"
   ]
  },
  {
   "cell_type": "code",
   "execution_count": 79,
   "metadata": {},
   "outputs": [
    {
     "data": {
      "text/plain": [
       "1465"
      ]
     },
     "execution_count": 79,
     "metadata": {},
     "output_type": "execute_result"
    }
   ],
   "source": [
    "len(bs_subcat_article_content)"
   ]
  },
  {
   "cell_type": "code",
   "execution_count": 80,
   "metadata": {
    "collapsed": true
   },
   "outputs": [],
   "source": [
    "bs_subcat_df['text'] = bs_subcat_article_content"
   ]
  },
  {
   "cell_type": "code",
   "execution_count": 81,
   "metadata": {},
   "outputs": [
    {
     "data": {
      "text/html": [
       "<div>\n",
       "<table border=\"1\" class=\"dataframe\">\n",
       "  <thead>\n",
       "    <tr style=\"text-align: right;\">\n",
       "      <th></th>\n",
       "      <th>ns</th>\n",
       "      <th>pageid</th>\n",
       "      <th>title</th>\n",
       "      <th>category</th>\n",
       "      <th>text</th>\n",
       "    </tr>\n",
       "  </thead>\n",
       "  <tbody>\n",
       "    <tr>\n",
       "      <th>0</th>\n",
       "      <td>0</td>\n",
       "      <td>26722741</td>\n",
       "      <td>1DayLater</td>\n",
       "      <td>Category:Administrative software</td>\n",
       "      <td>This article has multiple issues. Please help ...</td>\n",
       "    </tr>\n",
       "    <tr>\n",
       "      <th>1</th>\n",
       "      <td>0</td>\n",
       "      <td>11595731</td>\n",
       "      <td>Act! CRM</td>\n",
       "      <td>Category:Administrative software</td>\n",
       "      <td>This article has multiple issues. Please help ...</td>\n",
       "    </tr>\n",
       "    <tr>\n",
       "      <th>2</th>\n",
       "      <td>0</td>\n",
       "      <td>3277841</td>\n",
       "      <td>Appointment scheduling software</td>\n",
       "      <td>Category:Administrative software</td>\n",
       "      <td>This article needs additional citations for ve...</td>\n",
       "    </tr>\n",
       "    <tr>\n",
       "      <th>3</th>\n",
       "      <td>0</td>\n",
       "      <td>13589812</td>\n",
       "      <td>Child care management software</td>\n",
       "      <td>Category:Administrative software</td>\n",
       "      <td>Child care management software also referred t...</td>\n",
       "    </tr>\n",
       "    <tr>\n",
       "      <th>4</th>\n",
       "      <td>0</td>\n",
       "      <td>4102341</td>\n",
       "      <td>Church software</td>\n",
       "      <td>Category:Administrative software</td>\n",
       "      <td>Church software is any type of computer softwa...</td>\n",
       "    </tr>\n",
       "  </tbody>\n",
       "</table>\n",
       "</div>"
      ],
      "text/plain": [
       "   ns    pageid                            title  \\\n",
       "0   0  26722741                        1DayLater   \n",
       "1   0  11595731                         Act! CRM   \n",
       "2   0   3277841  Appointment scheduling software   \n",
       "3   0  13589812   Child care management software   \n",
       "4   0   4102341                  Church software   \n",
       "\n",
       "                           category  \\\n",
       "0  Category:Administrative software   \n",
       "1  Category:Administrative software   \n",
       "2  Category:Administrative software   \n",
       "3  Category:Administrative software   \n",
       "4  Category:Administrative software   \n",
       "\n",
       "                                                text  \n",
       "0  This article has multiple issues. Please help ...  \n",
       "1  This article has multiple issues. Please help ...  \n",
       "2  This article needs additional citations for ve...  \n",
       "3  Child care management software also referred t...  \n",
       "4  Church software is any type of computer softwa...  "
      ]
     },
     "execution_count": 81,
     "metadata": {},
     "output_type": "execute_result"
    }
   ],
   "source": [
    "bs_subcat_df.head()"
   ]
  },
  {
   "cell_type": "code",
   "execution_count": 82,
   "metadata": {},
   "outputs": [
    {
     "data": {
      "text/plain": [
       "(1465, 5)"
      ]
     },
     "execution_count": 82,
     "metadata": {},
     "output_type": "execute_result"
    }
   ],
   "source": [
    "bs_subcat_df.shape"
   ]
  }
 ],
 "metadata": {
  "kernelspec": {
   "display_name": "Python 3",
   "language": "python",
   "name": "python3"
  },
  "language_info": {
   "codemirror_mode": {
    "name": "ipython",
    "version": 3
   },
   "file_extension": ".py",
   "mimetype": "text/x-python",
   "name": "python",
   "nbconvert_exporter": "python",
   "pygments_lexer": "ipython3",
   "version": "3.5.2"
  }
 },
 "nbformat": 4,
 "nbformat_minor": 2
}
